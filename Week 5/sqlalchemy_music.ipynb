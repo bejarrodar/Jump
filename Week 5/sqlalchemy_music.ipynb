{
 "cells": [
  {
   "cell_type": "code",
   "execution_count": 14,
   "metadata": {},
   "outputs": [],
   "source": [
    "from sqlalchemy import create_engine, Column, Integer, String, Date, ForeignKey, MetaData\n",
    "from sqlalchemy.orm import declarative_base, relationship"
   ]
  },
  {
   "cell_type": "code",
   "execution_count": 18,
   "metadata": {},
   "outputs": [],
   "source": [
    "url = \"sqlite+pysqlite:///augpython.db\"\n",
    "engine = create_engine(url, future = True)"
   ]
  },
  {
   "cell_type": "code",
   "execution_count": 15,
   "metadata": {},
   "outputs": [],
   "source": [
    "meta_data = MetaData()"
   ]
  },
  {
   "cell_type": "code",
   "execution_count": 12,
   "metadata": {},
   "outputs": [],
   "source": [
    "Base = declarative_base()\n",
    "\n",
    "class Song(Base): \n",
    "    __tablename__ = \"song\"\n",
    "    song_id = Column(Integer, primary_key = True)\n",
    "    song_name = Column(String)\n",
    "    length_sec = Column(Integer)\n",
    "    album_id = Column(Integer, ForeignKey('album_artist.album_id'))\n",
    "\n",
    "    album = relationship('Album', back_populates='song')\n",
    "\n",
    "class Album(Base): \n",
    "    __tablename__ = 'album'\n",
    "    \n",
    "    album_id = Column(Integer, primary_key = True)\n",
    "    album_name = Column(String)\n",
    "    album_release = Column(Date)\n",
    "    genre = Column(String)\n",
    "\n",
    "    songs = relationship(\"Song\", back_populates='album')\n",
    "    artist = relationship(\"Album_Artist\", back_populates=\"album\")\n",
    "\n",
    "class Artist(Base): \n",
    "    __tablename__ = \"artist\"\n",
    "    artist_id = Column(Integer, primary_key = True)\n",
    "    artist_name = Column(String)\n",
    "\n",
    "    album = relationship(\"Album_Artist\", back_populates=\"artist\")\n",
    "\n",
    "class Album_Artist(Base): \n",
    "    __tablename__ = 'album_artist'\n",
    "    \n",
    "    album_id = Column(Integer, ForeignKey('artist.artist_id'), primary_key = True)\n",
    "    artist_id = Column(Integer, ForeignKey('album.album_id'), primary_key = True)\n",
    "\n",
    "    albums = relationship(\"Album\", back_populates=\"artist\")\n",
    "    artist = relationship(\"Artist\", back_populates=\"album\")\n",
    "\n"
   ]
  },
  {
   "cell_type": "code",
   "execution_count": 20,
   "metadata": {},
   "outputs": [],
   "source": [
    "meta_data.create_all(engine)"
   ]
  }
 ],
 "metadata": {
  "kernelspec": {
   "display_name": "Python 3.8.8 ('mysql_env': venv)",
   "language": "python",
   "name": "python3"
  },
  "language_info": {
   "codemirror_mode": {
    "name": "ipython",
    "version": 3
   },
   "file_extension": ".py",
   "mimetype": "text/x-python",
   "name": "python",
   "nbconvert_exporter": "python",
   "pygments_lexer": "ipython3",
   "version": "3.8.8"
  },
  "orig_nbformat": 4,
  "vscode": {
   "interpreter": {
    "hash": "cd0207fc4dd12c5064f8d4386d4cec413bd667f6bd9d706db1aeaab271be8c39"
   }
  }
 },
 "nbformat": 4,
 "nbformat_minor": 2
}
