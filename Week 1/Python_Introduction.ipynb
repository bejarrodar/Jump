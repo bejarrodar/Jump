{
 "cells": [
  {
   "cell_type": "code",
   "execution_count": null,
   "metadata": {
    "colab": {
     "base_uri": "https://localhost:8080/"
    },
    "id": "1er1REqA3zQu",
    "outputId": "618bbd18-a532-4b4f-e7aa-4834b029a06e"
   },
   "outputs": [
    {
     "name": "stdout",
     "output_type": "stream",
     "text": [
      "Hello World\n"
     ]
    }
   ],
   "source": [
    "print(\"Hello World\")"
   ]
  },
  {
   "cell_type": "code",
   "execution_count": null,
   "metadata": {
    "id": "i-n_JCW3LyVO"
   },
   "outputs": [],
   "source": [
    "x = \"Hello World\""
   ]
  },
  {
   "cell_type": "code",
   "execution_count": null,
   "metadata": {
    "id": "Cm5gbiReLmIg"
   },
   "outputs": [],
   "source": [
    "x = 10\n",
    "y = 20"
   ]
  },
  {
   "cell_type": "code",
   "execution_count": null,
   "metadata": {
    "colab": {
     "base_uri": "https://localhost:8080/",
     "height": 35
    },
    "id": "w6RHvILGLqH9",
    "outputId": "afce68a6-a9ed-460a-83c7-4c2bcb8d38f4"
   },
   "outputs": [
    {
     "data": {
      "application/vnd.google.colaboratory.intrinsic+json": {
       "type": "string"
      },
      "text/plain": [
       "'Hello World'"
      ]
     },
     "execution_count": 6,
     "metadata": {},
     "output_type": "execute_result"
    }
   ],
   "source": [
    "x"
   ]
  },
  {
   "cell_type": "code",
   "execution_count": null,
   "metadata": {
    "colab": {
     "base_uri": "https://localhost:8080/"
    },
    "id": "7jODorn9MuBk",
    "outputId": "879919dc-030c-4c41-a008-75ffc457a0c5"
   },
   "outputs": [
    {
     "name": "stdout",
     "output_type": "stream",
     "text": [
      "Hello\n",
      "Python\n"
     ]
    }
   ],
   "source": [
    "print(\"Hello\")\n",
    "# print(\"World\")\n",
    "print(\"Python\")"
   ]
  },
  {
   "cell_type": "code",
   "execution_count": null,
   "metadata": {
    "id": "Q_pTE66kNFCQ"
   },
   "outputs": [],
   "source": [
    "\"\"\"\n",
    "  This is a multi-line string\n",
    "  \n",
    "\"\"\""
   ]
  },
  {
   "cell_type": "code",
   "execution_count": null,
   "metadata": {
    "colab": {
     "base_uri": "https://localhost:8080/",
     "height": 53
    },
    "id": "QG9Wzw_5NlKB",
    "outputId": "8ec4722d-93c8-4ee3-8419-aa8d7c1e0e63"
   },
   "outputs": [
    {
     "name": "stdout",
     "output_type": "stream",
     "text": [
      "Hello\n"
     ]
    },
    {
     "data": {
      "application/vnd.google.colaboratory.intrinsic+json": {
       "type": "string"
      },
      "text/plain": [
       "'Hello'"
      ]
     },
     "execution_count": 9,
     "metadata": {},
     "output_type": "execute_result"
    }
   ],
   "source": [
    "x = \"Hello\"\n",
    "print(x)\n",
    "x"
   ]
  },
  {
   "cell_type": "code",
   "execution_count": null,
   "metadata": {
    "colab": {
     "base_uri": "https://localhost:8080/"
    },
    "id": "uqn6A8bAN8UQ",
    "outputId": "bb2b8cd4-edf2-48a7-ec1a-4a9f7ea3f2bb"
   },
   "outputs": [
    {
     "name": "stdout",
     "output_type": "stream",
     "text": [
      "Hello World\n"
     ]
    }
   ],
   "source": [
    "x = \"World\"\n",
    "print(\"Hello \" + x)"
   ]
  },
  {
   "cell_type": "code",
   "execution_count": null,
   "metadata": {
    "colab": {
     "base_uri": "https://localhost:8080/"
    },
    "id": "84BRJ_uWOAHY",
    "outputId": "e4d8a6e0-b6dc-404f-835c-afe19030b168"
   },
   "outputs": [
    {
     "name": "stdout",
     "output_type": "stream",
     "text": [
      "Hello  42\n"
     ]
    }
   ],
   "source": [
    "x = 42\n",
    "# print(\"Hello \" + x)\n",
    "print(\"Hello \", x)"
   ]
  },
  {
   "cell_type": "code",
   "execution_count": null,
   "metadata": {
    "colab": {
     "base_uri": "https://localhost:8080/",
     "height": 53
    },
    "id": "vj5Ga3byOnvm",
    "outputId": "a7095d80-833f-4b68-b0ff-e4b5353d38be"
   },
   "outputs": [
    {
     "name": "stdout",
     "output_type": "stream",
     "text": [
      "Enter your name: Python\n"
     ]
    },
    {
     "data": {
      "application/vnd.google.colaboratory.intrinsic+json": {
       "type": "string"
      },
      "text/plain": [
       "'Hello Python'"
      ]
     },
     "execution_count": 17,
     "metadata": {},
     "output_type": "execute_result"
    }
   ],
   "source": [
    "name = input(\"Enter your name: \")\n",
    "\"Hello \" + name"
   ]
  },
  {
   "cell_type": "markdown",
   "metadata": {
    "id": "pKeDVW8dRjX5"
   },
   "source": [
    "Exercise 1:"
   ]
  },
  {
   "cell_type": "code",
   "execution_count": null,
   "metadata": {
    "colab": {
     "base_uri": "https://localhost:8080/",
     "height": 89
    },
    "id": "bxqtD4gvRlIa",
    "outputId": "46a0c8f6-e9c4-41fd-a73a-e2f1ca50b038"
   },
   "outputs": [
    {
     "name": "stdout",
     "output_type": "stream",
     "text": [
      "Enter your name: Charles\n",
      "Enter your Age: 34\n",
      "Enter your profession: Python Developer\n"
     ]
    },
    {
     "data": {
      "application/vnd.google.colaboratory.intrinsic+json": {
       "type": "string"
      },
      "text/plain": [
       "'Name: Charles, Age: 34, Profession: Python Developer'"
      ]
     },
     "execution_count": 18,
     "metadata": {},
     "output_type": "execute_result"
    }
   ],
   "source": [
    "name = input(\"Enter your name: \")\n",
    "age  = input(\"Enter your Age: \")\n",
    "prof = input(\"Enter your profession: \")\n",
    "\"Name: \" + name + \", Age: \" + age + \", Profession: \" + prof"
   ]
  },
  {
   "cell_type": "code",
   "execution_count": null,
   "metadata": {
    "colab": {
     "base_uri": "https://localhost:8080/"
    },
    "id": "PGYXMP6TTV1r",
    "outputId": "0cee7c1f-c6df-4b01-f8b8-8b09a995ed33"
   },
   "outputs": [
    {
     "name": "stdout",
     "output_type": "stream",
     "text": [
      "Hello World\n",
      "42\n"
     ]
    }
   ],
   "source": [
    "x = \"Hello World\"\n",
    "print(x)\n",
    "x = 42\n",
    "print(x)"
   ]
  },
  {
   "cell_type": "code",
   "execution_count": null,
   "metadata": {
    "colab": {
     "base_uri": "https://localhost:8080/"
    },
    "id": "7-WY1-R7Tu1Y",
    "outputId": "69eeafc2-8cd9-433c-b749-deddf29099db"
   },
   "outputs": [
    {
     "name": "stdout",
     "output_type": "stream",
     "text": [
      "car bike train\n"
     ]
    }
   ],
   "source": [
    "x, y, z = [\"car\", \"bike\", \"train\"]\n",
    "print(x, y, z)"
   ]
  },
  {
   "cell_type": "code",
   "execution_count": null,
   "metadata": {
    "colab": {
     "base_uri": "https://localhost:8080/"
    },
    "id": "L39b0HTjUKfb",
    "outputId": "0cfad7e5-89fb-426c-8578-6299382650df"
   },
   "outputs": [
    {
     "name": "stdout",
     "output_type": "stream",
     "text": [
      "Python\n"
     ]
    }
   ],
   "source": [
    "myProgrammingLanguage = \"Python\"\n",
    "my_programming_language = \"Python\"\n",
    "print(my_programming_language)"
   ]
  },
  {
   "cell_type": "code",
   "execution_count": null,
   "metadata": {
    "colab": {
     "base_uri": "https://localhost:8080/"
    },
    "id": "97RyTvMvVO9u",
    "outputId": "fa60edc4-6449-4774-f954-94678142982b"
   },
   "outputs": [
    {
     "name": "stdout",
     "output_type": "stream",
     "text": [
      "True False\n"
     ]
    }
   ],
   "source": [
    "print(True, False)"
   ]
  },
  {
   "cell_type": "code",
   "execution_count": null,
   "metadata": {
    "colab": {
     "base_uri": "https://localhost:8080/"
    },
    "id": "CkmN67nlVnK6",
    "outputId": "d8546b0e-031d-4fef-eb40-45d028311131"
   },
   "outputs": [
    {
     "data": {
      "text/plain": [
       "True"
      ]
     },
     "execution_count": 26,
     "metadata": {},
     "output_type": "execute_result"
    }
   ],
   "source": [
    "10 > 5"
   ]
  },
  {
   "cell_type": "code",
   "execution_count": null,
   "metadata": {
    "colab": {
     "base_uri": "https://localhost:8080/"
    },
    "id": "oGRc4f-qVplF",
    "outputId": "9d762f3d-e04c-430a-e7fc-5f6078c49624"
   },
   "outputs": [
    {
     "name": "stdout",
     "output_type": "stream",
     "text": [
      "True\n",
      "True\n",
      "True\n",
      "True\n"
     ]
    }
   ],
   "source": [
    "print(bool(True))\n",
    "print(bool(42))\n",
    "print(bool(\"Hello\"))\n",
    "print(bool([1,2,3]))"
   ]
  },
  {
   "cell_type": "code",
   "execution_count": null,
   "metadata": {
    "colab": {
     "base_uri": "https://localhost:8080/"
    },
    "id": "NwWtiVm3WWjN",
    "outputId": "373fceb2-47e6-4dfb-c22b-81a2a04d7d6a"
   },
   "outputs": [
    {
     "name": "stdout",
     "output_type": "stream",
     "text": [
      "False\n",
      "False\n",
      "False\n",
      "False\n",
      "False\n"
     ]
    }
   ],
   "source": [
    "print(bool(False))\n",
    "print(bool(None))\n",
    "print(bool(0))\n",
    "print(bool(\"\"))\n",
    "print(bool([]))"
   ]
  },
  {
   "cell_type": "code",
   "execution_count": null,
   "metadata": {
    "colab": {
     "base_uri": "https://localhost:8080/"
    },
    "id": "OnWBmovkp6ay",
    "outputId": "f4400d11-f91f-405e-f111-f1e65908a6ae"
   },
   "outputs": [
    {
     "data": {
      "text/plain": [
       "(10, 37.42, 10)"
      ]
     },
     "execution_count": 33,
     "metadata": {},
     "output_type": "execute_result"
    }
   ],
   "source": [
    "x = 10\n",
    "y = 37.42\n",
    "z = 5j\n",
    "x,y,x"
   ]
  },
  {
   "cell_type": "code",
   "execution_count": null,
   "metadata": {
    "colab": {
     "base_uri": "https://localhost:8080/"
    },
    "id": "gxhhdf4zqEoL",
    "outputId": "6bb492ab-3b20-4a88-cc7e-4f2c25769401"
   },
   "outputs": [
    {
     "data": {
      "text/plain": [
       "47.42"
      ]
     },
     "execution_count": 34,
     "metadata": {},
     "output_type": "execute_result"
    }
   ],
   "source": [
    "x + y"
   ]
  },
  {
   "cell_type": "code",
   "execution_count": null,
   "metadata": {
    "colab": {
     "base_uri": "https://localhost:8080/"
    },
    "id": "vQY-LeYGqKNO",
    "outputId": "ef2582f4-e600-4382-ab02-5e12c4ca1a7f"
   },
   "outputs": [
    {
     "data": {
      "text/plain": [
       "(37.42+5j)"
      ]
     },
     "execution_count": 35,
     "metadata": {},
     "output_type": "execute_result"
    }
   ],
   "source": [
    "y + z"
   ]
  },
  {
   "cell_type": "code",
   "execution_count": null,
   "metadata": {
    "colab": {
     "base_uri": "https://localhost:8080/"
    },
    "id": "T9JUzipSqOst",
    "outputId": "a4f465b2-63c3-4a8b-c1ed-d442debc8f82"
   },
   "outputs": [
    {
     "data": {
      "text/plain": [
       "(-25+0j)"
      ]
     },
     "execution_count": 36,
     "metadata": {},
     "output_type": "execute_result"
    }
   ],
   "source": [
    "z * z"
   ]
  },
  {
   "cell_type": "code",
   "execution_count": null,
   "metadata": {
    "colab": {
     "base_uri": "https://localhost:8080/"
    },
    "id": "oJLGXOVBrHpQ",
    "outputId": "7995b09b-5566-4d5e-a403-d6e0c9fc4244"
   },
   "outputs": [
    {
     "data": {
      "text/plain": [
       "11"
      ]
     },
     "execution_count": 37,
     "metadata": {},
     "output_type": "execute_result"
    }
   ],
   "source": [
    "str1 = \"Hello 'World'\"\n",
    "str2 = 'Hello \"World\"'\n",
    "len(\"Hello World\")"
   ]
  },
  {
   "cell_type": "code",
   "execution_count": null,
   "metadata": {
    "colab": {
     "base_uri": "https://localhost:8080/",
     "height": 35
    },
    "id": "nT1UplXpsQgD",
    "outputId": "55b3c8d0-1344-4855-9975-166712d06bce"
   },
   "outputs": [
    {
     "data": {
      "application/vnd.google.colaboratory.intrinsic+json": {
       "type": "string"
      },
      "text/plain": [
       "\"HELLO 'WORLD'\""
      ]
     },
     "execution_count": 39,
     "metadata": {},
     "output_type": "execute_result"
    }
   ],
   "source": [
    "str1.upper()"
   ]
  },
  {
   "cell_type": "code",
   "execution_count": null,
   "metadata": {
    "id": "q-Mto5Vbs3hM"
   },
   "outputs": [],
   "source": [
    "x = \"Hello \"\n",
    "y = 42"
   ]
  },
  {
   "cell_type": "code",
   "execution_count": null,
   "metadata": {
    "colab": {
     "base_uri": "https://localhost:8080/",
     "height": 35
    },
    "id": "5YwN-57ttQ4Y",
    "outputId": "1c9523db-b338-49bc-cf24-2e1b7fbf5822"
   },
   "outputs": [
    {
     "data": {
      "application/vnd.google.colaboratory.intrinsic+json": {
       "type": "string"
      },
      "text/plain": [
       "'Hello 42'"
      ]
     },
     "execution_count": 43,
     "metadata": {},
     "output_type": "execute_result"
    }
   ],
   "source": [
    "x + str(y)"
   ]
  },
  {
   "cell_type": "code",
   "execution_count": null,
   "metadata": {
    "colab": {
     "base_uri": "https://localhost:8080/",
     "height": 35
    },
    "id": "Wwkd-B1CtYAo",
    "outputId": "e4ea2e20-a13c-4ca2-fd9b-f02c194726c8"
   },
   "outputs": [
    {
     "data": {
      "application/vnd.google.colaboratory.intrinsic+json": {
       "type": "string"
      },
      "text/plain": [
       "'Hello  42'"
      ]
     },
     "execution_count": 47,
     "metadata": {},
     "output_type": "execute_result"
    }
   ],
   "source": [
    "# template = \"{} {}\"\n",
    "# template.format(x,y)\n",
    "\n",
    "template = \"{greeting} {subject}\"\n",
    "template.format(subject = y, greeting = x)"
   ]
  },
  {
   "cell_type": "code",
   "execution_count": null,
   "metadata": {
    "colab": {
     "base_uri": "https://localhost:8080/",
     "height": 35
    },
    "id": "C2ENgQlCuLLH",
    "outputId": "796d573f-0f44-4eaf-e711-bfad55a08759"
   },
   "outputs": [
    {
     "data": {
      "application/vnd.google.colaboratory.intrinsic+json": {
       "type": "string"
      },
      "text/plain": [
       "'Hello  42'"
      ]
     },
     "execution_count": 49,
     "metadata": {},
     "output_type": "execute_result"
    }
   ],
   "source": [
    "formatted = f\"{x} {y}\"\n",
    "formatted"
   ]
  },
  {
   "cell_type": "code",
   "execution_count": null,
   "metadata": {
    "colab": {
     "base_uri": "https://localhost:8080/",
     "height": 89
    },
    "id": "G7IxBcfLuexz",
    "outputId": "c3a76e0b-f77d-4d52-a22b-b108e58f2235"
   },
   "outputs": [
    {
     "name": "stdout",
     "output_type": "stream",
     "text": [
      "Enter your name: Charles\n",
      "Enter your Age: 34\n",
      "Enter your profession: Python Developer\n"
     ]
    },
    {
     "data": {
      "application/vnd.google.colaboratory.intrinsic+json": {
       "type": "string"
      },
      "text/plain": [
       "'Name: Charles, Age: 34, Profession: Python developer'"
      ]
     },
     "execution_count": 51,
     "metadata": {},
     "output_type": "execute_result"
    }
   ],
   "source": [
    "name = input(\"Enter your name: \")\n",
    "age  = input(\"Enter your Age: \")\n",
    "prof = input(\"Enter your profession: \")\n",
    "f\"Name: {name.capitalize()}, Age: {age}, Profession: {prof.capitalize()}\""
   ]
  },
  {
   "cell_type": "code",
   "execution_count": null,
   "metadata": {
    "colab": {
     "base_uri": "https://localhost:8080/"
    },
    "id": "6LeNYnhuwFF_",
    "outputId": "ed6c12f1-5575-409a-d018-0bcda999cf22"
   },
   "outputs": [
    {
     "name": "stdout",
     "output_type": "stream",
     "text": [
      "Hello World\n",
      "None\n"
     ]
    }
   ],
   "source": [
    "return_val = print(\"Hello World\")\n",
    "print(return_val)"
   ]
  },
  {
   "cell_type": "code",
   "execution_count": null,
   "metadata": {
    "id": "EofWKagYxFy5"
   },
   "outputs": [],
   "source": [
    "t = None"
   ]
  },
  {
   "cell_type": "code",
   "execution_count": null,
   "metadata": {
    "colab": {
     "base_uri": "https://localhost:8080/"
    },
    "id": "uCJRQX-Gxftw",
    "outputId": "c75ab631-3962-4c91-ab83-bfed1b99609b"
   },
   "outputs": [
    {
     "data": {
      "text/plain": [
       "str"
      ]
     },
     "execution_count": 61,
     "metadata": {},
     "output_type": "execute_result"
    }
   ],
   "source": [
    "type(\"Hello\")"
   ]
  },
  {
   "cell_type": "code",
   "execution_count": null,
   "metadata": {
    "colab": {
     "base_uri": "https://localhost:8080/"
    },
    "id": "eNdn_mgXxx88",
    "outputId": "4173efc8-17de-4637-9ec4-e60a25604e79"
   },
   "outputs": [
    {
     "data": {
      "text/plain": [
       "True"
      ]
     },
     "execution_count": 62,
     "metadata": {},
     "output_type": "execute_result"
    }
   ],
   "source": [
    "isinstance(\"Hello\",str)"
   ]
  },
  {
   "cell_type": "code",
   "execution_count": null,
   "metadata": {
    "colab": {
     "base_uri": "https://localhost:8080/"
    },
    "id": "RfqnfljHyHsF",
    "outputId": "58cbe6ac-b6bd-4b85-d5ac-a80db792f0b4"
   },
   "outputs": [
    {
     "data": {
      "text/plain": [
       "40"
      ]
     },
     "execution_count": 65,
     "metadata": {},
     "output_type": "execute_result"
    }
   ],
   "source": [
    "int(40.9)"
   ]
  },
  {
   "cell_type": "code",
   "execution_count": null,
   "metadata": {
    "colab": {
     "base_uri": "https://localhost:8080/"
    },
    "id": "tbPGJBR7ywjt",
    "outputId": "1474ff22-e7aa-4060-ec2c-1941e97d9ab3"
   },
   "outputs": [
    {
     "data": {
      "text/plain": [
       "41"
      ]
     },
     "execution_count": 66,
     "metadata": {},
     "output_type": "execute_result"
    }
   ],
   "source": [
    "round(40.9)"
   ]
  },
  {
   "cell_type": "code",
   "execution_count": null,
   "metadata": {
    "colab": {
     "base_uri": "https://localhost:8080/"
    },
    "id": "9Z9AT5ogyj5D",
    "outputId": "ec09e05a-958c-48e5-d4d5-811ac15e09bd"
   },
   "outputs": [
    {
     "data": {
      "text/plain": [
       "39.0"
      ]
     },
     "execution_count": 64,
     "metadata": {},
     "output_type": "execute_result"
    }
   ],
   "source": [
    "float(39)"
   ]
  },
  {
   "cell_type": "code",
   "execution_count": null,
   "metadata": {
    "colab": {
     "base_uri": "https://localhost:8080/",
     "height": 222
    },
    "id": "mngFujHgy-kn",
    "outputId": "d09297e3-5e54-4870-d214-ed0d52f76693"
   },
   "outputs": [
    {
     "name": "stdout",
     "output_type": "stream",
     "text": [
      "Hello \n"
     ]
    },
    {
     "ename": "NameError",
     "evalue": "ignored",
     "output_type": "error",
     "traceback": [
      "\u001b[0;31m---------------------------------------------------------------------------\u001b[0m",
      "\u001b[0;31mNameError\u001b[0m                                 Traceback (most recent call last)",
      "\u001b[0;32m<ipython-input-73-54ddc8c0e9f3>\u001b[0m in \u001b[0;36m<module>\u001b[0;34m()\u001b[0m\n\u001b[1;32m      1\u001b[0m \u001b[0mprint\u001b[0m\u001b[0;34m(\u001b[0m\u001b[0mx\u001b[0m\u001b[0;34m)\u001b[0m\u001b[0;34m\u001b[0m\u001b[0;34m\u001b[0m\u001b[0m\n\u001b[1;32m      2\u001b[0m \u001b[0;32mdel\u001b[0m \u001b[0mx\u001b[0m\u001b[0;34m\u001b[0m\u001b[0;34m\u001b[0m\u001b[0m\n\u001b[0;32m----> 3\u001b[0;31m \u001b[0mprint\u001b[0m\u001b[0;34m(\u001b[0m\u001b[0mx\u001b[0m\u001b[0;34m)\u001b[0m\u001b[0;34m\u001b[0m\u001b[0;34m\u001b[0m\u001b[0m\n\u001b[0m",
      "\u001b[0;31mNameError\u001b[0m: name 'x' is not defined"
     ]
    }
   ],
   "source": [
    "print(x)\n",
    "del x\n",
    "print(x)"
   ]
  },
  {
   "cell_type": "markdown",
   "metadata": {
    "id": "6TXVEhzf39TQ"
   },
   "source": [
    "Exercise 2:"
   ]
  },
  {
   "cell_type": "code",
   "execution_count": null,
   "metadata": {
    "colab": {
     "base_uri": "https://localhost:8080/",
     "height": 89
    },
    "id": "fnus43VK3-uY",
    "outputId": "a9861a69-91d3-45ef-f619-d4c4f4d62f6c"
   },
   "outputs": [
    {
     "name": "stdout",
     "output_type": "stream",
     "text": [
      "Enter the employee's personal name: Python \n",
      "Enter the employee's family name: Three \n",
      "Enter employee's age: 14\n"
     ]
    },
    {
     "data": {
      "application/vnd.google.colaboratory.intrinsic+json": {
       "type": "string"
      },
      "text/plain": [
       "'Name: Python Three, Age: 14, Email: python.three08@company.com'"
      ]
     },
     "execution_count": 4,
     "metadata": {},
     "output_type": "execute_result"
    }
   ],
   "source": [
    "from datetime import datetime\n",
    "# first_name, last_name = input(\"Enter the employee's first and last names, seperated by a space: \").split(\" \")\n",
    "personal_name = input(\"Enter the employee's personal name: \").strip()\n",
    "family_name = input(\"Enter the employee's family name: \").strip()\n",
    "\n",
    "age = input(\"Enter employee's age: \")\n",
    "age = int(age)\n",
    "# year = 2022 - age\n",
    "year = datetime.today().year - age\n",
    "\n",
    "email = f\"{personal_name.lower()}.{family_name.lower()}{str(year)[2:4]}@company.com\"\n",
    "# email = f\"{personal_name}.{family_name}{ year % 100 }@company.com\"\n",
    "\n",
    "f\"Name: {personal_name.capitalize()} {family_name.capitalize()}, Age: {age}, Email: {email}\""
   ]
  },
  {
   "cell_type": "code",
   "execution_count": null,
   "metadata": {
    "colab": {
     "base_uri": "https://localhost:8080/",
     "height": 35
    },
    "id": "Vc8DPVQK7ETJ",
    "outputId": "d0396162-08c3-4d05-b6df-2e081b376278"
   },
   "outputs": [
    {
     "data": {
      "application/vnd.google.colaboratory.intrinsic+json": {
       "type": "string"
      },
      "text/plain": [
       "'Name: Python Three, Age: 14, Email: python.three08@company.com'"
      ]
     },
     "execution_count": 5,
     "metadata": {},
     "output_type": "execute_result"
    }
   ],
   "source": [
    "\"Name: \" + personal_name.capitalize() + \" \" + family_name.capitalize() + \", Age: \" + str(age) + \", Email: \" + email"
   ]
  },
  {
   "cell_type": "code",
   "execution_count": null,
   "metadata": {
    "colab": {
     "base_uri": "https://localhost:8080/",
     "height": 35
    },
    "id": "9GSyiJFrDX16",
    "outputId": "275e844e-e0af-428d-eb68-dca8709a6fd4"
   },
   "outputs": [
    {
     "data": {
      "application/vnd.google.colaboratory.intrinsic+json": {
       "type": "string"
      },
      "text/plain": [
       "'Hello Hello Hello Hello Hello '"
      ]
     },
     "execution_count": 83,
     "metadata": {},
     "output_type": "execute_result"
    }
   ],
   "source": [
    "\"Hello \" * 5"
   ]
  },
  {
   "cell_type": "code",
   "execution_count": null,
   "metadata": {
    "colab": {
     "base_uri": "https://localhost:8080/"
    },
    "id": "6Qd5Lq4yEeks",
    "outputId": "8be4c823-1b0b-4068-9c88-66e5b3b8e8bb"
   },
   "outputs": [
    {
     "data": {
      "text/plain": [
       "15"
      ]
     },
     "execution_count": 84,
     "metadata": {},
     "output_type": "execute_result"
    }
   ],
   "source": [
    "x = 10\n",
    "x += 5\n",
    "x"
   ]
  },
  {
   "cell_type": "code",
   "execution_count": null,
   "metadata": {
    "colab": {
     "base_uri": "https://localhost:8080/",
     "height": 35
    },
    "id": "4qO0LOGwEijo",
    "outputId": "f8390673-37d8-404a-f154-bcb8a4496968"
   },
   "outputs": [
    {
     "data": {
      "application/vnd.google.colaboratory.intrinsic+json": {
       "type": "string"
      },
      "text/plain": [
       "'Hello World'"
      ]
     },
     "execution_count": 85,
     "metadata": {},
     "output_type": "execute_result"
    }
   ],
   "source": [
    "y = \"Hello\"\n",
    "y += \" World\"\n",
    "y"
   ]
  },
  {
   "cell_type": "code",
   "execution_count": null,
   "metadata": {
    "colab": {
     "base_uri": "https://localhost:8080/"
    },
    "id": "pR_qvFKZEqFI",
    "outputId": "798db791-e5e1-4f7c-e1fa-41371098a447"
   },
   "outputs": [
    {
     "data": {
      "text/plain": [
       "20"
      ]
     },
     "execution_count": 86,
     "metadata": {},
     "output_type": "execute_result"
    }
   ],
   "source": [
    "z = 10 \n",
    "z = z + 10\n",
    "z"
   ]
  },
  {
   "cell_type": "code",
   "execution_count": null,
   "metadata": {
    "colab": {
     "base_uri": "https://localhost:8080/"
    },
    "id": "I9g5MeftExGF",
    "outputId": "b8708645-d0e8-491b-f32b-67e6405e3546"
   },
   "outputs": [
    {
     "data": {
      "text/plain": [
       "1"
      ]
     },
     "execution_count": 88,
     "metadata": {},
     "output_type": "execute_result"
    }
   ],
   "source": [
    "i = 0\n",
    "i += 1\n",
    "i"
   ]
  },
  {
   "cell_type": "code",
   "execution_count": null,
   "metadata": {
    "colab": {
     "base_uri": "https://localhost:8080/"
    },
    "id": "drvzbxR1FPjS",
    "outputId": "17d8d037-16bc-4294-cd4e-abdb9e2073e6"
   },
   "outputs": [
    {
     "data": {
      "text/plain": [
       "True"
      ]
     },
     "execution_count": 89,
     "metadata": {},
     "output_type": "execute_result"
    }
   ],
   "source": [
    "10 == 10"
   ]
  },
  {
   "cell_type": "code",
   "execution_count": null,
   "metadata": {
    "colab": {
     "base_uri": "https://localhost:8080/"
    },
    "id": "azPzUEeGFuAx",
    "outputId": "4848c110-d6b6-4ada-99ef-fe1fed6f10d6"
   },
   "outputs": [
    {
     "data": {
      "text/plain": [
       "True"
      ]
     },
     "execution_count": 94,
     "metadata": {},
     "output_type": "execute_result"
    }
   ],
   "source": [
    "10 is 10"
   ]
  },
  {
   "cell_type": "code",
   "execution_count": null,
   "metadata": {
    "colab": {
     "base_uri": "https://localhost:8080/"
    },
    "id": "NqpQ4So_FSv-",
    "outputId": "9504c5f1-dc10-447f-9730-a07bd2f1e26d"
   },
   "outputs": [
    {
     "data": {
      "text/plain": [
       "True"
      ]
     },
     "execution_count": 90,
     "metadata": {},
     "output_type": "execute_result"
    }
   ],
   "source": [
    "\"apple\" == \"apple\""
   ]
  },
  {
   "cell_type": "code",
   "execution_count": null,
   "metadata": {
    "colab": {
     "base_uri": "https://localhost:8080/"
    },
    "id": "y2oWGDmIFqFd",
    "outputId": "772cfceb-5be7-4648-d45d-2eff7fb56105"
   },
   "outputs": [
    {
     "data": {
      "text/plain": [
       "True"
      ]
     },
     "execution_count": 93,
     "metadata": {},
     "output_type": "execute_result"
    }
   ],
   "source": [
    "\"apple\" is \"apple\""
   ]
  },
  {
   "cell_type": "code",
   "execution_count": null,
   "metadata": {
    "colab": {
     "base_uri": "https://localhost:8080/"
    },
    "id": "1UkT7EOVFWm3",
    "outputId": "0506d92e-2f41-45c1-ddf4-cf0f615d4a06"
   },
   "outputs": [
    {
     "data": {
      "text/plain": [
       "True"
      ]
     },
     "execution_count": 91,
     "metadata": {},
     "output_type": "execute_result"
    }
   ],
   "source": [
    "[1,2,3] == [1,2,3]"
   ]
  },
  {
   "cell_type": "code",
   "execution_count": null,
   "metadata": {
    "colab": {
     "base_uri": "https://localhost:8080/"
    },
    "id": "OsbYGH4ZFx5N",
    "outputId": "f7520925-4ed3-4d85-e65d-8d1a06ac78e6"
   },
   "outputs": [
    {
     "data": {
      "text/plain": [
       "False"
      ]
     },
     "execution_count": 95,
     "metadata": {},
     "output_type": "execute_result"
    }
   ],
   "source": [
    "[1,2,3] is [1,2,3]"
   ]
  },
  {
   "cell_type": "code",
   "execution_count": null,
   "metadata": {
    "colab": {
     "base_uri": "https://localhost:8080/"
    },
    "id": "XzWPCxtEGFnb",
    "outputId": "b77debea-c7ef-4f6e-b3f7-6a9df0644c35"
   },
   "outputs": [
    {
     "data": {
      "text/plain": [
       "True"
      ]
     },
     "execution_count": 96,
     "metadata": {},
     "output_type": "execute_result"
    }
   ],
   "source": [
    "x = [1,2,3]\n",
    "y = x\n",
    "x is y"
   ]
  },
  {
   "cell_type": "code",
   "execution_count": null,
   "metadata": {
    "colab": {
     "base_uri": "https://localhost:8080/"
    },
    "id": "UFjUI_nfFjiv",
    "outputId": "e7609781-667e-4336-9e56-103735ec5ff8"
   },
   "outputs": [
    {
     "data": {
      "text/plain": [
       "False"
      ]
     },
     "execution_count": 92,
     "metadata": {},
     "output_type": "execute_result"
    }
   ],
   "source": [
    "10 == \"10\""
   ]
  },
  {
   "cell_type": "code",
   "execution_count": null,
   "metadata": {
    "colab": {
     "base_uri": "https://localhost:8080/"
    },
    "id": "Jv4-4TIBG__W",
    "outputId": "bb395229-036d-4606-f306-229c4b3633c3"
   },
   "outputs": [
    {
     "data": {
      "text/plain": [
       "True"
      ]
     },
     "execution_count": 97,
     "metadata": {},
     "output_type": "execute_result"
    }
   ],
   "source": [
    "True and True"
   ]
  },
  {
   "cell_type": "code",
   "execution_count": null,
   "metadata": {
    "colab": {
     "base_uri": "https://localhost:8080/"
    },
    "id": "Mz1w55PoHCn2",
    "outputId": "2f3b41b5-273f-4428-8bd9-ece3108666ef"
   },
   "outputs": [
    {
     "data": {
      "text/plain": [
       "True"
      ]
     },
     "execution_count": 98,
     "metadata": {},
     "output_type": "execute_result"
    }
   ],
   "source": [
    "True or False"
   ]
  },
  {
   "cell_type": "code",
   "execution_count": null,
   "metadata": {
    "colab": {
     "base_uri": "https://localhost:8080/"
    },
    "id": "Jeovhx5xHFiD",
    "outputId": "de191221-ed46-4e7c-a23b-a6895a450e4c"
   },
   "outputs": [
    {
     "data": {
      "text/plain": [
       "True"
      ]
     },
     "execution_count": 99,
     "metadata": {},
     "output_type": "execute_result"
    }
   ],
   "source": [
    "True and not False"
   ]
  },
  {
   "cell_type": "code",
   "execution_count": null,
   "metadata": {
    "colab": {
     "base_uri": "https://localhost:8080/"
    },
    "id": "l2Cee2OyHPp8",
    "outputId": "db4f81d3-8d68-42eb-91b5-726d5e75e8bb"
   },
   "outputs": [
    {
     "data": {
      "text/plain": [
       "True"
      ]
     },
     "execution_count": 103,
     "metadata": {},
     "output_type": "execute_result"
    }
   ],
   "source": [
    "1 in (1,2,3,4,5)"
   ]
  },
  {
   "cell_type": "code",
   "execution_count": null,
   "metadata": {
    "colab": {
     "base_uri": "https://localhost:8080/"
    },
    "id": "R0c2fb91HvQ-",
    "outputId": "b087faa6-2e4a-4a23-9dc9-4a745386fb9b"
   },
   "outputs": [
    {
     "data": {
      "text/plain": [
       "True"
      ]
     },
     "execution_count": 105,
     "metadata": {},
     "output_type": "execute_result"
    }
   ],
   "source": [
    "\"ap\" in \"apple\""
   ]
  },
  {
   "cell_type": "code",
   "execution_count": null,
   "metadata": {
    "colab": {
     "base_uri": "https://localhost:8080/"
    },
    "id": "jz0XBELnIGCZ",
    "outputId": "6ef9597a-498c-43e3-b02c-1e7d005ee514"
   },
   "outputs": [
    {
     "name": "stdout",
     "output_type": "stream",
     "text": [
      "Enter a Number: -3\n",
      "Number is less than 5\n",
      "NUmber is negative\n",
      "End of If\n",
      "Out of if\n"
     ]
    }
   ],
   "source": [
    "num = int(input(\"Enter a Number: \"))\n",
    "\n",
    "if num >= 10:\n",
    "                                print(\"Number is greater than or equal to 10\")\n",
    "                                print(\"End of If\")\n",
    "elif 10 > num >= 5 : \n",
    " print(\"Number is between 10 and 5\")\n",
    " print(\"End of If\")\n",
    "else: \n",
    "  print(\"Number is less than 5\")\n",
    "  if num < 0:\n",
    "    print(\"Number is negative\")\n",
    "  print(\"End of If\")\n",
    "print(\"Out of if\")"
   ]
  },
  {
   "cell_type": "code",
   "execution_count": null,
   "metadata": {
    "colab": {
     "base_uri": "https://localhost:8080/"
    },
    "id": "fESU4Z-eKcan",
    "outputId": "abc245bd-ec30-44b9-ba92-8f643e287a8e"
   },
   "outputs": [
    {
     "name": "stdout",
     "output_type": "stream",
     "text": [
      "Enter a Number: 5\n",
      "Number is between 10 and 5\n",
      "Out of if\n"
     ]
    }
   ],
   "source": [
    "num = int(input(\"Enter a Number: \"))\n",
    "\n",
    "if num >= 10: print(\"Number is greater than or equal to 10\")\n",
    "elif 10 > num >= 5 : print(\"Number is between 10 and 5\")\n",
    "else: print(\"Number is less than 5\")\n",
    "print(\"Out of if\")"
   ]
  },
  {
   "cell_type": "code",
   "execution_count": null,
   "metadata": {
    "colab": {
     "base_uri": "https://localhost:8080/",
     "height": 35
    },
    "id": "puY_TJumK6sH",
    "outputId": "7c0e0419-34e3-4bbb-80fa-cf610a1725e0"
   },
   "outputs": [
    {
     "data": {
      "application/vnd.google.colaboratory.intrinsic+json": {
       "type": "string"
      },
      "text/plain": [
       "'Number is positive'"
      ]
     },
     "execution_count": 118,
     "metadata": {},
     "output_type": "execute_result"
    }
   ],
   "source": [
    "sign = \"Number is positive\" if num >=0 else \"Number is negative\"\n",
    "sign"
   ]
  },
  {
   "cell_type": "code",
   "execution_count": null,
   "metadata": {
    "colab": {
     "base_uri": "https://localhost:8080/"
    },
    "id": "zT9OtsYiLKTF",
    "outputId": "adcc89e9-a1fb-4100-8b3c-127a6ee91846"
   },
   "outputs": [
    {
     "name": "stdout",
     "output_type": "stream",
     "text": [
      "Number is odd\n",
      "None\n"
     ]
    }
   ],
   "source": [
    "val = print(\"Number is even\") if num % 2 == 0 else print(\"Number is odd\")\n",
    "print(val)"
   ]
  },
  {
   "cell_type": "code",
   "execution_count": null,
   "metadata": {
    "id": "gkUFnQ5mL-X6"
   },
   "outputs": [],
   "source": [
    "i = 0\n",
    "if i is 10: pass\n",
    "# print(\"After If\")"
   ]
  },
  {
   "cell_type": "code",
   "execution_count": null,
   "metadata": {
    "colab": {
     "base_uri": "https://localhost:8080/"
    },
    "id": "VJ2vkUjx_Rm2",
    "outputId": "b03331e8-1975-42ec-ec54-765a29f82a84"
   },
   "outputs": [
    {
     "data": {
      "text/plain": [
       "True"
      ]
     },
     "execution_count": 9,
     "metadata": {},
     "output_type": "execute_result"
    }
   ],
   "source": [
    "x = 25\n",
    "t = type(x)\n",
    "t is int"
   ]
  },
  {
   "cell_type": "code",
   "execution_count": null,
   "metadata": {
    "colab": {
     "base_uri": "https://localhost:8080/"
    },
    "id": "SIN4diQL_t99",
    "outputId": "59cc38c6-9595-4640-80c5-8ca30ccc5862"
   },
   "outputs": [
    {
     "data": {
      "text/plain": [
       "False"
      ]
     },
     "execution_count": 12,
     "metadata": {},
     "output_type": "execute_result"
    }
   ],
   "source": [
    "y = 30.2\n",
    "isinstance(y, type(x))"
   ]
  },
  {
   "cell_type": "code",
   "execution_count": null,
   "metadata": {
    "colab": {
     "base_uri": "https://localhost:8080/",
     "height": 35
    },
    "id": "eO-T7OKQBlbO",
    "outputId": "4d0159db-0a8f-470e-fd6d-c288a4de3932"
   },
   "outputs": [
    {
     "data": {
      "application/vnd.google.colaboratory.intrinsic+json": {
       "type": "string"
      },
      "text/plain": [
       "'Positive '"
      ]
     },
     "execution_count": 14,
     "metadata": {},
     "output_type": "execute_result"
    }
   ],
   "source": [
    "num = 5\n",
    "\n",
    "if num > 0: \n",
    "  message = \"Positive\"\n",
    "else:\n",
    "  print(\"Number is negative\")\n",
    "\n",
    "message"
   ]
  },
  {
   "cell_type": "markdown",
   "metadata": {
    "id": "MUevW0SQINfo"
   },
   "source": [
    "Exercise 4: Rock Paper Scissors"
   ]
  },
  {
   "cell_type": "code",
   "execution_count": null,
   "metadata": {
    "colab": {
     "base_uri": "https://localhost:8080/"
    },
    "id": "00BLE_aYIRZF",
    "outputId": "08f3b0a6-468d-46b9-aeb4-91948ac3c33a"
   },
   "outputs": [
    {
     "name": "stdout",
     "output_type": "stream",
     "text": [
      "Play Rock, Paper, Scissors!\n",
      "Player 1 (r,p,s): r\n",
      "Player 2 (r,p,s): r\n",
      "Draw!\n"
     ]
    }
   ],
   "source": [
    "print(\"Play Rock, Paper, Scissors!\")\n",
    "p1 = input(\"Player 1 (r,p,s): \")\n",
    "p2 = input(\"Player 2 (r,p,s): \")\n",
    "\n",
    "if p1 == p2: print(\"Draw!\")\n",
    "elif (p1 == \"r\" and p2 == \"s\") or (p1 == \"p\" and p2 == \"r\") or (p1 == \"s\" and p2 == \"p\"):\n",
    "  print(\"Player 1 wins!\")\n",
    "else : print(\"Player 2 wins!\")"
   ]
  },
  {
   "cell_type": "code",
   "execution_count": null,
   "metadata": {
    "colab": {
     "base_uri": "https://localhost:8080/"
    },
    "id": "OmOqmFdsKKpe",
    "outputId": "fe2be982-7aae-4881-b6a3-2b1122ff3347"
   },
   "outputs": [
    {
     "name": "stdout",
     "output_type": "stream",
     "text": [
      "Loop number: 1\n",
      "Loop number: 3\n",
      "Loop number: 5\n",
      "Loop Ended\n"
     ]
    }
   ],
   "source": [
    "i = 0\n",
    "while i < 10:\n",
    "  i += 1\n",
    "  if i %2 == 0: continue\n",
    "  if i == 7: break\n",
    "  print(f\"Loop number: {i}\")\n",
    "else: print(\"Loop Condition met\")\n",
    "print(\"Loop Ended\")"
   ]
  },
  {
   "cell_type": "code",
   "execution_count": null,
   "metadata": {
    "id": "CBijE2dFwXN3"
   },
   "outputs": [],
   "source": [
    "again = \"y\"\n",
    "win1, win2, draw = 0,0,0\n",
    "\n",
    "while again != \"n\":\n",
    "  print(\"Play Rock, Paper, Scissors!\")\n",
    "  p1 = input(\"Player 1 (r,p,s): \")\n",
    "  p2 = input(\"Player 2 (r,p,s): \")\n",
    "\n",
    "  if p1 == p2: \n",
    "    print(\"Draw!\")\n",
    "    draw += 1\n",
    "  elif (p1 == \"r\" and p2 == \"s\") or (p1 == \"p\" and p2 == \"r\") or (p1 == \"s\" and p2 == \"p\"):\n",
    "    print(\"Player 1 wins!\")\n",
    "    win1+= 1\n",
    "  else : \n",
    "    print(\"Player 2 wins!\")\n",
    "    win2 += 1\n",
    "\n",
    "  print(f\"\"\"-----\n",
    "Player 1 Wins: {win1}\n",
    "Player 2 Wins: {win2}\n",
    "Draws: {draw}\n",
    "-----\"\"\")\n",
    "  again = input(\"Play again (y/n)? \").lower()[0]"
   ]
  },
  {
   "cell_type": "markdown",
   "metadata": {
    "id": "MfECZcQP1U5S"
   },
   "source": [
    "Collections: Lists"
   ]
  },
  {
   "cell_type": "code",
   "execution_count": null,
   "metadata": {
    "id": "w_fGpo331X6i"
   },
   "outputs": [],
   "source": [
    "lst1 = [\"Hello\", 42, 3j, True, [1,2,3]]"
   ]
  },
  {
   "cell_type": "code",
   "execution_count": null,
   "metadata": {
    "colab": {
     "base_uri": "https://localhost:8080/"
    },
    "id": "urXD4_As4Jso",
    "outputId": "0ec3b7b1-b290-4eb2-915e-565221c293a8"
   },
   "outputs": [
    {
     "data": {
      "text/plain": [
       "True"
      ]
     },
     "execution_count": 16,
     "metadata": {},
     "output_type": "execute_result"
    }
   ],
   "source": [
    "lst1[-1] is lst1[-1]"
   ]
  },
  {
   "cell_type": "code",
   "execution_count": null,
   "metadata": {
    "colab": {
     "base_uri": "https://localhost:8080/"
    },
    "id": "2C592xSz1nrG",
    "outputId": "bd13b8b4-c2ba-4f26-fe71-93421eb47294"
   },
   "outputs": [
    {
     "data": {
      "text/plain": [
       "['apple', 'blueberry', 'cantaloupe', 'orange', 'melon', 'mango', 'apple']"
      ]
     },
     "execution_count": 37,
     "metadata": {},
     "output_type": "execute_result"
    }
   ],
   "source": [
    "fruits = [\"apple\", \"blueberry\", \"cantaloupe\", \"orange\", \"melon\", \"mango\", \"apple\"]\n",
    "fruits"
   ]
  },
  {
   "cell_type": "code",
   "execution_count": null,
   "metadata": {
    "colab": {
     "base_uri": "https://localhost:8080/",
     "height": 35
    },
    "id": "X4FEjJOT2rZu",
    "outputId": "f4e79f7e-a2f1-4418-8542-9e01afd0903f"
   },
   "outputs": [
    {
     "data": {
      "application/vnd.google.colaboratory.intrinsic+json": {
       "type": "string"
      },
      "text/plain": [
       "'apple'"
      ]
     },
     "execution_count": 8,
     "metadata": {},
     "output_type": "execute_result"
    }
   ],
   "source": [
    "fruits[0]"
   ]
  },
  {
   "cell_type": "code",
   "execution_count": null,
   "metadata": {
    "colab": {
     "base_uri": "https://localhost:8080/",
     "height": 35
    },
    "id": "KQBscldt2DQt",
    "outputId": "db7da55d-8576-484a-c4d5-744ab42e6629"
   },
   "outputs": [
    {
     "data": {
      "application/vnd.google.colaboratory.intrinsic+json": {
       "type": "string"
      },
      "text/plain": [
       "'mango'"
      ]
     },
     "execution_count": 7,
     "metadata": {},
     "output_type": "execute_result"
    }
   ],
   "source": [
    "fruits[-2]"
   ]
  },
  {
   "cell_type": "code",
   "execution_count": null,
   "metadata": {
    "colab": {
     "base_uri": "https://localhost:8080/"
    },
    "id": "iL6DI1YE2tYk",
    "outputId": "a9242e05-868c-40a6-8962-b1f4da07b3b6"
   },
   "outputs": [
    {
     "data": {
      "text/plain": [
       "['blueberry', 'cantaloupe', 'orange', 'melon']"
      ]
     },
     "execution_count": 9,
     "metadata": {},
     "output_type": "execute_result"
    }
   ],
   "source": [
    "fruits[1:5]"
   ]
  },
  {
   "cell_type": "code",
   "execution_count": null,
   "metadata": {
    "colab": {
     "base_uri": "https://localhost:8080/"
    },
    "id": "buqbJrwi3Lg7",
    "outputId": "0e710571-8426-427c-86cb-59b8ca8ce46a"
   },
   "outputs": [
    {
     "data": {
      "text/plain": [
       "['blueberry', 'orange']"
      ]
     },
     "execution_count": 38,
     "metadata": {},
     "output_type": "execute_result"
    }
   ],
   "source": [
    "fruits[1:5:2]"
   ]
  },
  {
   "cell_type": "code",
   "execution_count": null,
   "metadata": {
    "colab": {
     "base_uri": "https://localhost:8080/"
    },
    "id": "HUjD8lzI71n3",
    "outputId": "707c101a-f62d-41b6-d2b0-7d84d2624661"
   },
   "outputs": [
    {
     "data": {
      "text/plain": [
       "['apple',\n",
       " 'blueberry',\n",
       " 'cantaloupe',\n",
       " 'orange',\n",
       " 'melon',\n",
       " 'mango',\n",
       " 'golden delicious apple']"
      ]
     },
     "execution_count": 40,
     "metadata": {},
     "output_type": "execute_result"
    }
   ],
   "source": [
    "fruits[-1] = \"golden delicious apple\"\n",
    "fruits"
   ]
  },
  {
   "cell_type": "code",
   "execution_count": null,
   "metadata": {
    "colab": {
     "base_uri": "https://localhost:8080/"
    },
    "id": "bTSjZcPN3eKb",
    "outputId": "744e86c2-8727-4e09-d6b6-97dd24186492"
   },
   "outputs": [
    {
     "data": {
      "text/plain": [
       "['apple', 'mango', 'melon', 'orange', 'cantaloupe', 'blueberry', 'apple']"
      ]
     },
     "execution_count": 10,
     "metadata": {},
     "output_type": "execute_result"
    }
   ],
   "source": [
    "fruits[::-1]"
   ]
  },
  {
   "cell_type": "code",
   "execution_count": null,
   "metadata": {
    "colab": {
     "base_uri": "https://localhost:8080/"
    },
    "id": "0kceI-fB39pA",
    "outputId": "dc275b8d-0fb3-4349-eaa4-9523d358940f"
   },
   "outputs": [
    {
     "data": {
      "text/plain": [
       "True"
      ]
     },
     "execution_count": 13,
     "metadata": {},
     "output_type": "execute_result"
    }
   ],
   "source": [
    "fruits[::] is fruits"
   ]
  },
  {
   "cell_type": "code",
   "execution_count": null,
   "metadata": {
    "colab": {
     "base_uri": "https://localhost:8080/"
    },
    "id": "Z3mo7Wil4TJD",
    "outputId": "bd376044-369e-4eea-9d05-6c2d752c1bec"
   },
   "outputs": [
    {
     "data": {
      "text/plain": [
       "False"
      ]
     },
     "execution_count": 17,
     "metadata": {},
     "output_type": "execute_result"
    }
   ],
   "source": [
    "fruits[::] is fruits[::]"
   ]
  },
  {
   "cell_type": "code",
   "execution_count": null,
   "metadata": {
    "colab": {
     "base_uri": "https://localhost:8080/"
    },
    "id": "iOekHfz24l_S",
    "outputId": "d5777702-bd80-4a5e-aaee-0f98c13e69e3"
   },
   "outputs": [
    {
     "data": {
      "text/plain": [
       "['apple',\n",
       " 'blueberry',\n",
       " 'cantaloupe',\n",
       " 'orange',\n",
       " 'melon',\n",
       " 'mango',\n",
       " 'apple',\n",
       " 'cherry']"
      ]
     },
     "execution_count": 18,
     "metadata": {},
     "output_type": "execute_result"
    }
   ],
   "source": [
    "fruits.append(\"cherry\")\n",
    "fruits"
   ]
  },
  {
   "cell_type": "code",
   "execution_count": null,
   "metadata": {
    "colab": {
     "base_uri": "https://localhost:8080/"
    },
    "id": "5WuVva8148pU",
    "outputId": "878bd350-2e07-4211-8d1c-3733c216dc5f"
   },
   "outputs": [
    {
     "data": {
      "text/plain": [
       "False"
      ]
     },
     "execution_count": 20,
     "metadata": {},
     "output_type": "execute_result"
    }
   ],
   "source": [
    "fruits.copy() is fruits"
   ]
  },
  {
   "cell_type": "code",
   "execution_count": null,
   "metadata": {
    "colab": {
     "base_uri": "https://localhost:8080/"
    },
    "id": "NIzIfM_G5IAG",
    "outputId": "90426814-b8df-4278-9aee-6f9abffdbfc3"
   },
   "outputs": [
    {
     "data": {
      "text/plain": [
       "2"
      ]
     },
     "execution_count": 21,
     "metadata": {},
     "output_type": "execute_result"
    }
   ],
   "source": [
    "fruits.count(\"apple\")"
   ]
  },
  {
   "cell_type": "code",
   "execution_count": null,
   "metadata": {
    "colab": {
     "base_uri": "https://localhost:8080/"
    },
    "id": "FEj4Mugl5O2H",
    "outputId": "affc5693-9a28-4b6a-c0e9-c9d8dfa39184"
   },
   "outputs": [
    {
     "data": {
      "text/plain": [
       "['apple',\n",
       " 'blueberry',\n",
       " 'cantaloupe',\n",
       " 'orange',\n",
       " 'melon',\n",
       " 'mango',\n",
       " 'apple',\n",
       " 'cherry',\n",
       " 'lychee',\n",
       " 'banana']"
      ]
     },
     "execution_count": 22,
     "metadata": {},
     "output_type": "execute_result"
    }
   ],
   "source": [
    "fruits.extend([\"lychee\", \"banana\"])\n",
    "fruits"
   ]
  },
  {
   "cell_type": "code",
   "execution_count": null,
   "metadata": {
    "colab": {
     "base_uri": "https://localhost:8080/",
     "height": 35
    },
    "id": "vTkYpN4P5-bN",
    "outputId": "1caa0302-a1cc-4312-c910-f160977a4c61"
   },
   "outputs": [
    {
     "data": {
      "application/vnd.google.colaboratory.intrinsic+json": {
       "type": "string"
      },
      "text/plain": [
       "'banana'"
      ]
     },
     "execution_count": 24,
     "metadata": {},
     "output_type": "execute_result"
    }
   ],
   "source": [
    "fruits.pop()"
   ]
  },
  {
   "cell_type": "code",
   "execution_count": null,
   "metadata": {
    "colab": {
     "base_uri": "https://localhost:8080/"
    },
    "id": "DfLX6FaP6CxC",
    "outputId": "0557bbd5-f3c3-4795-a7ab-71863ebc100c"
   },
   "outputs": [
    {
     "data": {
      "text/plain": [
       "['apple',\n",
       " 'blueberry',\n",
       " 'cantaloupe',\n",
       " 'orange',\n",
       " 'melon',\n",
       " 'mango',\n",
       " 'apple',\n",
       " 'cherry',\n",
       " 'lychee']"
      ]
     },
     "execution_count": 25,
     "metadata": {},
     "output_type": "execute_result"
    }
   ],
   "source": [
    "fruits"
   ]
  },
  {
   "cell_type": "code",
   "execution_count": null,
   "metadata": {
    "colab": {
     "base_uri": "https://localhost:8080/"
    },
    "id": "qWY5HYCL6kBc",
    "outputId": "baab0b43-cd47-493a-f842-434a1f51d01a"
   },
   "outputs": [
    {
     "data": {
      "text/plain": [
       "['apple',\n",
       " 'blueberry',\n",
       " 'cantaloupe',\n",
       " 'orange',\n",
       " 'melon',\n",
       " 'mango',\n",
       " 'apple',\n",
       " 'cherry',\n",
       " 'lychee',\n",
       " 'banana',\n",
       " 'tomato']"
      ]
     },
     "execution_count": 26,
     "metadata": {},
     "output_type": "execute_result"
    }
   ],
   "source": [
    "fruits.extend([\"banana\", \"tomato\"])\n",
    "fruits"
   ]
  },
  {
   "cell_type": "code",
   "execution_count": null,
   "metadata": {
    "colab": {
     "base_uri": "https://localhost:8080/"
    },
    "id": "7T8evM9y6vZz",
    "outputId": "4982d8ff-a170-4c79-df88-5edc6acd0160"
   },
   "outputs": [
    {
     "data": {
      "text/plain": [
       "('apple', 'blueberry', 'cantaloupe', 'orange', 'melon', 'mango', 'apple')"
      ]
     },
     "execution_count": 41,
     "metadata": {},
     "output_type": "execute_result"
    }
   ],
   "source": [
    "fruits = (\"apple\", \"blueberry\", \"cantaloupe\", \"orange\", \"melon\", \"mango\", \"apple\")\n",
    "fruits"
   ]
  },
  {
   "cell_type": "code",
   "execution_count": null,
   "metadata": {
    "colab": {
     "base_uri": "https://localhost:8080/",
     "height": 35
    },
    "id": "-zqT0hr27gyh",
    "outputId": "4bec33bb-3cbf-4921-ca37-972c07f93eec"
   },
   "outputs": [
    {
     "data": {
      "application/vnd.google.colaboratory.intrinsic+json": {
       "type": "string"
      },
      "text/plain": [
       "'apple'"
      ]
     },
     "execution_count": 32,
     "metadata": {},
     "output_type": "execute_result"
    }
   ],
   "source": [
    "fruits[0]"
   ]
  },
  {
   "cell_type": "code",
   "execution_count": null,
   "metadata": {
    "colab": {
     "base_uri": "https://localhost:8080/",
     "height": 35
    },
    "id": "dKh7gyE97mAq",
    "outputId": "3575f1e8-977b-48a7-a5ba-50b21fc06fa2"
   },
   "outputs": [
    {
     "data": {
      "application/vnd.google.colaboratory.intrinsic+json": {
       "type": "string"
      },
      "text/plain": [
       "'mango'"
      ]
     },
     "execution_count": 34,
     "metadata": {},
     "output_type": "execute_result"
    }
   ],
   "source": [
    "fruits[-2]"
   ]
  },
  {
   "cell_type": "code",
   "execution_count": null,
   "metadata": {
    "colab": {
     "base_uri": "https://localhost:8080/"
    },
    "id": "aKhS3aSU7s7n",
    "outputId": "1a04b840-7779-4309-f00d-59bcce4bb4d6"
   },
   "outputs": [
    {
     "data": {
      "text/plain": [
       "('blueberry', 'orange')"
      ]
     },
     "execution_count": 35,
     "metadata": {},
     "output_type": "execute_result"
    }
   ],
   "source": [
    "fruits[1:5:2]"
   ]
  },
  {
   "cell_type": "code",
   "execution_count": null,
   "metadata": {
    "colab": {
     "base_uri": "https://localhost:8080/",
     "height": 187
    },
    "id": "L3Nx5MtS7-P8",
    "outputId": "ead5d107-8fba-4e49-95a5-9cb84e5819e8"
   },
   "outputs": [
    {
     "ename": "TypeError",
     "evalue": "ignored",
     "output_type": "error",
     "traceback": [
      "\u001b[0;31m---------------------------------------------------------------------------\u001b[0m",
      "\u001b[0;31mTypeError\u001b[0m                                 Traceback (most recent call last)",
      "\u001b[0;32m<ipython-input-42-876cf2676680>\u001b[0m in \u001b[0;36m<module>\u001b[0;34m()\u001b[0m\n\u001b[0;32m----> 1\u001b[0;31m \u001b[0mfruits\u001b[0m\u001b[0;34m[\u001b[0m\u001b[0;34m-\u001b[0m\u001b[0;36m1\u001b[0m\u001b[0;34m]\u001b[0m \u001b[0;34m=\u001b[0m \u001b[0;34m\"golden delicious apple\"\u001b[0m\u001b[0;34m\u001b[0m\u001b[0;34m\u001b[0m\u001b[0m\n\u001b[0m\u001b[1;32m      2\u001b[0m \u001b[0mfruits\u001b[0m\u001b[0;34m\u001b[0m\u001b[0;34m\u001b[0m\u001b[0m\n",
      "\u001b[0;31mTypeError\u001b[0m: 'tuple' object does not support item assignment"
     ]
    }
   ],
   "source": [
    "fruits[-1] = \"golden delicious apple\"\n",
    "fruits"
   ]
  },
  {
   "cell_type": "code",
   "execution_count": null,
   "metadata": {
    "colab": {
     "base_uri": "https://localhost:8080/"
    },
    "id": "MSJ21dq88XWe",
    "outputId": "ef1ed55b-0db8-467a-d459-5995c40d01aa"
   },
   "outputs": [
    {
     "data": {
      "text/plain": [
       "False"
      ]
     },
     "execution_count": 44,
     "metadata": {},
     "output_type": "execute_result"
    }
   ],
   "source": [
    "[1,2,3] is [1,2,3]"
   ]
  },
  {
   "cell_type": "code",
   "execution_count": null,
   "metadata": {
    "colab": {
     "base_uri": "https://localhost:8080/"
    },
    "id": "iMC9fFXL88hY",
    "outputId": "87f5532b-23d1-4d4c-9954-81d40aaca36c"
   },
   "outputs": [
    {
     "data": {
      "text/plain": [
       "[1, 2, 3, 1, 2, 3]"
      ]
     },
     "execution_count": 49,
     "metadata": {},
     "output_type": "execute_result"
    }
   ],
   "source": [
    "[1,2,3] + [1,2,3]"
   ]
  },
  {
   "cell_type": "code",
   "execution_count": null,
   "metadata": {
    "colab": {
     "base_uri": "https://localhost:8080/"
    },
    "id": "vV-GzhGS8lZL",
    "outputId": "be7429c6-f501-4f31-8795-cd3c464d2f45"
   },
   "outputs": [
    {
     "data": {
      "text/plain": [
       "True"
      ]
     },
     "execution_count": 45,
     "metadata": {},
     "output_type": "execute_result"
    }
   ],
   "source": [
    "(1,2,3) is (1,2,3)"
   ]
  },
  {
   "cell_type": "code",
   "execution_count": null,
   "metadata": {
    "colab": {
     "base_uri": "https://localhost:8080/"
    },
    "id": "il4YZOUZ81kG",
    "outputId": "fdef0538-00d1-4e95-eb8c-0bed9dffd345"
   },
   "outputs": [
    {
     "data": {
      "text/plain": [
       "(1, 2, 3, 1, 2, 3)"
      ]
     },
     "execution_count": 48,
     "metadata": {},
     "output_type": "execute_result"
    }
   ],
   "source": [
    "(1,2,3) + (1,2,3)"
   ]
  },
  {
   "cell_type": "markdown",
   "metadata": {
    "id": "2xdJaUho9TAt"
   },
   "source": [
    "Collections: Sets"
   ]
  },
  {
   "cell_type": "code",
   "execution_count": null,
   "metadata": {
    "colab": {
     "base_uri": "https://localhost:8080/"
    },
    "id": "oZXFIk3g9Sxn",
    "outputId": "0b018d32-409f-4e4e-b42f-9abe11898735"
   },
   "outputs": [
    {
     "data": {
      "text/plain": [
       "{'apple', 'blueberry', 'cantaloupe', 'mango', 'melon', 'orange'}"
      ]
     },
     "execution_count": 59,
     "metadata": {},
     "output_type": "execute_result"
    }
   ],
   "source": [
    "fruits = {\"apple\", \"blueberry\", \"cantaloupe\", \"orange\", \"melon\", \"mango\", \"apple\"}\n",
    "fruits"
   ]
  },
  {
   "cell_type": "code",
   "execution_count": null,
   "metadata": {
    "colab": {
     "base_uri": "https://localhost:8080/"
    },
    "id": "E8gNqZyQ9jp1",
    "outputId": "bc0cd9bd-f0ff-4a44-9f72-28aae85cefcf"
   },
   "outputs": [
    {
     "data": {
      "text/plain": [
       "set"
      ]
     },
     "execution_count": 53,
     "metadata": {},
     "output_type": "execute_result"
    }
   ],
   "source": [
    "type(set())"
   ]
  },
  {
   "cell_type": "code",
   "execution_count": null,
   "metadata": {
    "colab": {
     "base_uri": "https://localhost:8080/"
    },
    "id": "r-Yo3V-t-I7Q",
    "outputId": "7af55f84-1523-486a-b92f-11324ed32bd3"
   },
   "outputs": [
    {
     "data": {
      "text/plain": [
       "{'apple', 'blueberry', 'cantaloupe', 'lychee', 'mango', 'melon', 'orange'}"
      ]
     },
     "execution_count": 60,
     "metadata": {},
     "output_type": "execute_result"
    }
   ],
   "source": [
    "fruits.add(\"lychee\")\n",
    "fruits"
   ]
  },
  {
   "cell_type": "code",
   "execution_count": null,
   "metadata": {
    "colab": {
     "base_uri": "https://localhost:8080/"
    },
    "id": "bRQttKee-VHu",
    "outputId": "83d212fe-0ce5-4775-c610-9a0c910b71c0"
   },
   "outputs": [
    {
     "data": {
      "text/plain": [
       "{'apple',\n",
       " 'blueberry',\n",
       " 'cantaloupe',\n",
       " 'cherry',\n",
       " 'lychee',\n",
       " 'mango',\n",
       " 'melon',\n",
       " 'orange'}"
      ]
     },
     "execution_count": 61,
     "metadata": {},
     "output_type": "execute_result"
    }
   ],
   "source": [
    "fruits.update([\"apple\", \"cherry\"])\n",
    "fruits"
   ]
  },
  {
   "cell_type": "code",
   "execution_count": null,
   "metadata": {
    "colab": {
     "base_uri": "https://localhost:8080/"
    },
    "id": "YzMktvGI-bb4",
    "outputId": "dca98908-7c5c-4ace-d08b-d80363fb5955"
   },
   "outputs": [
    {
     "data": {
      "text/plain": [
       "{(1, 2, 3), 1, 2, 3, 4, 'Hello'}"
      ]
     },
     "execution_count": 68,
     "metadata": {},
     "output_type": "execute_result"
    }
   ],
   "source": [
    "st1 = {1,2,3,4}\n",
    "st1.add(\"Hello\")\n",
    "st1.add((1,2,3))\n",
    "st1"
   ]
  },
  {
   "cell_type": "code",
   "execution_count": null,
   "metadata": {
    "colab": {
     "base_uri": "https://localhost:8080/"
    },
    "id": "dNt5vMsGAbNQ",
    "outputId": "06e99a88-0ca5-4c9f-b3c5-e619d8aea970"
   },
   "outputs": [
    {
     "name": "stdout",
     "output_type": "stream",
     "text": [
      "cherry\n",
      "blueberry\n",
      "apple\n",
      "lychee\n",
      "orange\n",
      "melon\n",
      "cantaloupe\n",
      "mango\n"
     ]
    }
   ],
   "source": [
    "fruits = {'apple',\n",
    " 'blueberry',\n",
    " 'cantaloupe',\n",
    " 'cherry',\n",
    " 'lychee',\n",
    " 'mango',\n",
    " 'melon',\n",
    " 'orange'}\n",
    "\n",
    "while fruits:\n",
    "   print(fruits.pop())"
   ]
  },
  {
   "cell_type": "code",
   "execution_count": null,
   "metadata": {
    "colab": {
     "base_uri": "https://localhost:8080/"
    },
    "id": "gErYOwbcBQWE",
    "outputId": "698c8938-ed56-4084-aec1-10a2e011281f"
   },
   "outputs": [
    {
     "data": {
      "text/plain": [
       "{1, 2, 3, 4, 5, 6, 7}"
      ]
     },
     "execution_count": 76,
     "metadata": {},
     "output_type": "execute_result"
    }
   ],
   "source": [
    "st1 = {1,2,3}\n",
    "st2 = {2,3,4}\n",
    "st1.union([4,5,6,7])"
   ]
  },
  {
   "cell_type": "code",
   "execution_count": null,
   "metadata": {
    "colab": {
     "base_uri": "https://localhost:8080/"
    },
    "id": "Ccs0CNPtHBit",
    "outputId": "4a39eaeb-a4f3-464e-9159-e45f47bffc26"
   },
   "outputs": [
    {
     "data": {
      "text/plain": [
       "{'id': 1, 'password': 'W0r!d', 'username': 'Hello'}"
      ]
     },
     "execution_count": 79,
     "metadata": {},
     "output_type": "execute_result"
    }
   ],
   "source": [
    "user = {\n",
    "    \"id\": 1,\n",
    "    \"username\": \"Hello\",\n",
    "    \"password\": \"W0r!d\"\n",
    "}\n",
    "user"
   ]
  },
  {
   "cell_type": "code",
   "execution_count": null,
   "metadata": {
    "colab": {
     "base_uri": "https://localhost:8080/",
     "height": 35
    },
    "id": "tHoqA_DwHc4u",
    "outputId": "0111fb74-00db-44f6-8aec-f9a60d7cba4e"
   },
   "outputs": [
    {
     "data": {
      "application/vnd.google.colaboratory.intrinsic+json": {
       "type": "string"
      },
      "text/plain": [
       "'W0r!d'"
      ]
     },
     "execution_count": 80,
     "metadata": {},
     "output_type": "execute_result"
    }
   ],
   "source": [
    "user['password']"
   ]
  },
  {
   "cell_type": "code",
   "execution_count": null,
   "metadata": {
    "colab": {
     "base_uri": "https://localhost:8080/"
    },
    "id": "Frow6G7AHlsy",
    "outputId": "61ca4160-ec8f-402d-82c3-0946da4ccb99"
   },
   "outputs": [
    {
     "data": {
      "text/plain": [
       "{'id': 1,\n",
       " 'password': 'W0r!d',\n",
       " 'status': {'active': True, 'banned': False},\n",
       " 'username': 'Hello'}"
      ]
     },
     "execution_count": 82,
     "metadata": {},
     "output_type": "execute_result"
    }
   ],
   "source": [
    "user[\"status\"] = {\n",
    "    \"active\": True,\n",
    "    \"banned\": False\n",
    "}\n",
    "user"
   ]
  },
  {
   "cell_type": "code",
   "execution_count": null,
   "metadata": {
    "colab": {
     "base_uri": "https://localhost:8080/"
    },
    "id": "j9OOqnEHH4vA",
    "outputId": "12a73197-3820-4089-b9af-1cb0ae567621"
   },
   "outputs": [
    {
     "data": {
      "text/plain": [
       "{'id': 1,\n",
       " 'password': 'w0R!D',\n",
       " 'status': {'active': True, 'banned': False},\n",
       " 'username': 'Hello'}"
      ]
     },
     "execution_count": 83,
     "metadata": {},
     "output_type": "execute_result"
    }
   ],
   "source": [
    "user[\"password\"] = \"w0R!D\"\n",
    "user"
   ]
  },
  {
   "cell_type": "code",
   "execution_count": null,
   "metadata": {
    "colab": {
     "base_uri": "https://localhost:8080/"
    },
    "id": "xCBr2vkhIFfK",
    "outputId": "228b5682-7dc8-4cbc-8996-0e0d5ed54bfc"
   },
   "outputs": [
    {
     "data": {
      "text/plain": [
       "{(1, 2): False, 3: True, 'id': 1, 'name': 'dictionary'}"
      ]
     },
     "execution_count": 90,
     "metadata": {},
     "output_type": "execute_result"
    }
   ],
   "source": [
    "di = {\n",
    "    \"id\": 1,\n",
    "    \"name\": \"dictionary\",\n",
    "    3: True,\n",
    "    (1,2): False\n",
    "}\n",
    "di"
   ]
  },
  {
   "cell_type": "code",
   "execution_count": null,
   "metadata": {
    "colab": {
     "base_uri": "https://localhost:8080/"
    },
    "id": "MW1ZnoYHIKK0",
    "outputId": "0a4dac77-1a1c-4880-c91d-3badb4a639cd"
   },
   "outputs": [
    {
     "name": "stdout",
     "output_type": "stream",
     "text": [
      "{'active': True, 'banned': False}\n",
      "{'active': True, 'banned': False}\n"
     ]
    }
   ],
   "source": [
    "user[\"status\"] is user.get(\"status\")\n",
    "print(user[\"status\"])\n",
    "print(user.get(\"status\"))"
   ]
  },
  {
   "cell_type": "code",
   "execution_count": null,
   "metadata": {
    "colab": {
     "base_uri": "https://localhost:8080/"
    },
    "id": "u60_sqURJh1T",
    "outputId": "090feb4b-236b-42aa-852b-4d4daae867a2"
   },
   "outputs": [
    {
     "name": "stdout",
     "output_type": "stream",
     "text": [
      "dict_keys(['id', 'username', 'password', 'status'])\n",
      "dict_values([1, 'Hello', 'w0R!D', {'active': True, 'banned': False}])\n"
     ]
    }
   ],
   "source": [
    "print(user.keys())\n",
    "print(user.values())"
   ]
  },
  {
   "cell_type": "code",
   "execution_count": null,
   "metadata": {
    "colab": {
     "base_uri": "https://localhost:8080/"
    },
    "id": "hLIZbgv8JohJ",
    "outputId": "2a8c4594-e9f8-4307-8f36-02286aa2d48b"
   },
   "outputs": [
    {
     "data": {
      "text/plain": [
       "dict_items([('id', 1), ('username', 'Hello'), ('password', 'w0R!D'), ('status', {'active': True, 'banned': False})])"
      ]
     },
     "execution_count": 95,
     "metadata": {},
     "output_type": "execute_result"
    }
   ],
   "source": [
    "user.items()"
   ]
  },
  {
   "cell_type": "code",
   "execution_count": null,
   "metadata": {
    "colab": {
     "base_uri": "https://localhost:8080/"
    },
    "id": "Vv5fgA5MQCtD",
    "outputId": "5ed85c83-d905-497b-d59d-ab67d83b6e45"
   },
   "outputs": [
    {
     "name": "stdout",
     "output_type": "stream",
     "text": [
      "Enter your name: Charles Dunn\n",
      "Enter your age: 34\n",
      "Enter how many years you have been coding10\n",
      "Enter the first three coding languages you learned, seperated by a comma: C++, Javascript, Python\n",
      "Enter your three favorite coding languages, seperated by a comma: Python, Java, Javascript\n"
     ]
    },
    {
     "data": {
      "text/plain": [
       "{'age': '34',\n",
       " 'fav_langs': ['Python', 'Java', 'Javascript'],\n",
       " 'first_langs': ('C++', 'Javascript', 'Python'),\n",
       " 'name': 'Charles Dunn',\n",
       " 'still_fav': {'Javascript', 'Python'},\n",
       " 'years': '10'}"
      ]
     },
     "execution_count": 97,
     "metadata": {},
     "output_type": "execute_result"
    }
   ],
   "source": [
    "developer = {\n",
    "    \"name\": input(\"Enter your name: \"),\n",
    "    \"age\": input(\"Enter your age: \"),\n",
    "    \"years\": input(\"Enter how many years you have been coding\": )\n",
    "}\n",
    "\n",
    "first_langs = tuple(input(\"Enter the first three coding languages you learned, seperated by a comma: \").split(\", \"))\n",
    "fav_langs = input(\"Enter your three favorite coding languages, seperated by a comma: \").split(\", \")\n",
    "still_fav = set(first_langs).intersection(fav_langs)\n",
    "\n",
    "developer[\"first_langs\"] = first_langs\n",
    "developer[\"fav_langs\"] = fav_langs\n",
    "developer[\"still_fav\"] = still_fav\n",
    "\n",
    "developer"
   ]
  },
  {
   "cell_type": "code",
   "execution_count": null,
   "metadata": {
    "colab": {
     "base_uri": "https://localhost:8080/"
    },
    "id": "iR7m-LTBRgVL",
    "outputId": "6cbe95ff-6299-4a98-8d8b-0bf7549929d4"
   },
   "outputs": [
    {
     "data": {
      "text/plain": [
       "<str_iterator at 0x7f4edf52fc10>"
      ]
     },
     "execution_count": 99,
     "metadata": {},
     "output_type": "execute_result"
    }
   ],
   "source": [
    "iter_hello = iter(\"Hello World\")\n",
    "iter_hello"
   ]
  },
  {
   "cell_type": "code",
   "execution_count": null,
   "metadata": {
    "colab": {
     "base_uri": "https://localhost:8080/",
     "height": 169
    },
    "id": "rSVm9EiKTnIg",
    "outputId": "2df8f627-1bc1-4c29-d712-9cde58b01e12"
   },
   "outputs": [
    {
     "ename": "StopIteration",
     "evalue": "ignored",
     "output_type": "error",
     "traceback": [
      "\u001b[0;31m---------------------------------------------------------------------------\u001b[0m",
      "\u001b[0;31mStopIteration\u001b[0m                             Traceback (most recent call last)",
      "\u001b[0;32m<ipython-input-111-397cd3292057>\u001b[0m in \u001b[0;36m<module>\u001b[0;34m()\u001b[0m\n\u001b[0;32m----> 1\u001b[0;31m \u001b[0mnext\u001b[0m\u001b[0;34m(\u001b[0m\u001b[0miter_hello\u001b[0m\u001b[0;34m)\u001b[0m\u001b[0;34m\u001b[0m\u001b[0;34m\u001b[0m\u001b[0m\n\u001b[0m",
      "\u001b[0;31mStopIteration\u001b[0m: "
     ]
    }
   ],
   "source": [
    "next(iter_hello)"
   ]
  },
  {
   "cell_type": "code",
   "execution_count": null,
   "metadata": {
    "colab": {
     "base_uri": "https://localhost:8080/"
    },
    "id": "7pwGQH9kUEqX",
    "outputId": "b5398cde-c4a3-4442-fdac-52bc997fb9e8"
   },
   "outputs": [
    {
     "data": {
      "text/plain": [
       "range(1, 10)"
      ]
     },
     "execution_count": 113,
     "metadata": {},
     "output_type": "execute_result"
    }
   ],
   "source": [
    "range(1, 10, 2)"
   ]
  },
  {
   "cell_type": "code",
   "execution_count": null,
   "metadata": {
    "id": "eOK4zczgUy0A"
   },
   "outputs": [],
   "source": [
    "fruits = ['apple',\n",
    " 'blueberry',\n",
    " 'cantaloupe',\n",
    " 'cherry',\n",
    " 'lychee',\n",
    " 'mango',\n",
    " 'melon',\n",
    " 'orange']"
   ]
  },
  {
   "cell_type": "code",
   "execution_count": null,
   "metadata": {
    "colab": {
     "base_uri": "https://localhost:8080/"
    },
    "id": "o7xtgqXiU__P",
    "outputId": "3328c43a-ad29-41f1-d9b6-7cb3ed216171"
   },
   "outputs": [
    {
     "name": "stdout",
     "output_type": "stream",
     "text": [
      "cherry\n",
      "blueberry\n",
      "apple\n",
      "lychee\n",
      "orange\n",
      "melon\n",
      "cantaloupe\n",
      "mango\n"
     ]
    }
   ],
   "source": [
    "for fruit in fruits:\n",
    "  print(fruit)"
   ]
  },
  {
   "cell_type": "code",
   "execution_count": null,
   "metadata": {
    "colab": {
     "base_uri": "https://localhost:8080/"
    },
    "id": "GIHH1thUVde_",
    "outputId": "8531774c-2706-4829-fee5-1aa1d04a69e8"
   },
   "outputs": [
    {
     "name": "stdout",
     "output_type": "stream",
     "text": [
      "h\n",
      "e\n",
      "l\n",
      "l\n",
      "o\n",
      " \n",
      "W\n",
      "o\n",
      "r\n",
      "l\n",
      "d\n"
     ]
    }
   ],
   "source": [
    "for letter in \"hello World\": print(letter)"
   ]
  },
  {
   "cell_type": "code",
   "execution_count": null,
   "metadata": {
    "colab": {
     "base_uri": "https://localhost:8080/"
    },
    "id": "vHyhojkMVw34",
    "outputId": "14b75a07-ed76-494c-d6cb-4528f1fbb048"
   },
   "outputs": [
    {
     "name": "stdout",
     "output_type": "stream",
     "text": [
      "*****\n",
      "*****\n",
      "*****\n"
     ]
    }
   ],
   "source": [
    "lst = [1,2,3]\n",
    "for _ in lst:\n",
    "  print(\"*****\")"
   ]
  },
  {
   "cell_type": "code",
   "execution_count": null,
   "metadata": {
    "colab": {
     "base_uri": "https://localhost:8080/"
    },
    "id": "XDSpXl1iWiIO",
    "outputId": "18f2aad6-0807-44af-d028-cb99cd815a51"
   },
   "outputs": [
    {
     "name": "stdout",
     "output_type": "stream",
     "text": [
      "1\n",
      "3\n",
      "5\n",
      "7\n"
     ]
    }
   ],
   "source": [
    "for i in range(1,9,2):\n",
    "  print(i)"
   ]
  },
  {
   "cell_type": "code",
   "execution_count": null,
   "metadata": {
    "colab": {
     "base_uri": "https://localhost:8080/"
    },
    "id": "AjQHpVdhWn8H",
    "outputId": "a2b28ed4-f6e0-4d27-87ba-daddfcba97fd"
   },
   "outputs": [
    {
     "name": "stdout",
     "output_type": "stream",
     "text": [
      "9\n",
      "8\n",
      "7\n",
      "6\n",
      "5\n",
      "4\n",
      "3\n",
      "2\n"
     ]
    }
   ],
   "source": [
    "for i in range(9, 1, -1):\n",
    "  print(i)"
   ]
  },
  {
   "cell_type": "code",
   "execution_count": null,
   "metadata": {
    "colab": {
     "base_uri": "https://localhost:8080/"
    },
    "id": "_nH3G9CbWQLQ",
    "outputId": "c581ca8c-6cac-4159-9361-1765514717b4"
   },
   "outputs": [
    {
     "name": "stdout",
     "output_type": "stream",
     "text": [
      "Index 0 of fruits is apple\n",
      "Index 1 of fruits is blueberry\n",
      "Index 2 of fruits is cantaloupe\n",
      "Index 3 of fruits is cherry\n",
      "Index 4 of fruits is lychee\n",
      "Index 5 of fruits is mango\n",
      "Index 6 of fruits is melon\n",
      "Index 7 of fruits is orange\n"
     ]
    }
   ],
   "source": [
    "for i in range(len(fruits)):\n",
    "  print(f\"Index {i} of fruits is {fruits[i]}\")"
   ]
  },
  {
   "cell_type": "markdown",
   "metadata": {
    "id": "t-TY_j6kQ98a"
   },
   "source": [
    "FizzBuzz"
   ]
  },
  {
   "cell_type": "code",
   "execution_count": 11,
   "metadata": {
    "colab": {
     "base_uri": "https://localhost:8080/"
    },
    "id": "4boYn4cwWgjd",
    "outputId": "7bc144f8-3c62-4f5d-b164-5d46368acd2d"
   },
   "outputs": [
    {
     "name": "stdout",
     "output_type": "stream",
     "text": [
      "Enter an Integer: 50\n",
      "[1, 2, 'Fizz', 4, 'Buzz', 'Fizz', 7, 8, 'Fizz', 'Buzz', 11, 'Fizz', 13, 14, 'Fizzbuzz', 16, 17, 'Fizz', 19, 'Buzz', 'Fizz', 22, 23, 'Fizz', 'Buzz', 26, 'Fizz', 28, 29, 'Fizzbuzz', 31, 32, 'Fizz', 34, 'Buzz', 'Fizz', 37, 38, 'Fizz', 'Buzz', 41, 'Fizz', 43, 44, 'Fizzbuzz', 46, 47, 'Fizz', 49, 'Buzz']\n",
      "Sum of non-fizzbuzz numbers: 682\n",
      "Count of fizz: 13\n",
      "Count of buzz: 7\n",
      "Count of fizzbuzz: 3\n"
     ]
    }
   ],
   "source": [
    "while True: \n",
    "  num = input(\"Enter an Integer: \")\n",
    "  if num.isnumeric(): break\n",
    "  print(\"Please enter a number\")\n",
    "\n",
    "num = int(num)\n",
    "fizzbuzz = []\n",
    "\n",
    "for i in range(1, num + 1):\n",
    "  # if i % 3 == 0 and i % 5 == 0: pass\n",
    "  if i %15 == 0: fizzbuzz.append(\"Fizzbuzz\")\n",
    "  elif i % 3 == 0: fizzbuzz.append(\"Fizz\")\n",
    "  elif i % 5 == 0: fizzbuzz.append(\"Buzz\")\n",
    "  else: fizzbuzz.append(i)\n",
    "\n",
    "print(fizzbuzz)\n",
    "\n",
    "total = 0\n",
    "for elm in fizzbuzz:\n",
    "  if isinstance(elm, int): total += elm\n",
    "\n",
    "print(f\"Sum of non-fizzbuzz numbers: {total}\" )\n",
    "print(f\"Count of fizz: {fizzbuzz.count('Fizz')}\")\n",
    "print(f\"Count of buzz: {fizzbuzz.count('Buzz')}\")\n",
    "print(f\"Count of fizzbuzz: {fizzbuzz.count('Fizzbuzz')}\")"
   ]
  },
  {
   "cell_type": "code",
   "execution_count": null,
   "metadata": {
    "id": "aA2AFvxVTx3g"
   },
   "outputs": [],
   "source": []
  }
 ],
 "metadata": {
  "colab": {
   "collapsed_sections": [],
   "name": "Python_Introduction.ipynb",
   "provenance": []
  },
  "kernelspec": {
   "display_name": "Python 3 (ipykernel)",
   "language": "python",
   "name": "python3"
  },
  "language_info": {
   "codemirror_mode": {
    "name": "ipython",
    "version": 3
   },
   "file_extension": ".py",
   "mimetype": "text/x-python",
   "name": "python",
   "nbconvert_exporter": "python",
   "pygments_lexer": "ipython3",
   "version": "3.10.5"
  }
 },
 "nbformat": 4,
 "nbformat_minor": 4
}
