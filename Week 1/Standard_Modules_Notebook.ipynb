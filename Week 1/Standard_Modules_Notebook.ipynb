{
 "cells": [
  {
   "cell_type": "markdown",
   "metadata": {
    "id": "NHYZYc408CEt"
   },
   "source": [
    "# <center> Standard Modules </center>\n",
    "**<a href=\"https://docs.python.org/3/library/\"><font color=\"gray\">The python standard library</font></a>** contains <a href=\"https://docs.python.org/3/tutorial/modules.html\"><font color=\"gray\">modules</font></a> covering a wide range of <a href=\"https://www.geeksforgeeks.org/python-modules/\">functionality</a> in python. Here we'll go over some of the main modules that will come in handy no matter what you might be doing.\n",
    "\n",
    "Be sure to know the basic functions and parameters detailed in each module. Links to the documentation and specific functions are provided. Use the table of contents to navigate between modules and sections.\n",
    "\n",
    "Try to complete all of the exercises. If you're feeling confident, attempt the bonus exercises! Use the documentation of each module for assistance.\n",
    "\n",
    "Links in gray: Documentation links.\n",
    "\n",
    "Links in blue: Wikipedia links.\n",
    "\n",
    "---\n",
    "\n"
   ]
  },
  {
   "cell_type": "markdown",
   "metadata": {
    "id": "Z7L9gX7C8r3T"
   },
   "source": [
    "## <center><a href=\"https://docs.python.org/3/library/sys.html\"><font color=\"gray\">`sys`</font></a>: system-specific parameters and functions</center>\n",
    "The `sys` module is a basic library for interaction with the runtime environment. "
   ]
  },
  {
   "cell_type": "markdown",
   "metadata": {
    "id": "s38CVEl3JbIJ"
   },
   "source": [
    "### **Basic Functions**"
   ]
  },
  {
   "cell_type": "markdown",
   "metadata": {
    "id": "czpttbozaAye"
   },
   "source": [
    "*   Check <a href=\"https://en.wikipedia.org/wiki/Interpreter_(computing)\">interpeter</a> version info with <a href=\"https://docs.python.org/3/library/sys.html#sys.version\"><font color=\"gray\">`sys.version`</font></a>\n",
    "*   <a href=\"https://docs.python.org/3/library/sys.html#sys.stdin\"><font color=\"gray\">Analyze input/output</font></a> with\n",
    "  *   `sys.stdin`\n",
    "  *   `sys.stdout`\n",
    "  *   `sts.stderr`\n",
    "*   Read command line arguments with <a href=\"https://docs.python.org/3/library/sys.html#sys.argv\"><font color=\"gray\">`sys.argv`</font></a>\n",
    "*   Exit program with <a href=\"https://docs.python.org/3/library/sys.html#sys.exit\"><font color=\"gray\">`sys.exit(<exit message>)`</font></a>\n",
    "\n",
    "Note: These functions are examining the ***notebook*** runtime, which might not be your local runtime. If you want to examine your ***local*** runtime, you'll need to connect to it using Jupyter."
   ]
  },
  {
   "cell_type": "markdown",
   "metadata": {
    "id": "HN9rZToADZxb"
   },
   "source": [
    "### **Exercises**"
   ]
  },
  {
   "cell_type": "markdown",
   "metadata": {
    "id": "0Jg86D03DJrv"
   },
   "source": [
    "#### Imports"
   ]
  },
  {
   "cell_type": "code",
   "execution_count": null,
   "metadata": {
    "id": "yeqdqJsP-Nmv"
   },
   "outputs": [],
   "source": [
    "# Import the sys module.\n"
   ]
  },
  {
   "cell_type": "markdown",
   "metadata": {
    "id": "R7geM3v3smJA"
   },
   "source": [
    "--- \n",
    "####`sys.version`"
   ]
  },
  {
   "cell_type": "code",
   "execution_count": null,
   "metadata": {
    "id": "tZCFAXG8773_"
   },
   "outputs": [],
   "source": [
    "# Return colab's interpreter version info. Similar to !python --version, but with slightly more verbose output.\n"
   ]
  },
  {
   "cell_type": "markdown",
   "metadata": {
    "id": "hrvldDnOs5fS"
   },
   "source": [
    "#### Standard Streams"
   ]
  },
  {
   "cell_type": "markdown",
   "metadata": {
    "id": "ub1YiAHvDcEh"
   },
   "source": [
    "`sys.stdin`"
   ]
  },
  {
   "cell_type": "code",
   "execution_count": null,
   "metadata": {
    "id": "ty9Gk6s1-QUu"
   },
   "outputs": [],
   "source": [
    "# Return the stream of the standard input as a file object.\n"
   ]
  },
  {
   "cell_type": "markdown",
   "metadata": {
    "id": "FmQR_-jeDgNL"
   },
   "source": [
    "This is what's called a <a href=\"https://en.wikipedia.org/wiki/Standard_streams\">standard stream</a>. Input from the command line goes through the standard input stream. The `input()` function allows us to manipulate this stream in a notebook cell."
   ]
  },
  {
   "cell_type": "code",
   "execution_count": null,
   "metadata": {
    "id": "0twJOd6SDzEi"
   },
   "outputs": [],
   "source": [
    "# Use input() to return a string of user input.\n"
   ]
  },
  {
   "cell_type": "markdown",
   "metadata": {
    "id": "hj_A453AGRES"
   },
   "source": [
    "`sys.stdout`"
   ]
  },
  {
   "cell_type": "code",
   "execution_count": null,
   "metadata": {
    "id": "Qo5eO5kP-Tmm"
   },
   "outputs": [],
   "source": [
    "# Return the stream of the standard output as a file object. \n"
   ]
  },
  {
   "cell_type": "markdown",
   "metadata": {
    "id": "hBn_x2BGGzeF"
   },
   "source": [
    "This is the standard output stream. We actually use this whenever we call the `print()` function. We can access it more directly with `sys.stdout.write()`."
   ]
  },
  {
   "cell_type": "code",
   "execution_count": null,
   "metadata": {
    "id": "XFEEwrvqIujb"
   },
   "outputs": [],
   "source": [
    "# Pass a string of your choice to the sys.stdout.write() function. Do it once more on the next line with another string.\n"
   ]
  },
  {
   "cell_type": "code",
   "execution_count": null,
   "metadata": {
    "id": "tVzUuVPMKdhN"
   },
   "outputs": [],
   "source": [
    "# Print the same strings using print(). Note any differences.\n"
   ]
  },
  {
   "cell_type": "markdown",
   "metadata": {
    "id": "ZRqQBtEHJK0I"
   },
   "source": [
    "`sys.stderr`"
   ]
  },
  {
   "cell_type": "code",
   "execution_count": null,
   "metadata": {
    "id": "Gi87tN1D-WyS"
   },
   "outputs": [],
   "source": [
    "# Return the stream of the interpreter's prompts and errors as a file object.\n"
   ]
  },
  {
   "cell_type": "markdown",
   "metadata": {
    "id": "BEPgaRjKK5GJ"
   },
   "source": [
    "This is our standard [error](https://docs.python.org/3/tutorial/errors.html) stream. All exceptions from the errors in our code are logged here."
   ]
  },
  {
   "cell_type": "markdown",
   "metadata": {
    "id": "0BRdUsbJLPT-"
   },
   "source": [
    "---\n",
    "#### `sys.argv`"
   ]
  },
  {
   "cell_type": "code",
   "execution_count": null,
   "metadata": {
    "id": "07nyr6sz--PK"
   },
   "outputs": [],
   "source": [
    "# Print a list of command line arguments given with the file (first line is the file name).\n"
   ]
  },
  {
   "cell_type": "markdown",
   "metadata": {
    "id": "5PH2seqxLT5i"
   },
   "source": [
    "Here we can see the file that's being run (the launcher for our runtime) as well as these arguments:\n",
    "  * `-f` is a flag that tests whether the following file exists and is accessible.\n",
    "  * the last argument is the file path for the kernel itself. If you connect to a new runtime, this path will be different."
   ]
  },
  {
   "cell_type": "markdown",
   "metadata": {
    "id": "dEL8I9YzMrat"
   },
   "source": [
    "---\n",
    "#### `sys.exit`"
   ]
  },
  {
   "cell_type": "code",
   "execution_count": null,
   "metadata": {
    "id": "rUb-fn20PAU3"
   },
   "outputs": [],
   "source": [
    "try:\n",
    "# Raise an exception to exit the runtime.\n",
    "### START CODE\n",
    "\n",
    "### END CODE\n",
    "except SystemExit as err:\n",
    "  print(\"Error: SystemExit exception raised.\")"
   ]
  },
  {
   "cell_type": "markdown",
   "metadata": {
    "id": "EQRq-Bs8NUZU"
   },
   "source": [
    "Using this in a terminal will exit the runtime. In a notebook, however, it only raises a SystemExit exception. If we want to disconnect from the runtime in a notebook, we use the built-in function, `exit()`.\n"
   ]
  },
  {
   "cell_type": "markdown",
   "metadata": {
    "id": "oG4rELEIC_YY"
   },
   "source": [
    "---\n",
    "#### Summary Exercise\n"
   ]
  },
  {
   "cell_type": "code",
   "execution_count": null,
   "metadata": {
    "id": "px1HduUbDW-6"
   },
   "outputs": [],
   "source": [
    "# Get the runtime version info and assign it to the variable below\n",
    "#version =\n",
    "\n",
    "# Ask for the user's first name and assign it to the variable below.\n",
    "#name =\n",
    "\n",
    "# Return the file path (the first entry in the list returned from sys.argv) and assign it to the variable below.\n",
    "#filepath = \n",
    "\n",
    "# Insert the correct variables in the print statement.\n",
    "#print(f\"Hello, {______}. You are using python version {________} for this kernel/runtime, which uses the path {________}.\")\n"
   ]
  },
  {
   "cell_type": "markdown",
   "metadata": {
    "id": "T-TbF99MJxGr"
   },
   "source": [
    "---\n",
    "### **Bonus**"
   ]
  },
  {
   "cell_type": "markdown",
   "metadata": {
    "id": "AAr8JX5VPFf1"
   },
   "source": [
    "We've now covered one built-in module in the standard library, but there are many more. There are also built-in functions and types, as well (we've already used a few of them!). \n",
    "\n",
    "We have to import standard modules, but there's also a `builtins` module that's already imported. This is where our built-in exceptions ('AttributeError'), built-in constants ('True', 'False', a few more), and built-in functions (functions without a module prefix, such as print() and input(). For these functions, the prefix is hidden, but they're technically `builtins._____`. It can be confusing trying to distinguish between using the built-in modules versus the `builtins` constants and functions, but just keep in mind that a function or constant from a built-in module will contain the module of the prefix. Let's take a look at the `builtins` module."
   ]
  },
  {
   "cell_type": "markdown",
   "metadata": {
    "id": "Z2UyFuxYMBbD"
   },
   "source": [
    "Use `sys.module` to display a dictionary containing all of our currently imported modules. At the top, we can see `sys`, which we just imported, and `builtins`."
   ]
  },
  {
   "cell_type": "code",
   "execution_count": null,
   "metadata": {
    "id": "kbYSBU5DLrnm"
   },
   "outputs": [],
   "source": []
  },
  {
   "cell_type": "markdown",
   "metadata": {
    "id": "erQJOSMxMTxr"
   },
   "source": [
    "Let's retrieve the `builtins` namespace from the module dictionary with the 'builtins' key. This will be returned as a module object which we can open in the next step."
   ]
  },
  {
   "cell_type": "code",
   "execution_count": null,
   "metadata": {
    "id": "zt87ggtkM7ae"
   },
   "outputs": [],
   "source": []
  },
  {
   "cell_type": "markdown",
   "metadata": {
    "id": "SGpn9vibNF-8"
   },
   "source": [
    "Now we can use `dir()` to view the attributes of the module object retrieved above. "
   ]
  },
  {
   "cell_type": "code",
   "execution_count": null,
   "metadata": {
    "id": "uDFSY8mLNcRt"
   },
   "outputs": [],
   "source": []
  },
  {
   "cell_type": "markdown",
   "metadata": {
    "id": "PE9c8SBVNkQh"
   },
   "source": [
    "Nice! Here's what we get, in this order:\n",
    "* Built-in <a href=\"https://docs.python.org/3/library/exceptions.html\"><font color=\"gray\">Exceptions</font></a> and <a href=\"https://docs.python.org/3/library/constants.html\"><font color=\"gray\">Constants</font></a>\n",
    "* Special methods used by the module (`__import__` might seem familiar, more on this later)\n",
    "* Built-in <a href=\"https://docs.python.org/3/library/functions.html\"><font color=\"gray\">Functions</font></a> and <a href=\"https://docs.python.org/3/library/stdtypes.html#\"><font color=\"gray\">Types</font></a>\n",
    "\n",
    "We can see familiar functions like the `dir()` command we just used as well some familiar exceptions (`SyntaxError`) and data types (`str`, `dict`). It's not necessary to know every single one, but do some research on the attributes that you recognize, as you'll probably be using them a lot.\n",
    "\n",
    "Again, this is just the `builtins` module. You can do this for any module if you want to see its contents. However, this won't be too useful once you get more into learning new modules. This kind of functionality is more for manipulating module namespaces, and you won't run into that too much. Still, it's good to know."
   ]
  },
  {
   "cell_type": "markdown",
   "metadata": {
    "id": "o2QBoDHHpyih"
   },
   "source": [
    "\n",
    "\n",
    "---\n",
    "\n",
    "\n",
    "## <center><a href=\"https://docs.python.org/3/library/math.html\"><font color=\"gray\">`math`</font></a>: mathematical parameters and functions </center>\n",
    "The `math` module contains methods and variables to perform complex mathematical operations. Which is helpful in statistics and data visualization."
   ]
  },
  {
   "cell_type": "markdown",
   "metadata": {
    "id": "ro7SJW4kLELy"
   },
   "source": [
    "### **Basic Functions**"
   ]
  },
  {
   "cell_type": "markdown",
   "metadata": {
    "id": "x7mF33QnZ8rl"
   },
   "source": [
    "*   [Trigonometric](https://en.wikipedia.org/wiki/Trigonometry) functions:\n",
    "  * <a href=\"https://docs.python.org/3/library/math.html#math.sin\"><font color=\"gray\">`math.sin(<number>)`</font></a>\n",
    "  *   <a href=\"https://docs.python.org/3/library/math.html#math.cos\"><font color=\"gray\">`math.cos(<number>)`</font></a>\n",
    "  *   <a href=\"https://docs.python.org/3/library/math.html#math.tan\"><font color=\"gray\">`math.tan(<number>)`</font></a>\n",
    "*   [Exponential](https://en.wikipedia.org/wiki/Exponentiation) functions:\n",
    "  *   <a href=\"https://docs.python.org/3/library/math.html#math.log\"><font color=\"gray\">`math.log(<number>,<base>)`</font></a>\n",
    "  *   <a href=\"https://docs.python.org/3/library/math.html#math.exp\"><font color=\"gray\">`math.exp(<number>)`</font></a>\n",
    "*   Useful constants:\n",
    "  *   <a href=\"https://docs.python.org/3/library/math.html#math.e\"><font color=\"gray\">`math.e`</font></a>\n",
    "  *   <a href=\"https://docs.python.org/3/library/math.html#math.pi\"><font color=\"gray\">`math.pi`</font></a>\n",
    "  *   <a href=\"https://docs.python.org/3/library/math.html#math.inf\"><font color=\"gray\">`math.inf`</font></a>"
   ]
  },
  {
   "cell_type": "markdown",
   "metadata": {
    "id": "5aVvEGLrSAYO"
   },
   "source": [
    "### **Exercises**"
   ]
  },
  {
   "cell_type": "markdown",
   "metadata": {
    "id": "sKv6XcxcVeq-"
   },
   "source": [
    "#### Imports"
   ]
  },
  {
   "cell_type": "code",
   "execution_count": null,
   "metadata": {
    "id": "f16ZYvcDSt3w"
   },
   "outputs": [],
   "source": [
    "# Import the math module.\n"
   ]
  },
  {
   "cell_type": "markdown",
   "metadata": {
    "id": "RwgXm80YVhUk"
   },
   "source": [
    "#### Trigonometric functions"
   ]
  },
  {
   "cell_type": "code",
   "execution_count": null,
   "metadata": {
    "id": "lXL_RlspSC4F"
   },
   "outputs": [],
   "source": [
    "# Return the sine of 0 radians.\n"
   ]
  },
  {
   "cell_type": "code",
   "execution_count": null,
   "metadata": {
    "id": "YxJ24vLgTR7s"
   },
   "outputs": [],
   "source": [
    "# Return the cosine of 0 radians.\n"
   ]
  },
  {
   "cell_type": "code",
   "execution_count": null,
   "metadata": {
    "id": "KJumEDU0TVIm"
   },
   "outputs": [],
   "source": [
    "# Return the tangent of 0 radians.\n"
   ]
  },
  {
   "cell_type": "markdown",
   "metadata": {
    "id": "aIebZ958Vk1l"
   },
   "source": [
    "#### Exponential Functions"
   ]
  },
  {
   "cell_type": "code",
   "execution_count": null,
   "metadata": {
    "id": "V7Quw-aJTe7M"
   },
   "outputs": [],
   "source": [
    "# Return the logarithm (base 10) of 10\n"
   ]
  },
  {
   "cell_type": "code",
   "execution_count": null,
   "metadata": {
    "id": "rkT7Npn9T1OI"
   },
   "outputs": [],
   "source": [
    "# Return e raised to the power of 0\n"
   ]
  },
  {
   "cell_type": "markdown",
   "metadata": {
    "id": "HKFKNGmhVnpz"
   },
   "source": [
    "#### Useful Constants"
   ]
  },
  {
   "cell_type": "code",
   "execution_count": null,
   "metadata": {
    "id": "Gi69NpmvVq34"
   },
   "outputs": [],
   "source": [
    "# Return e raised to the power of e\n"
   ]
  },
  {
   "cell_type": "code",
   "execution_count": null,
   "metadata": {
    "id": "_jw81q6DV0RA"
   },
   "outputs": [],
   "source": [
    "# Return the cosine of pi\n"
   ]
  },
  {
   "cell_type": "code",
   "execution_count": null,
   "metadata": {
    "id": "6Au7zXL4WCfn"
   },
   "outputs": [],
   "source": [
    "# Return infinity divided by infinity. Note: This should return \"nan\".\n"
   ]
  },
  {
   "cell_type": "markdown",
   "metadata": {
    "id": "ziL-nDY9YfgA"
   },
   "source": [
    "### **Bonus**\n",
    "The math module is extensive, and is used a lot for interview questions. The more math functions you know, the easier it'll be to impress your interviewer. Here are a few more exercises meant to help you explore `math`'s functionality."
   ]
  },
  {
   "cell_type": "markdown",
   "metadata": {
    "id": "Pk3pG6MOY1w-"
   },
   "source": [
    "<a href=\"https://docs.python.org/3/library/math.html#number-theoretic-and-representation-functions\"><font color=\"gray\">Number-theoretic and representation functions</font></a>:\n"
   ]
  },
  {
   "cell_type": "code",
   "execution_count": null,
   "metadata": {
    "id": "oMhOzj0aY82-"
   },
   "outputs": [],
   "source": [
    "# Return the ceiling of the natural logarithm of 10.\n"
   ]
  },
  {
   "cell_type": "code",
   "execution_count": null,
   "metadata": {
    "id": "O3b_AYHmZbLS"
   },
   "outputs": [],
   "source": [
    "# Return 5 factorial as an integer.\n"
   ]
  },
  {
   "cell_type": "code",
   "execution_count": null,
   "metadata": {
    "id": "rsApOBPEZkq_"
   },
   "outputs": [],
   "source": [
    "# Check if negative infinity is an infinity. Just to be sure.\n"
   ]
  },
  {
   "cell_type": "markdown",
   "metadata": {
    "id": "jsiqOgofbdys"
   },
   "source": [
    "<a href=\"https://docs.python.org/3/library/math.html#angular-conversion\"><font color=\"gray\">Angular conversions</font></a>"
   ]
  },
  {
   "cell_type": "code",
   "execution_count": null,
   "metadata": {
    "id": "iApTH3aNbhXZ"
   },
   "outputs": [],
   "source": [
    "# Return the sine of 90 degrees. Note: the sin function uses radians, so you'll have to convert 360 degrees to radians.\n"
   ]
  },
  {
   "cell_type": "markdown",
   "metadata": {
    "id": "DOcVA7XxRvco"
   },
   "source": [
    "\n",
    "\n",
    "---\n",
    "\n",
    "\n",
    "## <center><a href=\"https://docs.python.org/3/library/random.html\"><font color=\"gray\">`random`</font></a>: mathematical parameters and functions </center>\n",
    "\n",
    "[Random number generation](https://en.wikipedia.org/wiki/Random_number_generation) is important in statistical sampling, simulation, and other areas where you may want an unpredictable value. It can be difficult to create <a href=\"https://en.wikipedia.org/wiki/Random_number_generation#%22True%22_vs._pseudo-random_numbers\">truly</a> random numbers, but the `random` module will accomplish most basic RGN tasks by generating pseudo-random numbers for a variety of data types."
   ]
  },
  {
   "cell_type": "markdown",
   "metadata": {
    "id": "yJVAssvHRvpw"
   },
   "source": [
    "### **Basic Functions**"
   ]
  },
  {
   "cell_type": "markdown",
   "metadata": {
    "id": "RFmiUZ2k8Kmk"
   },
   "source": [
    "For generating randomized data from a given sequence\n",
    "\n",
    "*   For a new random float between 0 and 1: <a href='https://docs.python.org/3/library/random.html#random.random'><font color=\"gray\">`random.random()`</font></a>\n",
    "*   For a new random integer: <a href='https://docs.python.org/3/library/random.html#random.randint'><font color=\"gray\">`random.randint(<start>, <stop>)`</font></a>\n",
    "*   For a new sample sequence: <a href='https://docs.python.org/3/library/random.html#random.sample'><font color=\"gray\">`random.sample(<list>, <length>)`</font></a>\n",
    "*   To shuffle an existing sequence: <a href='https://docs.python.org/3/library/random.html#random.shuffle'><font color=\"gray\">`random.shuffle(<list>)`</font></a>"
   ]
  },
  {
   "cell_type": "markdown",
   "metadata": {
    "id": "emVmUANuRvpx"
   },
   "source": [
    "### **Exercises**"
   ]
  },
  {
   "cell_type": "markdown",
   "metadata": {
    "id": "2OlyGWg3Zil4"
   },
   "source": [
    "#### Imports"
   ]
  },
  {
   "cell_type": "code",
   "execution_count": null,
   "metadata": {
    "id": "ZmHpBYUkb_oT"
   },
   "outputs": [],
   "source": [
    "# Import the random module.\n",
    "import random"
   ]
  },
  {
   "cell_type": "markdown",
   "metadata": {
    "id": "9Oal9gSRcGy1"
   },
   "source": [
    "#### From a range"
   ]
  },
  {
   "cell_type": "code",
   "execution_count": null,
   "metadata": {
    "id": "4yK4hSQjcHyu"
   },
   "outputs": [],
   "source": [
    "# Return a float between 0 and 1 (including 0 but not including 1).\n",
    "random.random()"
   ]
  },
  {
   "cell_type": "code",
   "execution_count": null,
   "metadata": {
    "id": "GOZu3_VKclG1"
   },
   "outputs": [],
   "source": [
    "# Return a random integer between 0 and 100.\n",
    "random.randint(0, 100)"
   ]
  },
  {
   "cell_type": "markdown",
   "metadata": {
    "id": "QGEG3japdDQ0"
   },
   "source": [
    "#### Sampling and Shuffling"
   ]
  },
  {
   "cell_type": "code",
   "execution_count": null,
   "metadata": {
    "id": "K3-Is1Z_dXfm"
   },
   "outputs": [],
   "source": [
    "pop_list = [1, 2, 3, 4, 5, 6, 7, 8, 9, 0]"
   ]
  },
  {
   "cell_type": "code",
   "execution_count": null,
   "metadata": {
    "id": "QFRdgTcCdHMB"
   },
   "outputs": [],
   "source": [
    "# Return a random sample from 'pop_list' that is 3 entries long.\n",
    "random.sample(pop_list, 3)"
   ]
  },
  {
   "cell_type": "code",
   "execution_count": null,
   "metadata": {
    "id": "1IzGFtFkdm-G"
   },
   "outputs": [],
   "source": [
    "# Shuffle 'pop_list'.\n",
    "random.shuffle(pop_list)\n",
    "pop_list"
   ]
  },
  {
   "cell_type": "markdown",
   "metadata": {
    "id": "rd7gSYxPn7DR"
   },
   "source": [
    "#### Summary Exercise"
   ]
  },
  {
   "cell_type": "code",
   "execution_count": null,
   "metadata": {
    "id": "OgGIffsXoZNg"
   },
   "outputs": [],
   "source": [
    "deck = []\n",
    "for i in range(1,53):\n",
    "  deck.append(i)\n",
    "print(deck)"
   ]
  },
  {
   "cell_type": "markdown",
   "metadata": {
    "id": "XMIB1dRzoC8c"
   },
   "source": [
    "Here we have a deck of 52 cards. Let's put our random skills into overdrive and make:\n",
    "*  A randomly-size hand (between 1 and 52 cards) of\n",
    "*  Randomly sampled cards from the deck (which has been randomly shuffled)"
   ]
  },
  {
   "cell_type": "code",
   "execution_count": null,
   "metadata": {
    "id": "YNKUVYZWpSTU"
   },
   "outputs": [],
   "source": [
    "# First, let's shuffle the deck.\n",
    "random.shuffle(deck)\n",
    "deck"
   ]
  },
  {
   "cell_type": "code",
   "execution_count": null,
   "metadata": {
    "id": "GXWTleKQpf65"
   },
   "outputs": [],
   "source": [
    "# Now let's determine our hand size, a random integer between 1 and 53.\n",
    "#hand_size =\n",
    "hand_size = random.randint(1, 53)\n",
    "hand_size"
   ]
  },
  {
   "cell_type": "code",
   "execution_count": null,
   "metadata": {
    "id": "6dB_C3kYpzR-"
   },
   "outputs": [],
   "source": [
    "# Now we can draw randomly from the deck and assign it to a variable called 'hand'. On the second line, print the hand.\n",
    "#hand =\n",
    "hand = random.sample(deck, hand_size)\n",
    "print(hand)"
   ]
  },
  {
   "cell_type": "markdown",
   "metadata": {
    "id": "pJS74AcFqH13"
   },
   "source": [
    "Nice! Now we just have to find a game that uses this kind of hand... I'll leave that up to you :)"
   ]
  },
  {
   "cell_type": "markdown",
   "metadata": {
    "id": "iVR-neQugGyU"
   },
   "source": [
    "\n",
    "\n",
    "---\n",
    "\n",
    "\n",
    "## <center><a href='https://docs.python.org/3/library/time.html'><font color=\"gray\">`time`</font></a>, <a href='https://docs.python.org/3/library/datetime.html'><font color=\"gray\">`datetime`</font></a>, and <a href='https://docs.python.org/3/library/timeit.html'><font color=\"gray\">`timeit`</font></a>: the modules of time</center>\n",
    "\n",
    "These modules will be helpful when access to time-relative statistics is necessary.\n",
    "\n",
    "*   `time`: Time access and conversions\n",
    "*   `datetime`: Basic date and time types\n",
    "*   `timeit`: Measure execution of time of small code snippets"
   ]
  },
  {
   "cell_type": "markdown",
   "metadata": {
    "id": "fCbL4znEg4GW"
   },
   "source": [
    "### **Basic Functions**"
   ]
  },
  {
   "cell_type": "markdown",
   "metadata": {
    "id": "TEQuY-kXlu-d"
   },
   "source": [
    "The `time` module is used for interacting with <a href='https://en.wikipedia.org/wiki/Unix_time#:~:text=Unix%20time%20(also%20known%20as,1970%20(an%20arbitrary%20date)'><font color=\"white\">epoch time</font></a>, corresponding to the number of seconds elapsed since the beginning of January 1, 1970.\n",
    "\n",
    "*   <a href='https://docs.python.org/3/library/time.html#time.time'><font color=\"gray\">`time.time()`</font></a> returns the current time as a number of seconds.\n",
    "*   <a href='https://docs.python.org/3/library/time.html#time.gmtime'><font color=\"gray\">`time.gmtime()`</font></a> returns an object describing the current time in multiple standards (year, month, day of month/week, hour, etc.).\n",
    "*   <a href='https://docs.python.org/3/library/time.html#time.ctime'><font color=\"gray\">`time.ctime(<seconds>)`</font></a> returns a string of the current (or specified) number in standard form.\n",
    "*   <a href='https://docs.python.org/3/library/time.html#time.sleep'><font color=\"gray\">`time.sleep(<seconds>)`</font></a> suspends the environment for however long is specified.\n",
    "\n",
    "The `datetime` module is used for interacting with dates and times via objects, sort of like `time.gmtime` but simplified for easy use.\n",
    "\n",
    "* <a href=\"https://docs.python.org/3/library/datetime.html#datetime.datetime.now\"><font color=\"gray\">`datetime.datetime.now()`</font></a> returns a datetime object of the current time. This can be accessed by appending a specific scope:\n",
    "  * `.year`\n",
    "  * `.month`\n",
    "  * `.day`\n",
    "  * `.hour`\n",
    "  * `.minute`\n",
    "  * `.second`\n",
    "  * `.microsecond`\n",
    "* You can also simply use the object constructor included in the module to create a datetime object for a specific date using <a href=\"https://docs.python.org/3/library/datetime.html#datetime.datetime\"><font color=\"gray\">`datetime.datetime(<year>, <month>, <day>)`</font></a>.\n",
    "* Additionally, you can use the <a href=\"https://docs.python.org/3/library/datetime.html#datetime.datetime.strftime\"><font color=\"gray\">`.strftime(<format>)`</font></a> method for any datetime object to return a <a href='https://docs.python.org/3/library/datetime.html#strftime-strptime-behavior'><font color=\"gray\">formatted</font></a> string of your choosing.\n",
    "\n",
    "The `timeit` module is useful when analysing the speed of a program's functions. Difficult calculations can take a long time to run, and using this module in testing will help make a faster application.\n",
    "* <a href=\"https://docs.python.org/3/library/timeit.html#timeit.timeit\"><font color=\"gray\">`timeit.timeit(<stmt>, <setup>, <timer>, <number>)`</font></a> will time the execution(s) of a statement and return a number in seconds.\n"
   ]
  },
  {
   "cell_type": "markdown",
   "metadata": {
    "id": "Xx_jSNCTmiMD"
   },
   "source": [
    "### **Exercises**"
   ]
  },
  {
   "cell_type": "markdown",
   "metadata": {
    "id": "cbtF38Dylc9Z"
   },
   "source": [
    "#### Imports"
   ]
  },
  {
   "cell_type": "code",
   "execution_count": null,
   "metadata": {
    "id": "Ie6HDwwqlcR_"
   },
   "outputs": [],
   "source": [
    "# Import the time, datetime, and timeit modules.\n"
   ]
  },
  {
   "cell_type": "markdown",
   "metadata": {
    "id": "zUndxCzklDg6"
   },
   "source": [
    "#### Exploring `time`"
   ]
  },
  {
   "cell_type": "code",
   "execution_count": null,
   "metadata": {
    "id": "jZ0Msq1RjeET"
   },
   "outputs": [],
   "source": [
    "# Return the current time as a number of seconds from the start of the Unix epoch.\n"
   ]
  },
  {
   "cell_type": "code",
   "execution_count": null,
   "metadata": {
    "id": "8iPmoUi4jgsC"
   },
   "outputs": [],
   "source": [
    "# Return the current time as a structure object.\n"
   ]
  },
  {
   "cell_type": "code",
   "execution_count": null,
   "metadata": {
    "id": "54LTnPPtkUsx"
   },
   "outputs": [],
   "source": [
    "# Return the current time as a standard date format string.\n"
   ]
  },
  {
   "cell_type": "code",
   "execution_count": null,
   "metadata": {
    "id": "qEeE0_VUkmXg"
   },
   "outputs": [],
   "source": [
    "# Suspend the runtime for 10 seconds. The cell should keep running for 10 seconds and then stop.\n"
   ]
  },
  {
   "cell_type": "markdown",
   "metadata": {
    "id": "ytpzupQflI16"
   },
   "source": [
    "#### What `datetime` is it?"
   ]
  },
  {
   "cell_type": "code",
   "execution_count": null,
   "metadata": {
    "id": "Mrr6JzMrngSb"
   },
   "outputs": [],
   "source": [
    "# Return a datetime object of the current time.\n"
   ]
  },
  {
   "cell_type": "code",
   "execution_count": null,
   "metadata": {
    "id": "zj9Er3pnoAyd"
   },
   "outputs": [],
   "source": [
    "# Return the current year as a number.\n"
   ]
  },
  {
   "cell_type": "code",
   "execution_count": null,
   "metadata": {
    "id": "uQxwz8rVoED9"
   },
   "outputs": [],
   "source": [
    "# Return a datetime object of January 1, 2000.\n"
   ]
  },
  {
   "cell_type": "code",
   "execution_count": null,
   "metadata": {
    "id": "ChnfJfD-oOQi"
   },
   "outputs": [],
   "source": [
    "# Return the current year as a reformatted string.\n"
   ]
  },
  {
   "cell_type": "markdown",
   "metadata": {
    "id": "PfXCvkV9lMuq"
   },
   "source": [
    "#### That's a fast function! Can you `timeit`?"
   ]
  },
  {
   "cell_type": "code",
   "execution_count": null,
   "metadata": {
    "id": "1BB0jK0nrV2X"
   },
   "outputs": [],
   "source": [
    "# Return the execution time of a code snippet of your choosing. Use any of the code above as your only argument.\n"
   ]
  },
  {
   "cell_type": "markdown",
   "metadata": {
    "id": "OFjvgEoEB2Xc"
   },
   "source": [
    "\n",
    "\n",
    "--- \n",
    "\n",
    "\n",
    "## <center> <a href=\"https://docs.python.org/3/library/csv.html\"><font color=\"gray\">`csv`</font></a> and <a href=\"https://docs.python.org/3/library/json.html\"><font color=\"gray\">`json`</font></a>: file modules </center>\n",
    "\n",
    "Reading and writing files will be a common task in data engineering. .csv and .json files are used often and the standard library has modules for reading from and writing to both."
   ]
  },
  {
   "cell_type": "markdown",
   "metadata": {
    "id": "Uz_nhjVnZlyt"
   },
   "source": [
    "### **Basic Functions**\n"
   ]
  },
  {
   "cell_type": "markdown",
   "metadata": {
    "id": "FfsXxjDpZoED"
   },
   "source": [
    "The `csv` module will read and write Comma Separated Values files.\n",
    "* <a href=\"https://docs.python.org/3/library/csv.html#csv.reader\"><font color=\"gray\">`csv.reader(<file>)`</font></a> returns an iterable \"reader\" object with extractable rows.\n",
    "* <a href=\"https://docs.python.org/3/library/csv.html#csv.writer\"><font color=\"gray\">`csv.writer(<file>)`</font></a> returns an iterable \"writer\" object that will write input to the open file.\n",
    "\n",
    "The `json` module will encode and decode Javascript Object Notation files.\n",
    "* <a href=\"https://docs.python.org/3/library/json.html#json.dumps\"><font color=\"gray\">`json.dumps(<object>)`</font></a> converts object to a JSON-formatted string (known as serialization).\n",
    "* <a href=\"https://docs.python.org/3/library/json.html#json.loads\"><font color=\"gray\">`json.loads(<str>)`</font></a> converts (deserializes) a string to python object."
   ]
  },
  {
   "cell_type": "markdown",
   "metadata": {
    "id": "4WEZ26GCZoVY"
   },
   "source": [
    "### **Exercises**"
   ]
  },
  {
   "cell_type": "markdown",
   "metadata": {
    "id": "YuDVYtknZsns"
   },
   "source": [
    "#### Imports"
   ]
  },
  {
   "cell_type": "code",
   "execution_count": null,
   "metadata": {
    "id": "K3JiWNQVZu0e"
   },
   "outputs": [],
   "source": [
    "# Import the csv and json modules\n"
   ]
  },
  {
   "cell_type": "markdown",
   "metadata": {
    "id": "ZnuNjr94ffCY"
   },
   "source": [
    "#### `csv` exercises"
   ]
  },
  {
   "cell_type": "code",
   "execution_count": null,
   "metadata": {
    "id": "09-BkM23jPtv"
   },
   "outputs": [],
   "source": [
    "csv_example = \"\"\"food,type\n",
    "chocolate,candy\n",
    "bbq chips,snack\n",
    "apples,healthy\"\"\""
   ]
  },
  {
   "cell_type": "code",
   "execution_count": null,
   "metadata": {
    "id": "zKW0OjdIfH28"
   },
   "outputs": [],
   "source": [
    "# The code below is incomplete. Finish and uncomment to write the example above to 'hungry.csv'.\n",
    "with open('hungry.csv', 'w', newline='') as csvfile:\n",
    "    writer = csv.writer(csvfile, delimiter=' ', quotechar='|', quoting=csv.QUOTE_MINIMAL)\n",
    "\n",
    "    # writer.writerow('food,type')\n",
    "\n",
    "    # writer.writerow('_____,_____')\n",
    "\n",
    "    # writer.______\n",
    "\n",
    "    # _____\n"
   ]
  },
  {
   "cell_type": "code",
   "execution_count": null,
   "metadata": {
    "id": "QolQsqZ2fdPA"
   },
   "outputs": [],
   "source": [
    "# Complete and uncomment the code below to read the same file that you just wrote to.\n",
    "with open('hungry.csv', newline='') as csvfile:\n",
    "    # reader = csv._______(_______, delimiter=' ', quotechar='|')\n",
    "    \n",
    "    for row in reader:\n",
    "      print(''.join(row))"
   ]
  },
  {
   "cell_type": "markdown",
   "metadata": {
    "id": "UMsJaOY5ic04"
   },
   "source": [
    "#### `json` exercises"
   ]
  },
  {
   "cell_type": "code",
   "execution_count": null,
   "metadata": {
    "id": "C9jVtxvoif0a"
   },
   "outputs": [],
   "source": [
    "json_string = \"\"\"{\"hungry\":[\n",
    "  {\"food\":\"chocolate\", \"type\":\"candy\"},\n",
    "  {\"food\":\"bbq chips\", \"type\":\"snack\"},\n",
    "  {\"food\":\"apples\", \"type\":\"healthy\"}\n",
    "]}\"\"\""
   ]
  },
  {
   "cell_type": "code",
   "execution_count": null,
   "metadata": {
    "id": "rKlEEdI3jZ0z"
   },
   "outputs": [],
   "source": [
    "# Convert the string above to a json object and assign it to a new variable called 'json_obj'. Print the 1st entry in the \"hungry\" list from the new object.\n",
    "\n"
   ]
  },
  {
   "cell_type": "code",
   "execution_count": null,
   "metadata": {
    "id": "tR5CqVeHjv_t"
   },
   "outputs": [],
   "source": [
    "# Convert 'json_obj' back to a string and assign it to a new variable called 'back_to_string'. Print that string.\n",
    "\n"
   ]
  },
  {
   "cell_type": "markdown",
   "metadata": {
    "id": "Kt806VwRzu-2"
   },
   "source": [
    "\n",
    "\n",
    "---\n",
    "\n",
    "\n",
    "## <center><a href='https://docs.python.org/3/library/os.html'><font color=\"gray\">`os`</font></a> and <a href='https://docs.python.org/3/library/shutil.html'><font color=\"gray\">`shutil`</font></a>: operating system modules </center>\n",
    "\n",
    "Interaction with operating systems is done on a daily basis. Here are some quick and easy modules for basic OS commands and file manipulation in python."
   ]
  },
  {
   "cell_type": "markdown",
   "metadata": {
    "id": "n6L09sF21T_W"
   },
   "source": [
    "### **Basic Functions**"
   ]
  },
  {
   "cell_type": "markdown",
   "metadata": {
    "id": "7SkIKDH21X_i"
   },
   "source": [
    "*  The `os` module will help you navigate and update directories or open pipes to direct data flow.\n",
    "  * <a href='https://docs.python.org/3/library/os.html#os.getcwd'><font color=\"gray\">`os.getcwd()`</font></a> will return the path of the current working directory.\n",
    "  * <a href='https://docs.python.org/3/library/os.html#os.chdir'><font color=\"gray\">`os.chdir(<path>)`</font></a> will change the working directory to the target path.\n",
    "  * <a href='https://docs.python.org/3/library/os.html#os.mkdir'><font color=\"gray\">`os.mkdir(<path>)`</font></a> will create a new directory with the specified path.\n",
    "  * <a href='https://docs.python.org/3/library/os.html#os.listdir'><font color=\"gray\">`os.listdir(<path>)`</font></a> will return a list of directories from the specified path.\n",
    "  * <a href='https://docs.python.org/3/library/os.html#os.rmdir'><font color=\"gray\">`os.rmdir(<path>)`</font></a> will remove and empty directory from the target path.\n",
    "  * <a href='https://docs.python.org/3/library/os.html#os.popen'><font color=\"gray\">`os.popen(<command>)`</font></a> will open a pipe to or from the target source and return an open file object.\n",
    "\n",
    "* There is a submodule in `os` called <a href=\"https://docs.python.org/3/library/os.path.html#module-os.path\"><font color=\"gray\">`path`</font></a> that is used for more detailed interaction with file pathnames.\n",
    "  * <a href='https://docs.python.org/3/library/os.path.html#os.path.basename'><font color=\"gray\">`os.path.basename(<path>)`</font></a> returns the base name of the path.\n",
    "  * <a href='https://docs.python.org/3/library/os.path.html#os.path.dirname'><font color=\"gray\">`os.path.dirname(<path>)`</font></a> returns the parent directory of the base.\n",
    "  * <a href='https://docs.python.org/3/library/os.path.html#os.path.isdir'><font color=\"gray\">`os.path.isdir(<path>)`</font></a> returns True if path leads to a directory.\n",
    "  * <a href='https://docs.python.org/3/library/os.path.html#os.path.join'><font color=\"gray\">`os.path.join(<path>, *<paths>)`</font></a> will combine specified paths and return the combined path.\n",
    "\n",
    "* `shutil` is used for high-level file operations. \n",
    "  * <a href='https://docs.python.org/3/library/shutil.html#shutil.move'><font color=\"gray\">`shutil.move(<source>, <destination>)`</font></a> moves a file from a source to a destination.\n",
    "  * <a href='https://docs.python.org/3/library/shutil.html#shutil.copy'><font color=\"gray\">`shutil.copy(<source>, <destination>)`</font></a> copies a file from a sources to a destination.\n",
    "  * <a href='https://docs.python.org/3/library/shutil.html#shutil.which'><font color=\"gray\">`shutil.which(<cmd>)`</font></a> returns the path to the specified executed command"
   ]
  },
  {
   "cell_type": "markdown",
   "metadata": {
    "id": "-BzLWTjf1PjR"
   },
   "source": [
    "### **Exercises**"
   ]
  },
  {
   "cell_type": "markdown",
   "metadata": {
    "id": "abKUubN47lHr"
   },
   "source": [
    "#### Imports"
   ]
  },
  {
   "cell_type": "code",
   "execution_count": null,
   "metadata": {
    "id": "dryRR6RE7l80"
   },
   "outputs": [],
   "source": [
    "# Import the os and shutil modules\n"
   ]
  },
  {
   "cell_type": "markdown",
   "metadata": {
    "id": "aA5nfKT26q9S"
   },
   "source": [
    "####`os` methods"
   ]
  },
  {
   "cell_type": "code",
   "execution_count": null,
   "metadata": {
    "id": "OJHhL0311amz"
   },
   "outputs": [],
   "source": [
    "# Return the current working directory as a string.\n"
   ]
  },
  {
   "cell_type": "code",
   "execution_count": null,
   "metadata": {
    "id": "vhMMCYUt1fcp"
   },
   "outputs": [],
   "source": [
    "# Change the current directory to /bin and confirm you are in that directory.\n",
    "\n"
   ]
  },
  {
   "cell_type": "code",
   "execution_count": null,
   "metadata": {
    "id": "j9TYmuSvBJdP"
   },
   "outputs": [],
   "source": [
    "# Change back to /content.\n"
   ]
  },
  {
   "cell_type": "code",
   "execution_count": null,
   "metadata": {
    "id": "_4hgnxdK1yVC"
   },
   "outputs": [],
   "source": [
    "# Make a directory called test in the content folder (hint:'/______/______')\n"
   ]
  },
  {
   "cell_type": "code",
   "execution_count": null,
   "metadata": {
    "id": "A2n1m-QD2KMY"
   },
   "outputs": [],
   "source": [
    "# List the contents of the /content directory to confirm your new directory exists in the correct place.\n"
   ]
  },
  {
   "cell_type": "code",
   "execution_count": null,
   "metadata": {
    "id": "OpJOwX882RD-"
   },
   "outputs": [],
   "source": [
    "# Remove the /test directory.\n"
   ]
  },
  {
   "cell_type": "code",
   "execution_count": null,
   "metadata": {
    "id": "-cKtdeC02fdt"
   },
   "outputs": [],
   "source": [
    "# Open a pipe to/from the /content directory and return an open file object connected to the pipe.\n"
   ]
  },
  {
   "cell_type": "markdown",
   "metadata": {
    "id": "LrD1r-_K6ubh"
   },
   "source": [
    "#### `os.path` methods"
   ]
  },
  {
   "cell_type": "code",
   "execution_count": null,
   "metadata": {
    "id": "FcPtR9Aw6wVs"
   },
   "outputs": [],
   "source": [
    "# Make the test directory again within /content.\n"
   ]
  },
  {
   "cell_type": "code",
   "execution_count": null,
   "metadata": {
    "id": "rKhIrfNkB_0A"
   },
   "outputs": [],
   "source": [
    "# Confirm the basename for /test\n"
   ]
  },
  {
   "cell_type": "code",
   "execution_count": null,
   "metadata": {
    "id": "ClJCy76c63w2"
   },
   "outputs": [],
   "source": [
    "# Confirm the parent directory name for /test1\n"
   ]
  },
  {
   "cell_type": "code",
   "execution_count": null,
   "metadata": {
    "id": "hIixKNHc685E"
   },
   "outputs": [],
   "source": [
    "# Confirm that the /test1 directory exists\n"
   ]
  },
  {
   "cell_type": "code",
   "execution_count": null,
   "metadata": {
    "id": "4KzzlT1_7A5t"
   },
   "outputs": [],
   "source": [
    "# Create a new path that is a join of /test and the string 'hungry.csv'.\n"
   ]
  },
  {
   "cell_type": "markdown",
   "metadata": {
    "id": "MNMaIlF37hGn"
   },
   "source": [
    "#### `shutil` methods"
   ]
  },
  {
   "cell_type": "code",
   "execution_count": null,
   "metadata": {
    "id": "klmzPeFQlCPM"
   },
   "outputs": [],
   "source": [
    "# Move the hungry.csv file we made in an earlier module to the / directory.\n"
   ]
  },
  {
   "cell_type": "code",
   "execution_count": null,
   "metadata": {
    "id": "CEWrF3ibBubn"
   },
   "outputs": [],
   "source": [
    "# We might actually want to keep a copy in the content folder. Copy the hungry.csv file (now in /test) back to /content.\n"
   ]
  },
  {
   "cell_type": "code",
   "execution_count": null,
   "metadata": {
    "id": "VcYYUJeTlQsQ"
   },
   "outputs": [],
   "source": [
    "# We want to see where our python interpreter is on the machine. Return the path of the 'python' command.\n"
   ]
  },
  {
   "cell_type": "markdown",
   "metadata": {
    "id": "uwpZLk0yp9IE"
   },
   "source": [
    "\n",
    "\n",
    "---\n",
    "\n",
    "\n",
    "## <center> <a href=\"https://docs.python.org/3/library/re.html\"><font color=\"gray\">`re`</font></a>: regular expressions operations </center>\n",
    "\n",
    "Regular expressions are particularly useful when searching for a particular sequence of characters. "
   ]
  },
  {
   "cell_type": "markdown",
   "metadata": {
    "id": "A2m6aqvYto5w"
   },
   "source": [
    "### **Basic Functions**"
   ]
  },
  {
   "cell_type": "markdown",
   "metadata": {
    "id": "HOXv0fm5uRoA"
   },
   "source": [
    "* <a href=\"https://docs.python.org/3/library/re.html#re.search\"><font color=\"gray\">`re.search(<regex>, <str>)`</font></a> searches the given string for the given regex pattern and returns a match object.\n",
    "* <a href=\"https://docs.python.org/3/library/re.html#re.findall\"><font color=\"gray\">`re.findall(<regex>, <str>)`</font></a> searches the given string for the given regex pattern and returns a list of matches.\n",
    "* <a href=\"https://docs.python.org/3/library/re.html#re.sub\"><font color=\"gray\">`re.sub(<regex>, <replace>, <str>)`</font></a> searches the given string for the given regex and replaces all matching segments with the given replacement value."
   ]
  },
  {
   "cell_type": "markdown",
   "metadata": {
    "id": "aT1tQ1fvuSSC"
   },
   "source": [
    "### **Exercises**"
   ]
  },
  {
   "cell_type": "markdown",
   "metadata": {
    "id": "yg2K3FpCuUWb"
   },
   "source": [
    "#### Imports"
   ]
  },
  {
   "cell_type": "code",
   "execution_count": null,
   "metadata": {
    "id": "DdBxuw8fuVXS"
   },
   "outputs": [],
   "source": [
    "# Import the re module\n"
   ]
  },
  {
   "cell_type": "markdown",
   "metadata": {
    "id": "j33yiIjnqvd6"
   },
   "source": [
    "#### Search and Replace"
   ]
  },
  {
   "cell_type": "code",
   "execution_count": null,
   "metadata": {
    "id": "z3jwHEyuFPXf"
   },
   "outputs": [],
   "source": [
    "sentence = \"I wore a jacket yesterday, but it was much colder yesterday.\""
   ]
  },
  {
   "cell_type": "code",
   "execution_count": null,
   "metadata": {
    "id": "La_OY1VAoUPE"
   },
   "outputs": [],
   "source": [
    "# Search for the first occurence of 'yesterday' in the sentence above and return a match object.\n"
   ]
  },
  {
   "cell_type": "code",
   "execution_count": null,
   "metadata": {
    "id": "_ZGDmcvMpARV"
   },
   "outputs": [],
   "source": [
    "# Find all occurences of 'yesterday' in the sentence above and return a list of matches.\n"
   ]
  },
  {
   "cell_type": "code",
   "execution_count": null,
   "metadata": {
    "id": "80cPt2vYqRxl"
   },
   "outputs": [],
   "source": [
    "# Replace all occurences of 'yesterday' in the sentence above with 'last week' and return a string of the new sentence.\n"
   ]
  },
  {
   "cell_type": "markdown",
   "metadata": {
    "id": "uC7NUY2dpnC-"
   },
   "source": [
    "# Done? Congrats!"
   ]
  },
  {
   "cell_type": "markdown",
   "metadata": {
    "id": "mWNBB1d0qhr1"
   },
   "source": [
    "\n",
    "If you've finished all of the exercises, well done! \n",
    "\n",
    "If you have questions on particular modules or functions, feel free to ask a TA or instructor.\n",
    "\n",
    "You have now dipped your toes into the pool of Python standard libraries. There will be many non-standard libraries that you will use as well, including:\n",
    "\n",
    "\n",
    "*   <a href=\"https://www.sqlite.org/docs.html\"><font color=\"gray\">`sqlite`</a></font> for python-based SQL\n",
    "*   <a href=\"https://numpy.org/doc/#:~:text=Reference%20Guide%20PDF-,User%20Guide%20PDF,-Latest%20(development)%20documentation\"><font color=\"gray\">`numpy`</a></font> for array-based math\n",
    "*   <a href=\"https://matplotlib.org/stable/tutorials/index.html\"><font color=\"gray\">`matplotlib`</a></font> and <a href=\"https://seaborn.pydata.org/tutorial.html\"><font color=\"gray\">`seaborn`</a></font> for data visualization\n",
    "*   <a href=\"https://pandas.pydata.org/docs/\"><font color=\"gray\">`pandas`</a></font> for more operations on structured data (dataframes!)\n",
    "*   ... and many more!\n",
    "\n",
    "We'll learn about these in upcoming lectures and exercises. For now, bask in your newfound knowledge and its future utility :)"
   ]
  }
 ],
 "metadata": {
  "colab": {
   "collapsed_sections": [
    "NHYZYc408CEt",
    "Z7L9gX7C8r3T",
    "s38CVEl3JbIJ",
    "HN9rZToADZxb",
    "0Jg86D03DJrv",
    "R7geM3v3smJA",
    "hrvldDnOs5fS",
    "0BRdUsbJLPT-",
    "dEL8I9YzMrat",
    "oG4rELEIC_YY",
    "T-TbF99MJxGr",
    "o2QBoDHHpyih",
    "ro7SJW4kLELy",
    "5aVvEGLrSAYO",
    "sKv6XcxcVeq-",
    "RwgXm80YVhUk",
    "aIebZ958Vk1l",
    "HKFKNGmhVnpz",
    "ziL-nDY9YfgA",
    "DOcVA7XxRvco",
    "yJVAssvHRvpw",
    "emVmUANuRvpx",
    "iVR-neQugGyU",
    "fCbL4znEg4GW",
    "Xx_jSNCTmiMD",
    "cbtF38Dylc9Z",
    "zUndxCzklDg6",
    "ytpzupQflI16",
    "PfXCvkV9lMuq",
    "OFjvgEoEB2Xc",
    "Uz_nhjVnZlyt",
    "4WEZ26GCZoVY",
    "YuDVYtknZsns",
    "ZnuNjr94ffCY",
    "UMsJaOY5ic04",
    "Kt806VwRzu-2",
    "n6L09sF21T_W",
    "-BzLWTjf1PjR",
    "abKUubN47lHr",
    "aA5nfKT26q9S",
    "LrD1r-_K6ubh",
    "MNMaIlF37hGn",
    "uwpZLk0yp9IE",
    "A2m6aqvYto5w",
    "aT1tQ1fvuSSC",
    "yg2K3FpCuUWb",
    "j33yiIjnqvd6",
    "uC7NUY2dpnC-"
   ],
   "name": "Blank Standard Modules Notebook.ipynb",
   "provenance": [],
   "toc_visible": true
  },
  "kernelspec": {
   "display_name": "Python 3 (ipykernel)",
   "language": "python",
   "name": "python3"
  },
  "language_info": {
   "codemirror_mode": {
    "name": "ipython",
    "version": 3
   },
   "file_extension": ".py",
   "mimetype": "text/x-python",
   "name": "python",
   "nbconvert_exporter": "python",
   "pygments_lexer": "ipython3",
   "version": "3.10.5"
  }
 },
 "nbformat": 4,
 "nbformat_minor": 4
}
