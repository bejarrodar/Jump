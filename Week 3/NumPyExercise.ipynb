{
  "cells": [
    {
      "cell_type": "code",
      "execution_count": 1,
      "metadata": {
        "id": "sbk6E1AW_Qvv"
      },
      "outputs": [],
      "source": [
        "import numpy as np"
      ]
    },
    {
      "cell_type": "markdown",
      "metadata": {
        "id": "ndFL8t6ohEj1"
      },
      "source": [
        "# **Practice** *Optional* "
      ]
    },
    {
      "cell_type": "markdown",
      "metadata": {
        "id": "KQnPP4zohIdj"
      },
      "source": [
        "This section is to display some of the functions you'll be using for the challenges. You can read the documentation for all functions [here](https://numpy.org/doc/stable/reference/arrays.html)."
      ]
    },
    {
      "cell_type": "markdown",
      "metadata": {
        "id": "JsvZbUFZTyO1"
      },
      "source": [
        "### *Lets begin with your basic array creation.*"
      ]
    },
    {
      "cell_type": "code",
      "execution_count": 2,
      "metadata": {
        "colab": {
          "base_uri": "https://localhost:8080/"
        },
        "id": "sTtZOMtvTNPY",
        "outputId": "052382ac-05b2-4121-f3d5-0220a8fe171a"
      },
      "outputs": [
        {
          "data": {
            "text/plain": [
              "array([1, 8, 0, 0, 5, 8, 3])"
            ]
          },
          "execution_count": 2,
          "metadata": {},
          "output_type": "execute_result"
        }
      ],
      "source": [
        "first_arr = np.array([1,8,0,0,5,8,3])\n",
        "first_arr"
      ]
    },
    {
      "cell_type": "markdown",
      "metadata": {
        "id": "IRcAIyDBVfGN"
      },
      "source": [
        "*There are also some quick methods to create int populated arrays. Here are 2 of those*"
      ]
    },
    {
      "cell_type": "code",
      "execution_count": 3,
      "metadata": {
        "colab": {
          "base_uri": "https://localhost:8080/"
        },
        "id": "_opsACAkjjJ9",
        "outputId": "c05dd78f-c605-48de-9793-612b2715f3f3"
      },
      "outputs": [
        {
          "data": {
            "text/plain": [
              "array([1, 1, 1, 1, 1, 1, 1, 1, 1, 1, 1, 1, 1, 1, 1, 1, 1, 1, 1, 1, 1, 1,\n",
              "       1, 1, 1, 1, 1, 1, 1, 1, 1, 1, 1, 1, 1, 1, 1, 1, 1, 1, 1, 1, 1, 1,\n",
              "       1, 1, 1, 1, 1, 1])"
            ]
          },
          "execution_count": 3,
          "metadata": {},
          "output_type": "execute_result"
        }
      ],
      "source": [
        "#array creation\n",
        "ones_arr = np.ones(shape=(50,), dtype=int)\n",
        "ones_arr"
      ]
    },
    {
      "cell_type": "code",
      "execution_count": 4,
      "metadata": {
        "colab": {
          "base_uri": "https://localhost:8080/"
        },
        "id": "csLMZsCDTMJG",
        "outputId": "f609e6f3-c650-4a98-ee11-1b322b627f2e"
      },
      "outputs": [
        {
          "data": {
            "text/plain": [
              "array([ 5. ,  5.7,  6.4,  7.1,  7.8,  8.5,  9.2,  9.9, 10.6, 11.3, 12. ,\n",
              "       12.7, 13.4, 14.1, 14.8])"
            ]
          },
          "execution_count": 4,
          "metadata": {},
          "output_type": "execute_result"
        }
      ],
      "source": [
        "range_arr = np.arange(start=5,stop=15,step=.7, dtype=float)\n",
        "range_arr"
      ]
    },
    {
      "cell_type": "markdown",
      "metadata": {
        "id": "D2m2VegeyRAD"
      },
      "source": [
        "### *The shape of an array*"
      ]
    },
    {
      "cell_type": "markdown",
      "metadata": {
        "id": "PHpX3N_OW3E0"
      },
      "source": [
        "*The shape of an array is defined by its rows and coloumns. The 3 functions we will cover here include*\n",
        "\n",
        "    1. Getting the shape of an array\n",
        "\n",
        "    2. Changing the shape of an array\n",
        "\n",
        "    3. A quick method to change an array to be 1 dimensional"
      ]
    },
    {
      "cell_type": "code",
      "execution_count": 5,
      "metadata": {
        "colab": {
          "base_uri": "https://localhost:8080/"
        },
        "id": "knCGqMwrX6l0",
        "outputId": "1efb133b-a7da-47ab-c608-c7082f249c7c"
      },
      "outputs": [
        {
          "name": "stdout",
          "output_type": "stream",
          "text": [
            "New Array: \n",
            "[ 1  2  3  4  5  6  7  8  9 10 11 12]\n",
            "\n",
            "Array Shape: \n"
          ]
        },
        {
          "data": {
            "text/plain": [
              "(12,)"
            ]
          },
          "execution_count": 5,
          "metadata": {},
          "output_type": "execute_result"
        }
      ],
      "source": [
        "orig_arr = np.arange(1,13,dtype=int) #A range of integers in an array\n",
        "\n",
        "print(\"New Array: \")\n",
        "print(orig_arr)\n",
        "\n",
        "print(\"\\nArray Shape: \")\n",
        "orig_arr.shape"
      ]
    },
    {
      "cell_type": "code",
      "execution_count": 6,
      "metadata": {
        "colab": {
          "base_uri": "https://localhost:8080/"
        },
        "id": "XMIUcZgZYFlE",
        "outputId": "4557d60d-6556-40c1-b0c0-58b9e7833564"
      },
      "outputs": [
        {
          "name": "stdout",
          "output_type": "stream",
          "text": [
            "New Array: \n",
            "[[ 1  2  3  4]\n",
            " [ 5  6  7  8]\n",
            " [ 9 10 11 12]]\n",
            "\n",
            "Array Shape: \n"
          ]
        },
        {
          "data": {
            "text/plain": [
              "(3, 4)"
            ]
          },
          "execution_count": 6,
          "metadata": {},
          "output_type": "execute_result"
        }
      ],
      "source": [
        "reshape_arr = orig_arr.reshape((3,4))\n",
        "\n",
        "print(\"New Array: \")\n",
        "print(reshape_arr)\n",
        "\n",
        "print(\"\\nArray Shape: \")\n",
        "reshape_arr.shape"
      ]
    },
    {
      "cell_type": "code",
      "execution_count": 7,
      "metadata": {
        "colab": {
          "base_uri": "https://localhost:8080/"
        },
        "id": "ra8EAc8YaATh",
        "outputId": "02d42428-a5e4-46a7-c9fe-daeae92c8bcd"
      },
      "outputs": [
        {
          "name": "stdout",
          "output_type": "stream",
          "text": [
            "New Array : \n",
            "[ 1  2  3  4  5  6  7  8  9 10 11 12]\n",
            "\n",
            "Array Shape: \n"
          ]
        },
        {
          "data": {
            "text/plain": [
              "(12,)"
            ]
          },
          "execution_count": 7,
          "metadata": {},
          "output_type": "execute_result"
        }
      ],
      "source": [
        "flat_arr = reshape_arr.flatten()\n",
        "\n",
        "print('New Array : ')\n",
        "print(flat_arr)\n",
        "\n",
        "print(\"\\nArray Shape: \")\n",
        "flat_arr.shape"
      ]
    },
    {
      "cell_type": "markdown",
      "metadata": {
        "id": "sRU4wr2kyckh"
      },
      "source": [
        "### *Sorting an array*"
      ]
    },
    {
      "cell_type": "markdown",
      "metadata": {
        "id": "uANJagc0bM0E"
      },
      "source": [
        "*Arrays can also be sorted a number of ways. Here are 3 of those methods including*\n",
        "\n",
        "    1. Basic sort function\n",
        "    2. Retrieving the indices that sort an array\n",
        "    3. Applying the sorting indices to an array"
      ]
    },
    {
      "cell_type": "code",
      "execution_count": 8,
      "metadata": {
        "colab": {
          "base_uri": "https://localhost:8080/"
        },
        "id": "hRkphkDzcjsU",
        "outputId": "cceebccc-4a5e-4eda-d8cb-1b559c6c3708"
      },
      "outputs": [
        {
          "name": "stdout",
          "output_type": "stream",
          "text": [
            "New Array: \n",
            "[[1 2 3]\n",
            " [3 2 1]\n",
            " [2 1 3]]\n"
          ]
        }
      ],
      "source": [
        "unsorted_arr = np.array([[1,2,3],[3,2,1],[2,1,3]])\n",
        "\n",
        "print(\"New Array: \")\n",
        "print(unsorted_arr)"
      ]
    },
    {
      "cell_type": "code",
      "execution_count": 9,
      "metadata": {
        "colab": {
          "base_uri": "https://localhost:8080/"
        },
        "id": "q4TwIvO4foIE",
        "outputId": "7ff0495e-5b1e-4dbf-928d-77ab5a5a740a"
      },
      "outputs": [
        {
          "name": "stdout",
          "output_type": "stream",
          "text": [
            "New Array: \n"
          ]
        },
        {
          "data": {
            "text/plain": [
              "array([[1, 1, 1],\n",
              "       [2, 2, 3],\n",
              "       [3, 2, 3]])"
            ]
          },
          "execution_count": 9,
          "metadata": {},
          "output_type": "execute_result"
        }
      ],
      "source": [
        "#You define the axis you'd like to sort on\n",
        "standard_sort_arr = np.sort(unsorted_arr, axis = 0)\n",
        "\n",
        "print(\"New Array: \")\n",
        "standard_sort_arr"
      ]
    },
    {
      "cell_type": "code",
      "execution_count": 10,
      "metadata": {
        "colab": {
          "base_uri": "https://localhost:8080/"
        },
        "id": "N6vD-g4WnsP9",
        "outputId": "7d6f1e11-df67-4ae2-d4b8-93069a0ffb13"
      },
      "outputs": [
        {
          "name": "stdout",
          "output_type": "stream",
          "text": [
            "New Array: \n"
          ]
        },
        {
          "data": {
            "text/plain": [
              "array([[1, 2, 3],\n",
              "       [1, 2, 3],\n",
              "       [1, 2, 3]])"
            ]
          },
          "execution_count": 10,
          "metadata": {},
          "output_type": "execute_result"
        }
      ],
      "source": [
        "#Here's the array sorted on the last axis\n",
        "standard_sort_arr = np.sort(unsorted_arr, axis = 1)\n",
        "\n",
        "print(\"New Array: \")\n",
        "standard_sort_arr"
      ]
    },
    {
      "cell_type": "code",
      "execution_count": 11,
      "metadata": {
        "colab": {
          "base_uri": "https://localhost:8080/"
        },
        "id": "fTzQN7Q7xd2n",
        "outputId": "5d3a7549-bb6b-4205-b516-bedeb220a0ab"
      },
      "outputs": [
        {
          "name": "stdout",
          "output_type": "stream",
          "text": [
            "Sorted Index array: \n"
          ]
        },
        {
          "data": {
            "text/plain": [
              "array([[0, 1, 2],\n",
              "       [2, 1, 0],\n",
              "       [1, 0, 2]], dtype=int64)"
            ]
          },
          "execution_count": 11,
          "metadata": {},
          "output_type": "execute_result"
        }
      ],
      "source": [
        "ind = np.argsort(unsorted_arr, axis=1)\n",
        "\n",
        "print(\"Sorted Index array: \")\n",
        "ind"
      ]
    },
    {
      "cell_type": "code",
      "execution_count": 12,
      "metadata": {
        "colab": {
          "base_uri": "https://localhost:8080/"
        },
        "id": "9uLLEU8FzQ7R",
        "outputId": "70743c80-01e8-481d-cdbc-ef8ca0561236"
      },
      "outputs": [
        {
          "name": "stdout",
          "output_type": "stream",
          "text": [
            "New Array: \n"
          ]
        },
        {
          "data": {
            "text/plain": [
              "array([[1, 2, 3],\n",
              "       [1, 2, 3],\n",
              "       [1, 2, 3]])"
            ]
          },
          "execution_count": 12,
          "metadata": {},
          "output_type": "execute_result"
        }
      ],
      "source": [
        "sorted_arr = np.take_along_axis(arr=unsorted_arr, indices=ind, axis=1) #Apply the sort indices to an array\n",
        "\n",
        "print(\"New Array: \")\n",
        "sorted_arr"
      ]
    },
    {
      "cell_type": "markdown",
      "metadata": {
        "id": "lzsVOKF_yi1y"
      },
      "source": [
        "### *Math functions using arrays*"
      ]
    },
    {
      "cell_type": "markdown",
      "metadata": {
        "id": "7WcSYG_c0Cu5"
      },
      "source": [
        "*There are many math functions that can be performed on a numpy array. We will go over a few of those including*\n",
        "\n",
        "    1. Adding 2 1 dimensional array\n",
        "    2. Adding a 1 dimensional array and a 2 dimensional array\n",
        "    3. Finding the mean in an array\n",
        "    4. Rounding array like objects\n"
      ]
    },
    {
      "cell_type": "code",
      "execution_count": 13,
      "metadata": {
        "colab": {
          "base_uri": "https://localhost:8080/"
        },
        "id": "hLgNfAI712_N",
        "outputId": "bd5ac920-173f-4c3f-f1bc-928c129d8a0c"
      },
      "outputs": [
        {
          "name": "stdout",
          "output_type": "stream",
          "text": [
            "First array: \n",
            " [0 1 2 3 4 5 6 7 8 9] \n",
            "\n",
            "Second array: \n",
            " [ 0 10 20 30 40 50 60 70 80 90] \n",
            "\n",
            "Sum of both arrays: \n",
            " [ 0 11 22 33 44 55 66 77 88 99]\n"
          ]
        }
      ],
      "source": [
        "arr1 = np.arange(0,10)\n",
        "arr2 = np.arange(0,100,10)\n",
        "\n",
        "print(\"First array: \\n\", arr1,'\\n')\n",
        "print(\"Second array: \\n\", arr2,'\\n')\n",
        "\n",
        "print(\"Sum of both arrays: \\n\",(arr1+arr2))"
      ]
    },
    {
      "cell_type": "code",
      "execution_count": 14,
      "metadata": {
        "colab": {
          "base_uri": "https://localhost:8080/"
        },
        "id": "AA-kAeXh4Ht8",
        "outputId": "2793a117-4e8b-4127-e55a-8811fb55f178"
      },
      "outputs": [
        {
          "name": "stdout",
          "output_type": "stream",
          "text": [
            "First array shape :  (4,) \n",
            " [5 5 5 5] \n",
            "\n",
            "Second array shape :  (2, 4) \n",
            " [[1 1 1 1]\n",
            " [3 3 3 3]] \n",
            "\n",
            "Sum of both arrays: \n",
            " [[6 6 6 6]\n",
            " [8 8 8 8]]\n"
          ]
        }
      ],
      "source": [
        "single_dim = np.array([5,5,5,5])\n",
        "two_dim = np.array([[1,1,1,1],[3,3,3,3]])\n",
        "\n",
        "print('First array shape : ', single_dim.shape, '\\n', single_dim, '\\n')\n",
        "print('Second array shape : ', two_dim.shape, '\\n', two_dim, '\\n')\n",
        "\n",
        "print('Sum of both arrays: \\n', (single_dim+two_dim))"
      ]
    },
    {
      "cell_type": "code",
      "execution_count": 15,
      "metadata": {
        "colab": {
          "base_uri": "https://localhost:8080/"
        },
        "id": "G7HgpEtF2s_C",
        "outputId": "aada8e46-4c33-4609-ced2-fdf7bf639ef8"
      },
      "outputs": [
        {
          "name": "stdout",
          "output_type": "stream",
          "text": [
            "Array: \n",
            " [0 1 2 3 4 5 6 7 8 9] \n",
            "\n",
            "The mean of the array is:  4.5\n"
          ]
        }
      ],
      "source": [
        "print(\"Array: \\n\", arr1,'\\n')\n",
        "\n",
        "arr_mean = arr1.mean()\n",
        "\n",
        "print(\"The mean of the array is: \", arr_mean)"
      ]
    },
    {
      "cell_type": "code",
      "execution_count": 16,
      "metadata": {
        "colab": {
          "base_uri": "https://localhost:8080/"
        },
        "id": "nbSZeLYr3LAy",
        "outputId": "694ccc37-ebc9-456c-e904-4d2cb6b6fd14"
      },
      "outputs": [
        {
          "name": "stdout",
          "output_type": "stream",
          "text": [
            "Array: \n",
            " [ 5.   5.7  6.4  7.1  7.8  8.5  9.2  9.9 10.6 11.3 12.  12.7 13.4 14.1\n",
            " 14.8] \n",
            "\n",
            "Array rounded up: \n",
            " [ 5.  6.  7.  8.  8.  9. 10. 10. 11. 12. 13. 13. 14. 15. 15.] \n",
            "\n",
            "Array rounded down: \n",
            " [ 5.  5.  6.  7.  7.  8.  9.  9. 10. 11. 12. 12. 13. 14. 14.]\n"
          ]
        }
      ],
      "source": [
        "print(\"Array: \\n\", range_arr, '\\n')\n",
        "\n",
        "ceil_arr = np.ceil(range_arr)\n",
        "print(\"Array rounded up: \\n\", ceil_arr, '\\n')\n",
        "\n",
        "floor_arr = np.floor(range_arr)\n",
        "print(\"Array rounded down: \\n\", floor_arr)"
      ]
    },
    {
      "cell_type": "markdown",
      "metadata": {
        "id": "FG4tlLyYz8sE"
      },
      "source": [
        "### *Array manipulation*"
      ]
    },
    {
      "cell_type": "markdown",
      "metadata": {
        "id": "nhcFW2yb5nVm"
      },
      "source": [
        "*The last thing we will observe is*\n",
        "\n",
        "    1. Deleting elements in an array\n",
        "    2. Combining arrays"
      ]
    },
    {
      "cell_type": "code",
      "execution_count": 17,
      "metadata": {
        "colab": {
          "base_uri": "https://localhost:8080/"
        },
        "id": "wBo6WnwLkqS7",
        "outputId": "8213341c-97c0-4de6-cf04-075bb3567538"
      },
      "outputs": [
        {
          "name": "stdout",
          "output_type": "stream",
          "text": [
            "Array: \n",
            " [ 23  24  25  26  27  28  29  30  35 236  17] \n",
            "\n",
            "Array after deletion: \n",
            " [ 23  24  25  35 236  17]\n"
          ]
        }
      ],
      "source": [
        "arr  = np.array([23,24,25,26,27,28,29,30,35,236,17])\n",
        "print(\"Array: \\n\", arr, '\\n')\n",
        "\n",
        "updated_arr = np.delete(arr, [3,4,5,6,7])\n",
        "\n",
        "print(\"Array after deletion: \\n\", updated_arr)"
      ]
    },
    {
      "cell_type": "code",
      "execution_count": 18,
      "metadata": {
        "colab": {
          "base_uri": "https://localhost:8080/"
        },
        "id": "BigP0ike61tj",
        "outputId": "6eef0adb-3619-48e6-c104-f3764b4f2824"
      },
      "outputs": [
        {
          "name": "stdout",
          "output_type": "stream",
          "text": [
            "First array: \n",
            " [[ 23  34  54]\n",
            " [ 12  42 122]] \n",
            "\n",
            "Second array: \n",
            " [[1 2 3]\n",
            " [4 5 6]] \n",
            "\n",
            "Concatenate over first axis: \n",
            " [[ 23  34  54]\n",
            " [ 12  42 122]\n",
            " [  1   2   3]\n",
            " [  4   5   6]] \n",
            "\n",
            "Concatenate over last axis: \n",
            " [[ 23  34  54   1   2   3]\n",
            " [ 12  42 122   4   5   6]] \n",
            "\n"
          ]
        }
      ],
      "source": [
        "arr1 =  np.array([[23,34,54],[12,42,122]])\n",
        "arr2 =  np.array([[1,2,3],[4,5,6]])\n",
        "\n",
        "print(\"First array: \\n\", arr1, '\\n')\n",
        "\n",
        "print(\"Second array: \\n\", arr2, '\\n')\n",
        "\n",
        "axis0 = np.concatenate((arr1, arr2), axis=0)\n",
        "axis1 = np.concatenate((arr1, arr2), axis=1)\n",
        "\n",
        "print(\"Concatenate over first axis: \\n\", axis0, '\\n')\n",
        "print(\"Concatenate over last axis: \\n\", axis1, '\\n')"
      ]
    },
    {
      "cell_type": "markdown",
      "metadata": {
        "id": "VBX1kUcgA1-E"
      },
      "source": [
        "# **numpyEx Class** *Do not expand, or exercise becomes boring*\n",
        "\n",
        "*Please run all cells*"
      ]
    },
    {
      "cell_type": "markdown",
      "metadata": {
        "id": "-ACtupGqJEVi"
      },
      "source": [
        "### numpyEx class definition"
      ]
    },
    {
      "cell_type": "code",
      "execution_count": 19,
      "metadata": {
        "id": "T3t340nmBoNx"
      },
      "outputs": [],
      "source": [
        "class numpyEx() :\n",
        "  def __init__(self) :\n",
        "      self.question = np.array(['the', 'pineapple', 'in', 'under', 'who', 'a', 'sea', 'lives'])\n",
        "      self.array_half = np.array([[53, 322], [680, 73]])\n",
        "      self.encryption = np.array([568, 224, 206, 278, 388])\n",
        "      self.status = False\n",
        "\n",
        "  def check_encryption(self, ind) :\n",
        "    correct = np.array([4, 7, 2, 5, 1, 3, 0, 6])\n",
        "    if(np.array_equal(ind, correct)) : \n",
        "      self.status = True\n",
        "      print('Correct, Please apply this to the question.')\n",
        "    else :\n",
        "      print('Incorrect key')\n",
        "\n",
        "  def check_answer(self, answer) :\n",
        "    if(self.status == False) : print(\"Must decrypt question first!\")\n",
        "    else:\n",
        "      if(answer.lower()== 'spongebob' or answer.lower()== 'spongebob squarepants') : print(\"Correct!\")\n",
        "      else : print(\"Incorrect, please try again.\")"
      ]
    },
    {
      "cell_type": "markdown",
      "metadata": {
        "id": "820CL8xgStkE"
      },
      "source": [
        "# ***Welcome***, *Expand me for a proper introduction*"
      ]
    },
    {
      "cell_type": "markdown",
      "metadata": {
        "id": "PrAEX9URSy0a"
      },
      "source": [
        "*This packet will be used to practice some basic NumPy functions using scenarios.*\n",
        "\n",
        "**Welcome explorer!** Congrats, you've done it, you've reached the center of the ruins. But alas, the secrets you've been searching for are encrypted with a puzzle. You have sufficient data and instructions on how to decrypt the final puzzle question, including:\n",
        "\n",
        "*puzzle.question => Encrypted question you must decrypt and answer*\n",
        "\n",
        "*puzzle.array_half => part of the encryption key (instructions will come later pertaining to this)*\n",
        "\n",
        "*puzzle.encryption => part of the encryption key (instructions will come later pertaining to this)*\n",
        "\n",
        "*All located within the numpyEx class*\n",
        "\n",
        "\n",
        "\n",
        "*We trust you will be successful in your mission, good luck!*"
      ]
    },
    {
      "cell_type": "markdown",
      "metadata": {
        "id": "SPWY9lbRLUGY"
      },
      "source": [
        "# **The Challenge**"
      ]
    },
    {
      "cell_type": "markdown",
      "metadata": {
        "id": "ygVEwn4bSjuI"
      },
      "source": [
        "First thing first, let's see what we are working with. I've created the puzzle for you already, explorer. Feel free to observe the question."
      ]
    },
    {
      "cell_type": "code",
      "execution_count": 20,
      "metadata": {
        "colab": {
          "base_uri": "https://localhost:8080/"
        },
        "id": "jgMrySNl_WSu",
        "outputId": "fb9dc033-e2f4-46bb-a4c3-de2a1c55e828"
      },
      "outputs": [
        {
          "data": {
            "text/plain": [
              "array(['the', 'pineapple', 'in', 'under', 'who', 'a', 'sea', 'lives'],\n",
              "      dtype='<U9')"
            ]
          },
          "execution_count": 20,
          "metadata": {},
          "output_type": "execute_result"
        }
      ],
      "source": [
        "puzzle = numpyEx()\n",
        "puzzle.question"
      ]
    },
    {
      "cell_type": "markdown",
      "metadata": {
        "id": "qvuaHaVwZ3ZK"
      },
      "source": [
        "As you've just confirmed, the puzzle is scrambled. Now we could brute force the solution, but that's not the explorer way. For the first step of the decryption process, please create an array of five 1s (ex: [1, 1, 1, 1, 1])."
      ]
    },
    {
      "cell_type": "code",
      "execution_count": 27,
      "metadata": {
        "id": "30DNUvy5yG6E"
      },
      "outputs": [
        {
          "data": {
            "text/plain": [
              "array([1, 1, 1, 1, 1])"
            ]
          },
          "execution_count": 27,
          "metadata": {},
          "output_type": "execute_result"
        }
      ],
      "source": [
        "one_arr = np.ones(5,int)\n",
        "one_arr"
      ]
    },
    {
      "cell_type": "markdown",
      "metadata": {
        "id": "YdPwdifnWak8"
      },
      "source": [
        "Great!. Now we are going to have to get an array containing the sum of our created array and the stored encryption within the puzzle."
      ]
    },
    {
      "cell_type": "code",
      "execution_count": 30,
      "metadata": {
        "id": "ymBwhUxHMWmp"
      },
      "outputs": [
        {
          "data": {
            "text/plain": [
              "array([569, 225, 207, 279, 389])"
            ]
          },
          "execution_count": 30,
          "metadata": {},
          "output_type": "execute_result"
        }
      ],
      "source": [
        "summed_arr = puzzle.encryption + one_arr\n",
        "summed_arr"
      ]
    },
    {
      "cell_type": "markdown",
      "metadata": {
        "id": "oj-qtIffWf1S"
      },
      "source": [
        "Strange. You're array is looking a little long... We almost forgot! Remove the smallest element in the array."
      ]
    },
    {
      "cell_type": "code",
      "execution_count": 35,
      "metadata": {
        "id": "15RP8ZV1NIw-"
      },
      "outputs": [
        {
          "name": "stdout",
          "output_type": "stream",
          "text": [
            "[207 225 279 389 569]\n",
            "[225 279 389 569]\n"
          ]
        }
      ],
      "source": [
        "sorted_puzzle = np.sort(summed_arr,0)\n",
        "print(sorted_puzzle)\n",
        "updated_puzzle = np.delete(sorted_puzzle,[0])\n",
        "print(updated_puzzle)"
      ]
    },
    {
      "cell_type": "markdown",
      "metadata": {
        "id": "hxKlYBMGWzun"
      },
      "source": [
        "Now it looks fabulous! Let's get back on track with these steps. Next find the rounded (ceiling) mean of your array and save it."
      ]
    },
    {
      "cell_type": "code",
      "execution_count": 37,
      "metadata": {
        "id": "MOLBmK-eNVkc"
      },
      "outputs": [
        {
          "data": {
            "text/plain": [
              "366.0"
            ]
          },
          "execution_count": 37,
          "metadata": {},
          "output_type": "execute_result"
        }
      ],
      "source": [
        "ceil_mean_puzzle = np.ceil(np.mean(updated_puzzle))\n",
        "ceil_mean_puzzle"
      ]
    },
    {
      "cell_type": "markdown",
      "metadata": {
        "id": "N6gicaWaW1tr"
      },
      "source": [
        "For the next part, you will have to replace the second element in the array with the calculated mean (remember, it is an array of ints)"
      ]
    },
    {
      "cell_type": "code",
      "execution_count": 38,
      "metadata": {
        "id": "9TA0f6XrPckK"
      },
      "outputs": [
        {
          "data": {
            "text/plain": [
              "array([225, 366, 389, 569])"
            ]
          },
          "execution_count": 38,
          "metadata": {},
          "output_type": "execute_result"
        }
      ],
      "source": [
        "updated_puzzle[1] = int(ceil_mean_puzzle)\n",
        "updated_puzzle"
      ]
    },
    {
      "cell_type": "markdown",
      "metadata": {
        "id": "BAMHXCwjyyNg"
      },
      "source": [
        "We're almost there explore, just keep holding out!\n",
        "\n",
        "Someone else has already solved the second half of the puzzle, but if we observe the shape of the stored array, there's a problem. Our calculated array and the other half have mismatching shapes!\n",
        "\n",
        "We need to adjust the shape of our array to match the array_half already stored within the puzzle"
      ]
    },
    {
      "cell_type": "code",
      "execution_count": 47,
      "metadata": {
        "id": "qiR__omqPoHL"
      },
      "outputs": [
        {
          "data": {
            "text/plain": [
              "array([ 53, 322, 680,  73])"
            ]
          },
          "execution_count": 47,
          "metadata": {},
          "output_type": "execute_result"
        }
      ],
      "source": [
        "half_puzzle = puzzle.array_half.flatten()\n",
        "half_puzzle"
      ]
    },
    {
      "cell_type": "markdown",
      "metadata": {
        "id": "r9fIJTvYW4Fq"
      },
      "source": [
        "Now that two array shapes match, we can combine the two arrays.\n",
        "\n",
        "Remember, our array is the first half of the puzzle and the stored array is the second half"
      ]
    },
    {
      "cell_type": "code",
      "execution_count": 49,
      "metadata": {
        "id": "zmDs3sHVQR97"
      },
      "outputs": [
        {
          "data": {
            "text/plain": [
              "array([225, 366, 389, 569,  53, 322, 680,  73])"
            ]
          },
          "execution_count": 49,
          "metadata": {},
          "output_type": "execute_result"
        }
      ],
      "source": [
        "full_puzzle = np.concatenate((updated_puzzle,half_puzzle),axis=0)\n",
        "full_puzzle"
      ]
    },
    {
      "cell_type": "markdown",
      "metadata": {
        "id": "7_OTCwq7W6Q0"
      },
      "source": [
        "To get our final decryption key, we must transform our array to be 1-Dimensional and get the sorted indices"
      ]
    },
    {
      "cell_type": "code",
      "execution_count": null,
      "metadata": {
        "id": "Qo0AiHbLQtAu"
      },
      "outputs": [],
      "source": []
    },
    {
      "cell_type": "markdown",
      "metadata": {
        "id": "ZvZWntNeemT6"
      },
      "source": [
        "Before you proceed to apply the encryption to the puzzle question, please check it with this function. *Puzzle will not be completed without correct decryption key*"
      ]
    },
    {
      "cell_type": "code",
      "execution_count": null,
      "metadata": {
        "id": "P_GOanWcVg1g"
      },
      "outputs": [],
      "source": []
    },
    {
      "cell_type": "markdown",
      "metadata": {
        "id": "6Yfg633We9qz"
      },
      "source": [
        "It's go time! Decrypt the puzzle question by applying the calculated sort order to the question array."
      ]
    },
    {
      "cell_type": "code",
      "execution_count": null,
      "metadata": {
        "id": "0hsF80bpWPcD"
      },
      "outputs": [],
      "source": []
    },
    {
      "cell_type": "markdown",
      "metadata": {
        "id": "kwdH-PVhW-Bb"
      },
      "source": [
        "This is the final step explorer, check your answer against this function. You'll see if it's correct."
      ]
    },
    {
      "cell_type": "code",
      "execution_count": null,
      "metadata": {
        "id": "Lt0iUy5URySG"
      },
      "outputs": [],
      "source": []
    },
    {
      "cell_type": "markdown",
      "metadata": {
        "id": "FanV8BxJgCvf"
      },
      "source": [
        "# **Finishing remarks**"
      ]
    },
    {
      "cell_type": "markdown",
      "metadata": {
        "id": "E9Jj0HUmgJzG"
      },
      "source": [
        "Thank you explorer! We found the secrets and live to tell the tale. Who knew the answer would be so deep and profound. Generations will tell your story. Be proud explorer, we couldn't have done it without you!\n",
        "\n"
      ]
    }
  ],
  "metadata": {
    "colab": {
      "collapsed_sections": [
        "VBX1kUcgA1-E",
        "820CL8xgStkE",
        "FanV8BxJgCvf"
      ],
      "name": "NumPyExercise.ipynb",
      "provenance": []
    },
    "kernelspec": {
      "display_name": "Python 3.10.4 64-bit",
      "language": "python",
      "name": "python3"
    },
    "language_info": {
      "codemirror_mode": {
        "name": "ipython",
        "version": 3
      },
      "file_extension": ".py",
      "mimetype": "text/x-python",
      "name": "python",
      "nbconvert_exporter": "python",
      "pygments_lexer": "ipython3",
      "version": "3.10.4"
    },
    "vscode": {
      "interpreter": {
        "hash": "f5eca92718e951170f856e9607f19359513d9aa21561fc783764574a503abe18"
      }
    }
  },
  "nbformat": 4,
  "nbformat_minor": 0
}
