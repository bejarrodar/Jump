{
  "nbformat": 4,
  "nbformat_minor": 0,
  "metadata": {
    "colab": {
      "name": "PythonWeek2.ipynb",
      "provenance": [],
      "collapsed_sections": []
    },
    "kernelspec": {
      "name": "python3",
      "display_name": "Python 3"
    },
    "language_info": {
      "name": "python"
    }
  },
  "cells": [
    {
      "cell_type": "code",
      "source": [
        "from datetime import date"
      ],
      "metadata": {
        "id": "2Zx2h138Df16"
      },
      "execution_count": 6,
      "outputs": []
    },
    {
      "cell_type": "code",
      "execution_count": null,
      "metadata": {
        "id": "h33RXWI0vZOj",
        "outputId": "3415b37c-c89b-4956-8432-0604bc22702f",
        "colab": {
          "base_uri": "https://localhost:8080/"
        }
      },
      "outputs": [
        {
          "output_type": "stream",
          "name": "stdout",
          "text": [
            "Hello World\n"
          ]
        }
      ],
      "source": [
        "print(\"Hello World\")"
      ]
    },
    {
      "cell_type": "code",
      "source": [
        "condition = False\n",
        "if condition: \n",
        "  print(\"Hello\")\n",
        "  print(\"foo bar\")\n",
        "print(\"World\")"
      ],
      "metadata": {
        "colab": {
          "base_uri": "https://localhost:8080/"
        },
        "id": "-l6trzjX1qFp",
        "outputId": "bdc73ec8-17df-45a6-9fdb-4d51e5d74af5"
      },
      "execution_count": null,
      "outputs": [
        {
          "output_type": "stream",
          "name": "stdout",
          "text": [
            "World\n"
          ]
        }
      ]
    },
    {
      "cell_type": "code",
      "source": [
        "bool(\"Hello\")"
      ],
      "metadata": {
        "colab": {
          "base_uri": "https://localhost:8080/"
        },
        "id": "_Ads4WI-3YXk",
        "outputId": "ddbfab9f-94be-4b9f-9cbd-d5e668913927"
      },
      "execution_count": null,
      "outputs": [
        {
          "output_type": "execute_result",
          "data": {
            "text/plain": [
              "True"
            ]
          },
          "metadata": {},
          "execution_count": 8
        }
      ]
    },
    {
      "cell_type": "code",
      "source": [
        "my_str = \"Hello World\"\n",
        "print(len(my_str))\n",
        "print(my_str.__len__())"
      ],
      "metadata": {
        "colab": {
          "base_uri": "https://localhost:8080/"
        },
        "id": "RYktolmJ4o6-",
        "outputId": "fe5efb7e-569c-49a0-b6d5-a0e734f9abfb"
      },
      "execution_count": null,
      "outputs": [
        {
          "output_type": "stream",
          "name": "stdout",
          "text": [
            "11\n",
            "11\n"
          ]
        }
      ]
    },
    {
      "cell_type": "code",
      "source": [
        "f\"Hello {40 + 2}, {len(my_str)}\""
      ],
      "metadata": {
        "colab": {
          "base_uri": "https://localhost:8080/",
          "height": 35
        },
        "id": "9vSStXuF40Tn",
        "outputId": "abca3cee-b5bf-4c4a-f5d5-44b3578b7db9"
      },
      "execution_count": null,
      "outputs": [
        {
          "output_type": "execute_result",
          "data": {
            "text/plain": [
              "'Hello 42, 11'"
            ],
            "application/vnd.google.colaboratory.intrinsic+json": {
              "type": "string"
            }
          },
          "metadata": {},
          "execution_count": 15
        }
      ]
    },
    {
      "cell_type": "code",
      "source": [
        "print(__name__)"
      ],
      "metadata": {
        "colab": {
          "base_uri": "https://localhost:8080/"
        },
        "id": "grNDEFko4_k-",
        "outputId": "95e294f0-05fd-4378-8e51-6543954a0939"
      },
      "execution_count": null,
      "outputs": [
        {
          "output_type": "stream",
          "name": "stdout",
          "text": [
            "__main__\n"
          ]
        }
      ]
    },
    {
      "cell_type": "code",
      "source": [
        "def greeting(name=\"World\", greet=\"Hello\"):\n",
        "  return f\"{greet}, {name}!\"\n",
        "\n",
        "greeting(greet = \"Good Morning\", name = \"Python\")"
      ],
      "metadata": {
        "colab": {
          "base_uri": "https://localhost:8080/",
          "height": 35
        },
        "id": "3TD2HVsd_U3I",
        "outputId": "af5ef896-0121-4b52-b1da-5465f7a8df55"
      },
      "execution_count": null,
      "outputs": [
        {
          "output_type": "execute_result",
          "data": {
            "text/plain": [
              "'Good Morning, Python!'"
            ],
            "application/vnd.google.colaboratory.intrinsic+json": {
              "type": "string"
            }
          },
          "metadata": {},
          "execution_count": 20
        }
      ]
    },
    {
      "cell_type": "code",
      "source": [
        "def print_many(*nums):\n",
        "  print(type(nums))\n",
        "  print(nums)\n",
        "  \n",
        "print_many(1,2,3,4,5,6)"
      ],
      "metadata": {
        "colab": {
          "base_uri": "https://localhost:8080/"
        },
        "id": "CY6rRI9TAjiC",
        "outputId": "d5179c5d-7be5-4936-ff2a-85a6909992bb"
      },
      "execution_count": null,
      "outputs": [
        {
          "output_type": "stream",
          "name": "stdout",
          "text": [
            "<class 'tuple'>\n",
            "(1, 2, 3, 4, 5, 6)\n"
          ]
        }
      ]
    },
    {
      "cell_type": "code",
      "source": [
        "def print_pairs(**items):\n",
        "  print(type(items))\n",
        "  print(items)\n",
        "\n",
        "print_pairs(a=1, b=2, c=3)"
      ],
      "metadata": {
        "colab": {
          "base_uri": "https://localhost:8080/"
        },
        "id": "8f1lnNNGCgwK",
        "outputId": "911a9b6b-3141-43f9-c64f-7b40896d6b59"
      },
      "execution_count": null,
      "outputs": [
        {
          "output_type": "stream",
          "name": "stdout",
          "text": [
            "<class 'dict'>\n",
            "{'a': 1, 'b': 2, 'c': 3}\n"
          ]
        }
      ]
    },
    {
      "cell_type": "code",
      "source": [
        "try:\n",
        "  age = input(\"Enter your age: \")\n",
        "  age = int(age)\n",
        "except ValueError as e:\n",
        "  print(e)\n",
        "else: \n",
        "  print(\"Age\", age)\n",
        "  year = date.today().year - age\n",
        "  print(\"Birth year:\", year, \"+/-1\")\n",
        "  year_str = str(year)\n",
        "  print(year_str[-2:])\n",
        "  print(year % 100)"
      ],
      "metadata": {
        "colab": {
          "base_uri": "https://localhost:8080/"
        },
        "id": "bInpAaTaCIef",
        "outputId": "2fe1a66b-06a3-426d-d0ad-2c82c6a48993"
      },
      "execution_count": 18,
      "outputs": [
        {
          "output_type": "stream",
          "name": "stdout",
          "text": [
            "Enter your age: 33\n",
            "Age 33\n",
            "Birth year: 1989 +/-1\n",
            "89\n",
            "89\n"
          ]
        }
      ]
    },
    {
      "cell_type": "code",
      "source": [
        "class Pet: \n",
        "  job = \"companion\"\n",
        "\n",
        "  def __init__(self, name, age):\n",
        "    print(\"Creating new pet!\")\n",
        "    self.name = name\n",
        "    self.age = age\n",
        "    self.pet_toys = []\n",
        "  \n",
        "  def say_hi():\n",
        "    return \"Hello, I am a Pet!\"\n",
        "\n",
        "  def greeting(self):\n",
        "    return f\"Hello, my name is {self.name}\"\n",
        "\n",
        "  def __str__(self):\n",
        "    return f\"Pet: [name: {self.name}, age: {self.age}, pet toys: {self.pet_toys}]\"\n"
      ],
      "metadata": {
        "id": "DnKUji3KOTwR"
      },
      "execution_count": 134,
      "outputs": []
    },
    {
      "cell_type": "code",
      "source": [
        "print(Pet, Pet.job)"
      ],
      "metadata": {
        "colab": {
          "base_uri": "https://localhost:8080/"
        },
        "id": "5gw-ZLhGOo0-",
        "outputId": "5263b6c6-9e74-4692-8c32-21ea16a19513"
      },
      "execution_count": 38,
      "outputs": [
        {
          "output_type": "stream",
          "name": "stdout",
          "text": [
            "<class '__main__.Pet'> companion\n"
          ]
        }
      ]
    },
    {
      "cell_type": "code",
      "source": [
        "loki = Pet(\"Loki\", 5)\n",
        "print(loki.job, loki.name, loki.age)"
      ],
      "metadata": {
        "colab": {
          "base_uri": "https://localhost:8080/"
        },
        "id": "SmY2m0MVOwey",
        "outputId": "a181a4c8-933d-4244-9497-d37e43689cbc"
      },
      "execution_count": 125,
      "outputs": [
        {
          "output_type": "stream",
          "name": "stdout",
          "text": [
            "Creating new pet!\n",
            "companion Loki 5\n"
          ]
        }
      ]
    },
    {
      "cell_type": "code",
      "source": [
        "id(loki)"
      ],
      "metadata": {
        "colab": {
          "base_uri": "https://localhost:8080/"
        },
        "id": "cFdMiYFTsPef",
        "outputId": "aa66d8a4-7de2-4c16-929e-7342c0d8648e"
      },
      "execution_count": 71,
      "outputs": [
        {
          "output_type": "execute_result",
          "data": {
            "text/plain": [
              "140025893617936"
            ]
          },
          "metadata": {},
          "execution_count": 71
        }
      ]
    },
    {
      "cell_type": "code",
      "source": [
        "ginger = Pet(\"Ginger\", 7)\n",
        "print(ginger.job, ginger.name, ginger.age)"
      ],
      "metadata": {
        "colab": {
          "base_uri": "https://localhost:8080/"
        },
        "id": "at8Z10GXQVT9",
        "outputId": "0bbeb3d5-cbad-49e1-ac7f-59014180b363"
      },
      "execution_count": 126,
      "outputs": [
        {
          "output_type": "stream",
          "name": "stdout",
          "text": [
            "Creating new pet!\n",
            "companion Ginger 7\n"
          ]
        }
      ]
    },
    {
      "cell_type": "code",
      "source": [
        "Pet.say_hi()"
      ],
      "metadata": {
        "colab": {
          "base_uri": "https://localhost:8080/",
          "height": 36
        },
        "id": "Hk29I-rYSe-K",
        "outputId": "76902e3d-f910-4378-98ec-397d7a1a58d4"
      },
      "execution_count": 44,
      "outputs": [
        {
          "output_type": "execute_result",
          "data": {
            "text/plain": [
              "'Hello, I am a Pet!'"
            ],
            "application/vnd.google.colaboratory.intrinsic+json": {
              "type": "string"
            }
          },
          "metadata": {},
          "execution_count": 44
        }
      ]
    },
    {
      "cell_type": "code",
      "source": [
        "ginger.greeting()"
      ],
      "metadata": {
        "colab": {
          "base_uri": "https://localhost:8080/",
          "height": 36
        },
        "id": "9hUyLvWTSrMt",
        "outputId": "3cf7c87c-15eb-4169-d14e-1835bda07f88"
      },
      "execution_count": 50,
      "outputs": [
        {
          "output_type": "execute_result",
          "data": {
            "text/plain": [
              "'Hello, my name is Ginger'"
            ],
            "application/vnd.google.colaboratory.intrinsic+json": {
              "type": "string"
            }
          },
          "metadata": {},
          "execution_count": 50
        }
      ]
    },
    {
      "cell_type": "code",
      "source": [
        "Pet.greeting(ginger)"
      ],
      "metadata": {
        "colab": {
          "base_uri": "https://localhost:8080/",
          "height": 36
        },
        "id": "Nm1CzLT-Te-l",
        "outputId": "0891cd6d-4ea2-4483-f27d-7b114089ca20"
      },
      "execution_count": 52,
      "outputs": [
        {
          "output_type": "execute_result",
          "data": {
            "text/plain": [
              "'Hello, my name is Ginger'"
            ],
            "application/vnd.google.colaboratory.intrinsic+json": {
              "type": "string"
            }
          },
          "metadata": {},
          "execution_count": 52
        }
      ]
    },
    {
      "cell_type": "code",
      "source": [
        "ginger.pet_toys.append(\"Tennis Ball\")\n",
        "ginger.pet_toys"
      ],
      "metadata": {
        "colab": {
          "base_uri": "https://localhost:8080/"
        },
        "id": "IguBt_WOqqqx",
        "outputId": "8e58162c-f31b-4096-bd48-db9b084ba660"
      },
      "execution_count": 62,
      "outputs": [
        {
          "output_type": "execute_result",
          "data": {
            "text/plain": [
              "['Tennis Ball']"
            ]
          },
          "metadata": {},
          "execution_count": 62
        }
      ]
    },
    {
      "cell_type": "code",
      "source": [
        "Pet.job = \"Great Companion\"\n",
        "Pet.job"
      ],
      "metadata": {
        "colab": {
          "base_uri": "https://localhost:8080/",
          "height": 36
        },
        "id": "yEfN1wdmreWP",
        "outputId": "9745bb14-5334-41bc-ee36-f90f77815529"
      },
      "execution_count": 72,
      "outputs": [
        {
          "output_type": "execute_result",
          "data": {
            "text/plain": [
              "'Great Companion'"
            ],
            "application/vnd.google.colaboratory.intrinsic+json": {
              "type": "string"
            }
          },
          "metadata": {},
          "execution_count": 72
        }
      ]
    },
    {
      "cell_type": "code",
      "source": [
        "loki.job"
      ],
      "metadata": {
        "colab": {
          "base_uri": "https://localhost:8080/",
          "height": 36
        },
        "id": "Yl0EwsaSrkMs",
        "outputId": "7269f054-2677-4ab6-ab7e-0509fc76d51d"
      },
      "execution_count": 76,
      "outputs": [
        {
          "output_type": "execute_result",
          "data": {
            "text/plain": [
              "'companion'"
            ],
            "application/vnd.google.colaboratory.intrinsic+json": {
              "type": "string"
            }
          },
          "metadata": {},
          "execution_count": 76
        }
      ]
    },
    {
      "cell_type": "code",
      "source": [
        "bob = Pet(\"Bob\", \"Angel Fish\")\n",
        "bob.job"
      ],
      "metadata": {
        "colab": {
          "base_uri": "https://localhost:8080/",
          "height": 53
        },
        "id": "F3Gz0yuzrqd_",
        "outputId": "884c9c23-d619-4e01-d053-4296cc6df5a5"
      },
      "execution_count": 66,
      "outputs": [
        {
          "output_type": "stream",
          "name": "stdout",
          "text": [
            "Creating new pet!\n"
          ]
        },
        {
          "output_type": "execute_result",
          "data": {
            "text/plain": [
              "'Great Companion'"
            ],
            "application/vnd.google.colaboratory.intrinsic+json": {
              "type": "string"
            }
          },
          "metadata": {},
          "execution_count": 66
        }
      ]
    },
    {
      "cell_type": "code",
      "source": [
        "loki = Pet(\"Loki\", \"Tabby Cat\")\n",
        "loki.job"
      ],
      "metadata": {
        "colab": {
          "base_uri": "https://localhost:8080/",
          "height": 53
        },
        "id": "x7LR1Is7r_3L",
        "outputId": "6c4d2e0a-6879-4438-c965-154870f02d8b"
      },
      "execution_count": 77,
      "outputs": [
        {
          "output_type": "stream",
          "name": "stdout",
          "text": [
            "Creating new pet!\n"
          ]
        },
        {
          "output_type": "execute_result",
          "data": {
            "text/plain": [
              "'companion'"
            ],
            "application/vnd.google.colaboratory.intrinsic+json": {
              "type": "string"
            }
          },
          "metadata": {},
          "execution_count": 77
        }
      ]
    },
    {
      "cell_type": "code",
      "source": [
        "id(loki)"
      ],
      "metadata": {
        "colab": {
          "base_uri": "https://localhost:8080/"
        },
        "id": "-wZHzoKDsgFx",
        "outputId": "a83fcb95-1640-46fa-b924-b84dfdaa8a49"
      },
      "execution_count": 78,
      "outputs": [
        {
          "output_type": "execute_result",
          "data": {
            "text/plain": [
              "140025759205008"
            ]
          },
          "metadata": {},
          "execution_count": 78
        }
      ]
    },
    {
      "cell_type": "code",
      "source": [
        "x = Pet(\"Loki\", \"Tabby Cat\")\n",
        "x = Pet(\"Loki\", \"Tabby Cat\")\n",
        "id(x) == id(y)"
      ],
      "metadata": {
        "colab": {
          "base_uri": "https://localhost:8080/"
        },
        "id": "ReMZzQCksm0u",
        "outputId": "1e23888f-3374-4ae2-8b22-99ae07cdb8c0"
      },
      "execution_count": 86,
      "outputs": [
        {
          "output_type": "stream",
          "name": "stdout",
          "text": [
            "Creating new pet!\n",
            "Creating new pet!\n"
          ]
        },
        {
          "output_type": "execute_result",
          "data": {
            "text/plain": [
              "False"
            ]
          },
          "metadata": {},
          "execution_count": 86
        }
      ]
    },
    {
      "cell_type": "code",
      "source": [
        "str(loki)"
      ],
      "metadata": {
        "colab": {
          "base_uri": "https://localhost:8080/",
          "height": 36
        },
        "id": "yhcdLOAOuM9r",
        "outputId": "af5d556f-2718-49b9-e79a-2e563850c848"
      },
      "execution_count": 94,
      "outputs": [
        {
          "output_type": "execute_result",
          "data": {
            "text/plain": [
              "'Pet: [name: Loki, kind: Tabby Cat, pet toys: []]'"
            ],
            "application/vnd.google.colaboratory.intrinsic+json": {
              "type": "string"
            }
          },
          "metadata": {},
          "execution_count": 94
        }
      ]
    },
    {
      "cell_type": "code",
      "source": [
        "class ExClass: \n",
        "  counter = 0\n",
        "\n",
        "  def __init__(self):\n",
        "    ExClass.counter += 1\n",
        "    self.id = ExClass.counter\n",
        "\n",
        "  def __str__(self):\n",
        "    return \"Hello World!\"\n",
        "\n",
        "  def __add__(self, other):\n",
        "    return self.id + other.id\n",
        "  \n",
        "  def __sub__(self, other):\n",
        "    return self.id - other.id"
      ],
      "metadata": {
        "id": "0eR7yZhIu7p8"
      },
      "execution_count": 117,
      "outputs": []
    },
    {
      "cell_type": "code",
      "source": [
        "\n",
        "exclass = ExClass()\n",
        "exclass2 = ExClass()"
      ],
      "metadata": {
        "id": "OL1t6pUZvEDK"
      },
      "execution_count": 118,
      "outputs": []
    },
    {
      "cell_type": "code",
      "source": [
        "str(exclass)"
      ],
      "metadata": {
        "colab": {
          "base_uri": "https://localhost:8080/",
          "height": 36
        },
        "id": "yGTZNoeSvBf4",
        "outputId": "4e644fae-d701-47ef-a919-fab883aeb415"
      },
      "execution_count": 106,
      "outputs": [
        {
          "output_type": "execute_result",
          "data": {
            "text/plain": [
              "'Hello World!'"
            ],
            "application/vnd.google.colaboratory.intrinsic+json": {
              "type": "string"
            }
          },
          "metadata": {},
          "execution_count": 106
        }
      ]
    },
    {
      "cell_type": "code",
      "source": [
        "repr(exclass)"
      ],
      "metadata": {
        "colab": {
          "base_uri": "https://localhost:8080/",
          "height": 36
        },
        "id": "Mor0BGEXxHe1",
        "outputId": "b29acbed-b0fd-474f-c9e7-b58f5b4baebf"
      },
      "execution_count": 120,
      "outputs": [
        {
          "output_type": "execute_result",
          "data": {
            "text/plain": [
              "'<__main__.ExClass object at 0x7f5a49abe410>'"
            ],
            "application/vnd.google.colaboratory.intrinsic+json": {
              "type": "string"
            }
          },
          "metadata": {},
          "execution_count": 120
        }
      ]
    },
    {
      "cell_type": "code",
      "source": [
        "exclass - exclass2"
      ],
      "metadata": {
        "colab": {
          "base_uri": "https://localhost:8080/"
        },
        "id": "0DsZ3bmFvoSb",
        "outputId": "4a2e7d79-0e9f-4dcd-8db5-b051f5faf339"
      },
      "execution_count": 119,
      "outputs": [
        {
          "output_type": "execute_result",
          "data": {
            "text/plain": [
              "-1"
            ]
          },
          "metadata": {},
          "execution_count": 119
        }
      ]
    },
    {
      "cell_type": "code",
      "source": [
        "class Dog(Pet): \n",
        "  def __init__(self, name, age, breed):\n",
        "      super().__init__(name, age)\n",
        "      self.breed = breed\n",
        "\n",
        "  def greeting(self):\n",
        "    return f\"Bark!  My name is {self.name}\"\n",
        "  \n",
        "  def __str__(self):\n",
        "      return f\"Pet: [name: {self.name}, age: {self.age}, breed: {self.breed}, pet toys: {self.pet_toys}]\""
      ],
      "metadata": {
        "id": "rNwZzcwpy9vR"
      },
      "execution_count": 158,
      "outputs": []
    },
    {
      "cell_type": "code",
      "source": [
        "ginger = Dog(\"Ginger\", 7, \"Irish Setter\")\n",
        "ginger.greeting()"
      ],
      "metadata": {
        "colab": {
          "base_uri": "https://localhost:8080/",
          "height": 53
        },
        "id": "2GjNYtGfz_Nz",
        "outputId": "4f0a750a-44f4-4a3c-ac15-bd01a382c2fe"
      },
      "execution_count": 159,
      "outputs": [
        {
          "output_type": "stream",
          "name": "stdout",
          "text": [
            "Creating new pet!\n"
          ]
        },
        {
          "output_type": "execute_result",
          "data": {
            "text/plain": [
              "'Bark!  My name is Ginger'"
            ],
            "application/vnd.google.colaboratory.intrinsic+json": {
              "type": "string"
            }
          },
          "metadata": {},
          "execution_count": 159
        }
      ]
    },
    {
      "cell_type": "code",
      "source": [
        "loki.greeting()"
      ],
      "metadata": {
        "colab": {
          "base_uri": "https://localhost:8080/",
          "height": 36
        },
        "id": "uqPB9sEP9fbF",
        "outputId": "388c5f03-313d-423c-fe93-0871a3121885"
      },
      "execution_count": 160,
      "outputs": [
        {
          "output_type": "execute_result",
          "data": {
            "text/plain": [
              "'Hello, my name is Loki'"
            ],
            "application/vnd.google.colaboratory.intrinsic+json": {
              "type": "string"
            }
          },
          "metadata": {},
          "execution_count": 160
        }
      ]
    },
    {
      "cell_type": "code",
      "source": [
        "print(ginger)"
      ],
      "metadata": {
        "colab": {
          "base_uri": "https://localhost:8080/"
        },
        "id": "jHYsC-iV1k02",
        "outputId": "5e1b88e4-769b-4f93-a8a3-b0a5d3c2b726"
      },
      "execution_count": 152,
      "outputs": [
        {
          "output_type": "stream",
          "name": "stdout",
          "text": [
            "Pet: [name: Ginger, age: 7, breed: Irish Setter, pet toys: []]\n"
          ]
        }
      ]
    },
    {
      "cell_type": "code",
      "source": [
        "class Caregiver:\n",
        "  def __init__(self, name, pet):\n",
        "    self.name = name\n",
        "    self.pet = pet"
      ],
      "metadata": {
        "id": "YmfuD5rt2cVa"
      },
      "execution_count": 154,
      "outputs": []
    },
    {
      "cell_type": "code",
      "source": [
        "rex = Dog(\"Rex\", 3, \"Golden Retriver\")\n",
        "\n",
        "alice = Caregiver(\"Alice\", rex)\n",
        "alice.pet"
      ],
      "metadata": {
        "colab": {
          "base_uri": "https://localhost:8080/"
        },
        "id": "0NHIXcgq2gLF",
        "outputId": "82bf660b-a9a6-44fb-cb74-10b114dbe02b"
      },
      "execution_count": 157,
      "outputs": [
        {
          "output_type": "stream",
          "name": "stdout",
          "text": [
            "Creating new pet!\n"
          ]
        },
        {
          "output_type": "execute_result",
          "data": {
            "text/plain": [
              "<__main__.Dog at 0x7f5a49998a50>"
            ]
          },
          "metadata": {},
          "execution_count": 157
        }
      ]
    },
    {
      "cell_type": "code",
      "source": [
        "class Bird: \n",
        "  movement = \"flight\"\n",
        "\n",
        "  def __init__(self, wings) -> None:\n",
        "      print(\"Creating a new bird\")\n",
        "      self.wings = wings\n",
        "\n",
        "  def wing_type(self):\n",
        "    return f\"This bird has {self.wings} wings.\"\n",
        "\n",
        "  def say_name(self:Pet) -> str:\n",
        "    return f\"Squawk! {self.name}\"\n",
        "\n",
        "  def greeting(self):\n",
        "    return f\"Hello, I am a bird with {self.wings}\""
      ],
      "metadata": {
        "id": "vr8vF1xc2tm4"
      },
      "execution_count": 207,
      "outputs": []
    },
    {
      "cell_type": "code",
      "source": [
        "class Parrot(Pet, Bird):\n",
        "\n",
        "  def __init__(self, name, age, wings):\n",
        "      super().__init__(name, age)\n",
        "      self.wings = wings"
      ],
      "metadata": {
        "id": "mXbVVWwI-zic"
      },
      "execution_count": 208,
      "outputs": []
    },
    {
      "cell_type": "code",
      "source": [
        "polly = Parrot(\"Polly\", 30, \"colorful\")\n",
        "polly.movement"
      ],
      "metadata": {
        "colab": {
          "base_uri": "https://localhost:8080/",
          "height": 53
        },
        "id": "cvhATIco-8S3",
        "outputId": "70b1e137-d5aa-4849-cda8-6d6cf5619554"
      },
      "execution_count": 209,
      "outputs": [
        {
          "output_type": "stream",
          "name": "stdout",
          "text": [
            "Creating new pet!\n"
          ]
        },
        {
          "output_type": "execute_result",
          "data": {
            "text/plain": [
              "'flight'"
            ],
            "application/vnd.google.colaboratory.intrinsic+json": {
              "type": "string"
            }
          },
          "metadata": {},
          "execution_count": 209
        }
      ]
    },
    {
      "cell_type": "code",
      "source": [
        "polly.wing_type()"
      ],
      "metadata": {
        "colab": {
          "base_uri": "https://localhost:8080/",
          "height": 36
        },
        "id": "D62pa820_brM",
        "outputId": "606bd5be-cdde-4e3a-9ef9-c9726a74cecd"
      },
      "execution_count": 210,
      "outputs": [
        {
          "output_type": "execute_result",
          "data": {
            "text/plain": [
              "'This bird has colorful wings.'"
            ],
            "application/vnd.google.colaboratory.intrinsic+json": {
              "type": "string"
            }
          },
          "metadata": {},
          "execution_count": 210
        }
      ]
    },
    {
      "cell_type": "code",
      "source": [
        "polly.say_name()"
      ],
      "metadata": {
        "colab": {
          "base_uri": "https://localhost:8080/",
          "height": 36
        },
        "id": "QMPnQ4L0BTAO",
        "outputId": "98039672-7a7e-43e1-b29b-bf2ff5701390"
      },
      "execution_count": 211,
      "outputs": [
        {
          "output_type": "execute_result",
          "data": {
            "text/plain": [
              "'Squawk! Polly'"
            ],
            "application/vnd.google.colaboratory.intrinsic+json": {
              "type": "string"
            }
          },
          "metadata": {},
          "execution_count": 211
        }
      ]
    },
    {
      "cell_type": "code",
      "source": [
        "polly.greeting()"
      ],
      "metadata": {
        "colab": {
          "base_uri": "https://localhost:8080/",
          "height": 36
        },
        "id": "GAIsX_thCMk5",
        "outputId": "9492db0d-3a6e-4f24-9656-88ff1bbdb8a3"
      },
      "execution_count": 212,
      "outputs": [
        {
          "output_type": "execute_result",
          "data": {
            "text/plain": [
              "'Hello, my name is Polly'"
            ],
            "application/vnd.google.colaboratory.intrinsic+json": {
              "type": "string"
            }
          },
          "metadata": {},
          "execution_count": 212
        }
      ]
    },
    {
      "cell_type": "code",
      "source": [
        "class Person:\n",
        "  def __init__(self, name, age, id) -> None:\n",
        "      self.name = name\n",
        "      self._age = age\n",
        "      self.__id = id\n",
        "  \n",
        "  @property\n",
        "  def id(self):\n",
        "    print(\"calling getter\")\n",
        "    return self.__id\n",
        "  \n",
        "  @id.setter\n",
        "  def id(self, id):\n",
        "    print(\"calling setter\")\n",
        "    if isinstance(id, int):\n",
        "      self.__id = id\n",
        "\n",
        "  def get_age(self): \n",
        "    return self._age\n",
        "  \n",
        "  def set_age(self, age):\n",
        "     if isinstance(age, int):\n",
        "      self._age = age"
      ],
      "metadata": {
        "id": "Ju-3Xuj9DmkM"
      },
      "execution_count": 273,
      "outputs": []
    },
    {
      "cell_type": "code",
      "source": [
        "alice = Person(\"Alice\", 30, 1234)\n",
        "bob = Person(\"Bob\", 27, 4321)"
      ],
      "metadata": {
        "id": "9pfUxJm1D2FL"
      },
      "execution_count": 270,
      "outputs": []
    },
    {
      "cell_type": "code",
      "source": [
        "alice.id"
      ],
      "metadata": {
        "colab": {
          "base_uri": "https://localhost:8080/"
        },
        "id": "EtS4IVKPEFUL",
        "outputId": "7797179a-0ceb-4779-f8da-5056a9e40bde"
      },
      "execution_count": 272,
      "outputs": [
        {
          "output_type": "stream",
          "name": "stdout",
          "text": [
            "calling getter\n"
          ]
        },
        {
          "output_type": "execute_result",
          "data": {
            "text/plain": [
              "1234"
            ]
          },
          "metadata": {},
          "execution_count": 272
        }
      ]
    },
    {
      "cell_type": "code",
      "source": [
        "alice.id = \"foobar\""
      ],
      "metadata": {
        "colab": {
          "base_uri": "https://localhost:8080/"
        },
        "id": "OsdYsnM0Gn57",
        "outputId": "05be9a64-f6dd-471b-9b28-5fdcbb4d89fb"
      },
      "execution_count": 263,
      "outputs": [
        {
          "output_type": "stream",
          "name": "stdout",
          "text": [
            "calling setter\n"
          ]
        }
      ]
    },
    {
      "cell_type": "code",
      "source": [
        "alice.__id"
      ],
      "metadata": {
        "colab": {
          "base_uri": "https://localhost:8080/",
          "height": 168
        },
        "id": "0domKsqtFBID",
        "outputId": "c9c05775-9038-4faa-d785-bcedddb60260"
      },
      "execution_count": 227,
      "outputs": [
        {
          "output_type": "error",
          "ename": "AttributeError",
          "evalue": "ignored",
          "traceback": [
            "\u001b[0;31m---------------------------------------------------------------------------\u001b[0m",
            "\u001b[0;31mAttributeError\u001b[0m                            Traceback (most recent call last)",
            "\u001b[0;32m<ipython-input-227-285a529d1da1>\u001b[0m in \u001b[0;36m<module>\u001b[0;34m()\u001b[0m\n\u001b[0;32m----> 1\u001b[0;31m \u001b[0malice\u001b[0m\u001b[0;34m.\u001b[0m\u001b[0m__id\u001b[0m\u001b[0;34m\u001b[0m\u001b[0;34m\u001b[0m\u001b[0m\n\u001b[0m",
            "\u001b[0;31mAttributeError\u001b[0m: 'Person' object has no attribute '__id'"
          ]
        }
      ]
    },
    {
      "cell_type": "code",
      "source": [
        "alice._Person__id"
      ],
      "metadata": {
        "colab": {
          "base_uri": "https://localhost:8080/"
        },
        "id": "RdCQlhqfEqPu",
        "outputId": "d3b10c2b-576d-4341-d6a7-0d78a41ea222"
      },
      "execution_count": 225,
      "outputs": [
        {
          "output_type": "execute_result",
          "data": {
            "text/plain": [
              "1234"
            ]
          },
          "metadata": {},
          "execution_count": 225
        }
      ]
    },
    {
      "cell_type": "code",
      "source": [
        "bob.age = \"foobar\"\n",
        "bob.age"
      ],
      "metadata": {
        "colab": {
          "base_uri": "https://localhost:8080/",
          "height": 36
        },
        "id": "_onTmW48ELwr",
        "outputId": "4264e16b-fe1d-479a-c718-28a06d1901ea"
      },
      "execution_count": 234,
      "outputs": [
        {
          "output_type": "execute_result",
          "data": {
            "text/plain": [
              "'foobar'"
            ],
            "application/vnd.google.colaboratory.intrinsic+json": {
              "type": "string"
            }
          },
          "metadata": {},
          "execution_count": 234
        }
      ]
    },
    {
      "cell_type": "code",
      "source": [
        "alice.get_id()"
      ],
      "metadata": {
        "colab": {
          "base_uri": "https://localhost:8080/"
        },
        "id": "PxQhBKprFgJe",
        "outputId": "a78838d9-b14b-4f4c-a5c1-5cc13fd9cbf8"
      },
      "execution_count": 240,
      "outputs": [
        {
          "output_type": "execute_result",
          "data": {
            "text/plain": [
              "2345"
            ]
          },
          "metadata": {},
          "execution_count": 240
        }
      ]
    },
    {
      "cell_type": "code",
      "source": [
        "alice.set_id(\"foobar\")"
      ],
      "metadata": {
        "id": "AzfbbkjzFk_4"
      },
      "execution_count": 239,
      "outputs": []
    },
    {
      "cell_type": "code",
      "source": [
        "class MyClass: \n",
        "  def __init__(self):\n",
        "    print(\"Calling __init__\")"
      ],
      "metadata": {
        "id": "Nr7NTXpvJDJa"
      },
      "execution_count": 284,
      "outputs": []
    },
    {
      "cell_type": "code",
      "source": [
        "myClass1 = MyClass()\n",
        "myClass2 = MyClass()\n",
        "myClass3 = MyClass()"
      ],
      "metadata": {
        "colab": {
          "base_uri": "https://localhost:8080/"
        },
        "id": "L6nl_5CDJLqc",
        "outputId": "1e52896a-07d6-49fe-fe07-a5c14402d2f4"
      },
      "execution_count": 285,
      "outputs": [
        {
          "output_type": "stream",
          "name": "stdout",
          "text": [
            "Calling __init__\n",
            "Calling __init__\n",
            "Calling __init__\n"
          ]
        }
      ]
    },
    {
      "cell_type": "code",
      "source": [
        "myClass1"
      ],
      "metadata": {
        "colab": {
          "base_uri": "https://localhost:8080/"
        },
        "id": "5iDcEfxrJok7",
        "outputId": "da8c5e2d-0f17-4825-dd7b-c5f1eb11cf44"
      },
      "execution_count": 286,
      "outputs": [
        {
          "output_type": "execute_result",
          "data": {
            "text/plain": [
              "<__main__.MyClass at 0x7f5a498f9150>"
            ]
          },
          "metadata": {},
          "execution_count": 286
        }
      ]
    }
  ]
}